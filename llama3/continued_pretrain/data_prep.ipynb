{
  "cells": [
    {
      "cell_type": "code",
      "execution_count": 1,
      "metadata": {},
      "outputs": [],
      "source": [
        "# Define the directory where your texts are stored\n",
        "from llama3 import config\n",
        "import os\n",
        "data_dir = os.path.join(\"POP_en_txt\", \"KARNATAKA\")\n",
        "data_path = os.path.join(config.DATA_DIR, data_dir)\n",
        "n_splits = 1\n",
        "split_size = 1/n_splits\n"
      ]
    },
    {
      "cell_type": "code",
      "execution_count": 2,
      "metadata": {},
      "outputs": [
        {
          "data": {
            "application/vnd.jupyter.widget-view+json": {
              "model_id": "6eac05b695e34507bd8b04d48d67b8e4",
              "version_major": 2,
              "version_minor": 0
            },
            "text/plain": [
              "Map (num_proc=32):   0%|          | 0/219 [00:00<?, ? examples/s]"
            ]
          },
          "metadata": {},
          "output_type": "display_data"
        }
      ],
      "source": [
        "import os\n",
        "from datasets import Dataset\n",
        "\n",
        "def read_files_to_dicts(data_dir):\n",
        "    file_contents = []\n",
        "    for root, dirs, files in os.walk(data_dir):\n",
        "            for filename in files:\n",
        "                # print(filename)\n",
        "                file_path = os.path.join(root, filename)\n",
        "                if os.path.isfile(file_path):\n",
        "                    with open(file_path, encoding=\"utf-8\") as file:\n",
        "                        content = file.read()\n",
        "                    file_contents.append({\"text\": content})\n",
        "    return file_contents\n",
        "\n",
        "# Read all files into a list of dictionaries with their content\n",
        "file_content_dicts = read_files_to_dicts(data_path)\n",
        "\n",
        "# Create a Dataset from the list of dictionaries\n",
        "# checking length to discard curropted inputs\n",
        "agrids = Dataset.from_dict({\"text\": [x[\"text\"] for x in file_content_dicts if len(x[\"text\"]) < 8172411]})\n",
        "\n",
        "def remove_newlines(batch):\n",
        "    batch[\"text\"] = [text.replace(\"\\n\", \" \") for text in batch[\"text\"]]\n",
        "    # batch[\"len\"] = [len(text) for text in batch[\"text\"]]\n",
        "    return batch\n",
        "\n",
        "agrids = agrids.map(\n",
        "    remove_newlines,\n",
        "    batched=True,\n",
        "    num_proc=32,\n",
        ")"
      ]
    },
    {
      "cell_type": "code",
      "execution_count": 3,
      "metadata": {},
      "outputs": [],
      "source": [
        "agridata = agrids.shuffle(seed=42)"
      ]
    },
    {
      "cell_type": "code",
      "execution_count": 5,
      "metadata": {},
      "outputs": [],
      "source": [
        "# Get total number of samples\n",
        "num_samples = len(agridata)\n",
        "\n",
        "# Calculate split size for 5 splits\n",
        "split_size = num_samples // n_splits\n",
        "\n",
        "# Create splits\n",
        "splits = []\n",
        "for i in range(n_splits):\n",
        "    start = i * split_size\n",
        "    end = start + split_size\n",
        "    splits.append(agridata.select(range(start, end)))"
      ]
    },
    {
      "cell_type": "code",
      "execution_count": 6,
      "metadata": {},
      "outputs": [],
      "source": [
        "from datasets import DatasetDict\n",
        "\n",
        "# Assuming you have the list of splits from the previous code\n",
        "splits_dict = DatasetDict({\n",
        "    f\"split_{i + 1}\": split for i, split in enumerate(splits)\n",
        "})"
      ]
    },
    {
      "cell_type": "code",
      "execution_count": 7,
      "metadata": {},
      "outputs": [
        {
          "data": {
            "text/plain": [
              "DatasetDict({\n",
              "    split_1: Dataset({\n",
              "        features: ['text'],\n",
              "        num_rows: 219\n",
              "    })\n",
              "})"
            ]
          },
          "execution_count": 7,
          "metadata": {},
          "output_type": "execute_result"
        }
      ],
      "source": [
        "splits_dict"
      ]
    },
    {
      "cell_type": "code",
      "execution_count": 8,
      "metadata": {},
      "outputs": [],
      "source": [
        "agridata = splits_dict"
      ]
    },
    {
      "cell_type": "code",
      "execution_count": 9,
      "metadata": {
        "id": "dGOQTYtLj5oR"
      },
      "outputs": [
        {
          "name": "stderr",
          "output_type": "stream",
          "text": [
            "/data2/home/sahilkamble/anaconda3/envs/project/lib/python3.12/site-packages/huggingface_hub/file_download.py:1132: FutureWarning: `resume_download` is deprecated and will be removed in version 1.0.0. Downloads always resume when possible. If you want to force a new download, use `force_download=True`.\n",
            "  warnings.warn(\n",
            "Special tokens have been added in the vocabulary, make sure the associated word embeddings are fine-tuned or trained.\n"
          ]
        }
      ],
      "source": [
        "from transformers import AutoTokenizer\n",
        "from llama3.utils import get_llama3_tokenizer\n",
        "\n",
        "tokenizer = get_llama3_tokenizer()"
      ]
    },
    {
      "cell_type": "code",
      "execution_count": 10,
      "metadata": {
        "id": "5gglcXvgj5oS"
      },
      "outputs": [
        {
          "data": {
            "application/vnd.jupyter.widget-view+json": {
              "model_id": "7b86d24236a44043b82b365fc708aef8",
              "version_major": 2,
              "version_minor": 0
            },
            "text/plain": [
              "Map (num_proc=32):   0%|          | 0/219 [00:00<?, ? examples/s]"
            ]
          },
          "metadata": {},
          "output_type": "display_data"
        }
      ],
      "source": [
        "tokenized_data = agridata.map(\n",
        "    lambda batch: tokenizer(batch[\"text\"], max_length=4096, truncation=True),\n",
        "    batched=True,\n",
        "    num_proc=32,\n",
        "    remove_columns=agridata['split_1'].column_names\n",
        ")"
      ]
    },
    {
      "cell_type": "code",
      "execution_count": 11,
      "metadata": {},
      "outputs": [
        {
          "data": {
            "text/plain": [
              "DatasetDict({\n",
              "    split_1: Dataset({\n",
              "        features: ['input_ids', 'attention_mask'],\n",
              "        num_rows: 219\n",
              "    })\n",
              "})"
            ]
          },
          "execution_count": 11,
          "metadata": {},
          "output_type": "execute_result"
        }
      ],
      "source": [
        "tokenized_data"
      ]
    },
    {
      "cell_type": "code",
      "execution_count": 12,
      "metadata": {},
      "outputs": [
        {
          "data": {
            "application/vnd.jupyter.widget-view+json": {
              "model_id": "d97d55dadfd54d8dad932a034475e936",
              "version_major": 2,
              "version_minor": 0
            },
            "text/plain": [
              "Saving the dataset (0/1 shards):   0%|          | 0/219 [00:00<?, ? examples/s]"
            ]
          },
          "metadata": {},
          "output_type": "display_data"
        }
      ],
      "source": [
        "tokenized_data.save_to_disk(f\"./{data_dir}_processed_dataset_llama_3_8B_instruct\")"
      ]
    },
    {
      "cell_type": "code",
      "execution_count": null,
      "metadata": {},
      "outputs": [
        {
          "name": "stderr",
          "output_type": "stream",
          "text": [
            "/home/sahilkamble/.local/lib/python3.11/site-packages/datasets/table.py:1421: FutureWarning: promote has been superseded by mode='default'.\n",
            "  table = cls._concat_blocks(blocks, axis=0)\n"
          ]
        },
        {
          "data": {
            "text/plain": [
              "Dataset({\n",
              "    features: ['input_ids', 'attention_mask'],\n",
              "    num_rows: 6535\n",
              "})"
            ]
          },
          "execution_count": 1,
          "metadata": {},
          "output_type": "execute_result"
        }
      ],
      "source": [
        "from datasets import load_from_disk, concatenate_datasets\n",
        "\n",
        "data = load_from_disk(\"./processed_dataset_llama_2/\")\n",
        "train_data = concatenate_datasets([data[\"split_1\"], data[\"split_2\"], data[\"split_3\"], data[\"split_4\"], data[\"split_5\"]])\n",
        "\n",
        "train_data"
      ]
    },
    {
      "cell_type": "code",
      "execution_count": null,
      "metadata": {},
      "outputs": [],
      "source": [
        "train_data = train_data.to_pandas()"
      ]
    },
    {
      "cell_type": "code",
      "execution_count": null,
      "metadata": {},
      "outputs": [],
      "source": [
        "train_data['len'] = [len(i) for i in train_data['input_ids']]"
      ]
    },
    {
      "cell_type": "code",
      "execution_count": null,
      "metadata": {},
      "outputs": [
        {
          "data": {
            "image/png": "[encoded data removed]",
            "text/plain": [
              "<Figure size 640x480 with 1 Axes>"
            ]
          },
          "metadata": {},
          "output_type": "display_data"
        }
      ],
      "source": [
        "import matplotlib.pyplot as plt\n",
        "\n",
        "plt.hist(train_data['len'], bins=100)\n",
        "plt.title('Histogram of Token Lengths')\n",
        "plt.xlabel('Token Length')\n",
        "plt.ylabel('Number of Examples')\n",
        "plt.show()"
      ]
    }
  ],
  "metadata": {
    "colab": {
      "provenance": []
    },
    "kernelspec": {
      "display_name": "baseclone",
      "language": "python",
      "name": "python3"
    },
    "language_info": {
      "codemirror_mode": {
        "name": "ipython",
        "version": 3
      },
      "file_extension": ".py",
      "mimetype": "text/x-python",
      "name": "python",
      "nbconvert_exporter": "python",
      "pygments_lexer": "ipython3",
      "version": "3.12.3"
    }
  },
  "nbformat": 4,
  "nbformat_minor": 0
}
