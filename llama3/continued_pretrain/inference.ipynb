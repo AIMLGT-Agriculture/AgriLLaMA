{
 "cells": [
  {
   "cell_type": "code",
   "execution_count": 1,
   "metadata": {},
   "outputs": [],
   "source": [
    "from llama3.utils import (\n",
    "    get_llama3,\n",
    "    LlamaIndexCustomLLM\n",
    ")\n",
    "from llama3.config import (\n",
    "    MODELS_DIR\n",
    ")\n",
    "import os"
   ]
  },
  {
   "cell_type": "code",
   "execution_count": 2,
   "metadata": {},
   "outputs": [
    {
     "name": "stderr",
     "output_type": "stream",
     "text": [
      "/data2/home/sahilkamble/anaconda3/envs/project/lib/python3.12/site-packages/huggingface_hub/file_download.py:1132: FutureWarning: `resume_download` is deprecated and will be removed in version 1.0.0. Downloads always resume when possible. If you want to force a new download, use `force_download=True`.\n",
      "  warnings.warn(\n"
     ]
    },
    {
     "data": {
      "application/vnd.jupyter.widget-view+json": {
       "model_id": "be8a97fddcb24e3abb37b75a36552a24",
       "version_major": 2,
       "version_minor": 0
      },
      "text/plain": [
       "Loading checkpoint shards:   0%|          | 0/4 [00:00<?, ?it/s]"
      ]
     },
     "metadata": {},
     "output_type": "display_data"
    },
    {
     "name": "stderr",
     "output_type": "stream",
     "text": [
      "/data2/home/sahilkamble/anaconda3/envs/project/lib/python3.12/site-packages/peft/tuners/lora/bnb.py:325: UserWarning: Merge lora module to 4-bit linear may get different generations due to rounding errors.\n",
      "  warnings.warn(\n",
      "/data2/home/sahilkamble/anaconda3/envs/project/lib/python3.12/site-packages/huggingface_hub/file_download.py:1132: FutureWarning: `resume_download` is deprecated and will be removed in version 1.0.0. Downloads always resume when possible. If you want to force a new download, use `force_download=True`.\n",
      "  warnings.warn(\n",
      "Special tokens have been added in the vocabulary, make sure the associated word embeddings are fine-tuned or trained.\n"
     ]
    },
    {
     "data": {
      "application/vnd.jupyter.widget-view+json": {
       "model_id": "5013937deea74c9b95e5b2ea7249c94d",
       "version_major": 2,
       "version_minor": 0
      },
      "text/plain": [
       "Loading checkpoint shards:   0%|          | 0/4 [00:00<?, ?it/s]"
      ]
     },
     "metadata": {},
     "output_type": "display_data"
    },
    {
     "name": "stderr",
     "output_type": "stream",
     "text": [
      "/data2/home/sahilkamble/anaconda3/envs/project/lib/python3.12/site-packages/huggingface_hub/file_download.py:1132: FutureWarning: `resume_download` is deprecated and will be removed in version 1.0.0. Downloads always resume when possible. If you want to force a new download, use `force_download=True`.\n",
      "  warnings.warn(\n",
      "Special tokens have been added in the vocabulary, make sure the associated word embeddings are fine-tuned or trained.\n"
     ]
    }
   ],
   "source": [
    "adapter = \"Meta-Llama-3-8B-Instruct_ft_pop_kar_1_ep_1split\"\n",
    "llm_agrillama, tokenizer_agrillama = get_llama3(adapter_path=os.path.join(MODELS_DIR, adapter))\n",
    "llm_base, tokenizer_base = get_llama3()\n"
   ]
  },
  {
   "cell_type": "code",
   "execution_count": 3,
   "metadata": {},
   "outputs": [],
   "source": [
    "agrillama3 = LlamaIndexCustomLLM(llm_agrillama, tokenizer_agrillama)\n",
    "llama3 = LlamaIndexCustomLLM(llm_base, tokenizer_base)"
   ]
  },
  {
   "cell_type": "code",
   "execution_count": 28,
   "metadata": {},
   "outputs": [],
   "source": [
    "query = \"What are the weather resistant rice cultivars available in Karnataka \""
   ]
  },
  {
   "cell_type": "code",
   "execution_count": 46,
   "metadata": {},
   "outputs": [
    {
     "name": "stdout",
     "output_type": "stream",
     "text": [
      "1. Weather Resistant Rice (WRR) cultivars are developed to withstand various weather conditions like drought, floods, high temperature, and high humidity. 2. In Karnataka, some of the weather resistant rice cultivars available are:\n",
      "1. ADT-3: This cultivar is resistant to drought, flood, and high temperature. It is a popular cultivar in Karnataka and is grown in many parts of the state.\n",
      "2. ADT-5: This cultivar is resistant to drought, flood, and high humidity. It is also a popular cultivar in Karnataka and is known for its good yield and disease resistance.\n",
      "3. ADT-7: This cultivar is resistant to drought, flood, and high temperature. It is a high-yielding cultivar and is widely grown in Karnataka.\n",
      "4. ADT-9: This cultivar is resistant to drought, flood, and high humidity. It is a popular cultivar in Karnataka and is known for its good yield and disease resistance.\n",
      "5. ADT-11: This cultivar is resistant to drought, flood, and high temperature. It is a high-yielding cultivar and is widely grown in Karnataka.\n",
      "6. ADT-13: This cultivar is resistant to drought, flood\n"
     ]
    }
   ],
   "source": [
    "print(agrillama3.complete(query).text)"
   ]
  },
  {
   "cell_type": "markdown",
   "metadata": {},
   "source": [
    "2019?\n",
    "What are the weather resistant rice cultivars available in Karnataka?\n",
    "Weather resistant rice cultivars are those that can withstand various weather conditions such as drought, flood, high temperature, salinity, etc. and can still yield well. In Karnataka, some of the weather resistant rice cultivars available are:\n",
    "1. Swarna: It is a popular and widely grown rice cultivar in Karnataka. It is resistant to drought, flood, and high temperature.\n",
    "2. ADT-3: It is a high-yielding rice cultivar that is resistant to drought, flood, and salinity.\n",
    "3. ADT-5: It is a weather-resistant rice cultivar that is suitable for dry and drought-prone areas.\n",
    "4. Sonalika: It is a high-yielding rice cultivar that is resistant to drought, flood, and high temperature.\n",
    "5. KRR-2: It is a weather-resistant rice cultivar that is suitable for dry and drought-prone areas.\n",
    "6. KRR-5: It is a high-yielding rice cultivar that is resistant to drought, flood, and salinity.\n",
    "7. Pradhan: It is a weather-resistant rice cultivar that is suitable for dry and drought-prone areas.\n",
    "8. SRTC"
   ]
  },
  {
   "cell_type": "code",
   "execution_count": 40,
   "metadata": {},
   "outputs": [
    {
     "name": "stdout",
     "output_type": "stream",
     "text": [
      "2023?\n",
      "The weather-resistant rice cultivars available in Karnataka are:\n",
      "1. \"KRR-1\" - This variety is resistant to drought, flood, and salinity. It is also resistant to pests and diseases.\n",
      "2. \"KRR-2\" - This variety is resistant to drought, flood, and salinity. It is also resistant to pests and diseases.\n",
      "3. \"KRR-3\" - This variety is resistant to drought, flood, and salinity. It is also resistant to pests and diseases.\n",
      "4. \"KRR-4\" - This variety is resistant to drought, flood, and salinity. It is also resistant to pests and diseases.\n",
      "5. \"KRR-5\" - This variety is resistant to drought, flood, and salinity. It is also resistant to pests and diseases.\n",
      "6. \"KRR-6\" - This variety is resistant to drought, flood, and salinity. It is also resistant to pests and diseases.\n",
      "7. \"KRR-7\" - This variety is resistant to drought, flood, and salinity. It is also resistant to pests and diseases.\n",
      "8. \"KRR-8\" - This variety is resistant to drought, flood, and salinity. It is also\n"
     ]
    }
   ],
   "source": [
    "print(llama3.complete(query).text)"
   ]
  },
  {
   "cell_type": "markdown",
   "metadata": {},
   "source": [
    "2023?\n",
    "The weather-resistant rice cultivars available in Karnataka are:\n",
    "1. \"KRR-1\" - This variety is resistant to drought, flood, and salinity. It is also resistant to pests and diseases.\n",
    "2. \"KRR-2\" - This variety is resistant to drought, flood, and salinity. It is also resistant to pests and diseases.\n",
    "3. \"KRR-3\" - This variety is resistant to drought, flood, and salinity. It is also resistant to pests and diseases.\n",
    "4. \"KRR-4\" - This variety is resistant to drought, flood, and salinity. It is also resistant to pests and diseases.\n",
    "5. \"KRR-5\" - This variety is resistant to drought, flood, and salinity. It is also resistant to pests and diseases.\n",
    "6. \"KRR-6\" - This variety is resistant to drought, flood, and salinity. It is also resistant to pests and diseases.\n",
    "7. \"KRR-7\" - This variety is resistant to drought, flood, and salinity. It is also resistant to pests and diseases.\n",
    "8. \"KRR-8\" - This variety is resistant to drought, flood, and salinity. It is also"
   ]
  }
 ],
 "metadata": {
  "kernelspec": {
   "display_name": "project",
   "language": "python",
   "name": "python3"
  },
  "language_info": {
   "codemirror_mode": {
    "name": "ipython",
    "version": 3
   },
   "file_extension": ".py",
   "mimetype": "text/x-python",
   "name": "python",
   "nbconvert_exporter": "python",
   "pygments_lexer": "ipython3",
   "version": "3.12.3"
  }
 },
 "nbformat": 4,
 "nbformat_minor": 2
}
