{
 "cells": [
  {
   "cell_type": "code",
   "execution_count": 9,
   "metadata": {},
   "outputs": [],
   "source": [
    "from llama3.utils import (\n",
    "    get_llama3,\n",
    "    LlamaIndexCustomLLM\n",
    ")\n",
    "from llama3.config import (\n",
    "    MODELS_DIR,\n",
    "    DATA_DIR\n",
    ")\n",
    "import os"
   ]
  },
  {
   "cell_type": "code",
   "execution_count": 2,
   "metadata": {},
   "outputs": [
    {
     "name": "stderr",
     "output_type": "stream",
     "text": [
      "/data2/home/sahilkamble/anaconda3/envs/project/lib/python3.12/site-packages/huggingface_hub/file_download.py:1132: FutureWarning: `resume_download` is deprecated and will be removed in version 1.0.0. Downloads always resume when possible. If you want to force a new download, use `force_download=True`.\n",
      "  warnings.warn(\n"
     ]
    },
    {
     "data": {
      "application/vnd.jupyter.widget-view+json": {
       "model_id": "c1dc42ddb27d4c9e950c8542323a4e05",
       "version_major": 2,
       "version_minor": 0
      },
      "text/plain": [
       "Loading checkpoint shards:   0%|          | 0/4 [00:00<?, ?it/s]"
      ]
     },
     "metadata": {},
     "output_type": "display_data"
    },
    {
     "name": "stderr",
     "output_type": "stream",
     "text": [
      "/data2/home/sahilkamble/anaconda3/envs/project/lib/python3.12/site-packages/peft/tuners/lora/bnb.py:325: UserWarning: Merge lora module to 4-bit linear may get different generations due to rounding errors.\n",
      "  warnings.warn(\n",
      "/data2/home/sahilkamble/anaconda3/envs/project/lib/python3.12/site-packages/huggingface_hub/file_download.py:1132: FutureWarning: `resume_download` is deprecated and will be removed in version 1.0.0. Downloads always resume when possible. If you want to force a new download, use `force_download=True`.\n",
      "  warnings.warn(\n",
      "Special tokens have been added in the vocabulary, make sure the associated word embeddings are fine-tuned or trained.\n"
     ]
    },
    {
     "data": {
      "application/vnd.jupyter.widget-view+json": {
       "model_id": "3398e22907c040648f1f801d30410989",
       "version_major": 2,
       "version_minor": 0
      },
      "text/plain": [
       "Loading checkpoint shards:   0%|          | 0/4 [00:00<?, ?it/s]"
      ]
     },
     "metadata": {},
     "output_type": "display_data"
    },
    {
     "name": "stderr",
     "output_type": "stream",
     "text": [
      "/data2/home/sahilkamble/anaconda3/envs/project/lib/python3.12/site-packages/huggingface_hub/file_download.py:1132: FutureWarning: `resume_download` is deprecated and will be removed in version 1.0.0. Downloads always resume when possible. If you want to force a new download, use `force_download=True`.\n",
      "  warnings.warn(\n",
      "Special tokens have been added in the vocabulary, make sure the associated word embeddings are fine-tuned or trained.\n"
     ]
    }
   ],
   "source": [
    "adapter = \"Meta-Llama-3-8B-Instruct_ft_pop_kar_1_ep_1split\"\n",
    "llm_agrillama, tokenizer_agrillama = get_llama3(adapter_path=os.path.join(MODELS_DIR, adapter))\n",
    "llm_base, tokenizer_base = get_llama3()"
   ]
  },
  {
   "cell_type": "code",
   "execution_count": 3,
   "metadata": {},
   "outputs": [],
   "source": [
    "agrillama3 = LlamaIndexCustomLLM(llm_agrillama, tokenizer_agrillama)\n",
    "llama3 = LlamaIndexCustomLLM(llm_base, tokenizer_base)"
   ]
  },
  {
   "cell_type": "code",
   "execution_count": 4,
   "metadata": {},
   "outputs": [
    {
     "name": "stdout",
     "output_type": "stream",
     "text": [
      "\n",
      "\n",
      "In Karnataka, the ideal planting season for coconut is from March to May and September to November. These periods coincide with the onset of the southwest monsoon and the northeast monsoon, respectively, which provide adequate rainfall and moisture for the coconut seedlings.\n",
      "None\n"
     ]
    }
   ],
   "source": [
    "text ='''<|begin_of_text|><|start_header_id|>system<|end_header_id|> \n",
    "You are helpful agricuture advisor. Answer the queries factually and truthfully in concise manner.\n",
    "Query: A farmer from Banglore district of KARNATAKA asked about control of t-flies in guava.\n",
    "Answer: spray carbaryl 4g per liter\n",
    "Query: A farmer from BELGAUM district of KARNATAKA asked about fertiliser recomendation for Coconut.\n",
    "Answer: Apply 1:1:1 kg/plant Ammonium sulphate:SSP:MOP twice in a year in may-june another in sept-octo\n",
    "Query: A farmer from BELGAUM district of KARNATAKA asked about how to safely store jowar\n",
    "Answer: dry the seeds to safe moisture level and fumigate with alluminium phosphide if storage pests are found\n",
    "Query: A farmer from BIDAR district of KARNATAKA asked about variety of rose.\n",
    "Answer: sweet heart  baby rotras elon karona\n",
    "<|eot_id|><|start_header_id|>user<|end_header_id|>\n",
    "A farmer from BELGAUM district of KARNATAKA asked about planting season for coconut.\n",
    "<|eot_id|><|start_header_id|>assistant<|end_header_id|>'''\n",
    "\n",
    "\n",
    "print(print(agrillama3.complete(text).text))"
   ]
  },
  {
   "cell_type": "code",
   "execution_count": 5,
   "metadata": {},
   "outputs": [],
   "source": [
    "import pandas as pd"
   ]
  },
  {
   "cell_type": "code",
   "execution_count": 10,
   "metadata": {},
   "outputs": [],
   "source": [
    "data = pd.read_csv(os.path.join(DATA_DIR, \"clean_karna_kcc.csv\"))"
   ]
  },
  {
   "cell_type": "code",
   "execution_count": 26,
   "metadata": {},
   "outputs": [
    {
     "data": {
      "text/plain": [
       "Index(['Index  ', 'BlockName          ', 'Category ', 'Year ', 'Month ',\n",
       "       'Day ', 'Crop                 ', 'DistrictName ',\n",
       "       'QueryType                       ', 'Season ', 'Sector           ',\n",
       "       'StateName ',\n",
       "       'QueryText                                                                             ',\n",
       "       'KccAns'],\n",
       "      dtype='object')"
      ]
     },
     "execution_count": 26,
     "metadata": {},
     "output_type": "execute_result"
    }
   ],
   "source": [
    "data.columns"
   ]
  },
  {
   "cell_type": "code",
   "execution_count": 18,
   "metadata": {},
   "outputs": [],
   "source": [
    "data = data.iloc[:100]"
   ]
  },
  {
   "cell_type": "code",
   "execution_count": 11,
   "metadata": {},
   "outputs": [],
   "source": [
    "from tqdm import tqdm"
   ]
  },
  {
   "cell_type": "code",
   "execution_count": 27,
   "metadata": {},
   "outputs": [],
   "source": [
    "data.columns = data.columns.str.strip() "
   ]
  },
  {
   "cell_type": "code",
   "execution_count": null,
   "metadata": {},
   "outputs": [],
   "source": []
  },
  {
   "cell_type": "code",
   "execution_count": 37,
   "metadata": {},
   "outputs": [
    {
     "name": "stderr",
     "output_type": "stream",
     "text": [
      "100%|██████████| 100/100 [08:05<00:00,  4.85s/it]\n"
     ]
    }
   ],
   "source": [
    "answers = []\n",
    "for _, row in tqdm(data.iterrows(), total=len(data)):\n",
    "    # text =f'''<|begin_of_text|><|start_header_id|>system<|end_header_id|> \n",
    "    # You are helpful agricuture advisor. Answer the queries factually and truthfully in a concise manner in few words.\n",
    "    # <|eot_id|><|start_header_id|>user<|end_header_id|>\n",
    "    # A farmer from {row['DistrictName']} district of {row['StateName']} asked about {row['QueryText']}.\n",
    "    # <|eot_id|><|start_header_id|>assistant<|end_header_id|>'''\n",
    "    text =f'''<|begin_of_text|><|start_header_id|>system<|end_header_id|> \n",
    "    You are helpful agricuture advisor. Answer the queries factually and truthfully in a concise manner in few words.\n",
    "    Query: A farmer from Banglore district of KARNATAKA asked about control of t-flies in guava.\n",
    "    Answer: spray carbaryl 4g per liter\n",
    "    Query: A farmer from BELGAUM district of KARNATAKA asked about fertiliser recomendation for Coconut.\n",
    "    Answer: Apply 1:1:1 kg/plant Ammonium sulphate:SSP:MOP twice in a year in may-june another in sept-octo\n",
    "    Query: A farmer from BELGAUM district of KARNATAKA asked about how to safely store jowar\n",
    "    Answer: dry the seeds to safe moisture level and fumigate with alluminium phosphide if storage pests are found\n",
    "    Query: A farmer from BIDAR district of KARNATAKA asked about variety of rose.\n",
    "    Answer: sweet heart  baby rotras elon karona\n",
    "    <|eot_id|><|start_header_id|>user<|end_header_id|>\n",
    "    A farmer from {row['DistrictName']} district of {row['StateName']} asked about {row['QueryText']}.\n",
    "    <|eot_id|><|start_header_id|>assistant<|end_header_id|>'''\n",
    "    answers.append(llama3.complete(text).text)"
   ]
  },
  {
   "cell_type": "code",
   "execution_count": 38,
   "metadata": {},
   "outputs": [],
   "source": [
    "answers_df = pd.DataFrame({'Answer': answers})\n",
    "# Write answers to a CSV file\n",
    "answers_df.to_csv(\"llama_fewshot_ans.csv\", index=False)"
   ]
  },
  {
   "cell_type": "code",
   "execution_count": null,
   "metadata": {},
   "outputs": [],
   "source": []
  },
  {
   "cell_type": "code",
   "execution_count": null,
   "metadata": {},
   "outputs": [],
   "source": []
  },
  {
   "cell_type": "code",
   "execution_count": null,
   "metadata": {},
   "outputs": [],
   "source": []
  }
 ],
 "metadata": {
  "kernelspec": {
   "display_name": "baseclone",
   "language": "python",
   "name": "python3"
  },
  "language_info": {
   "codemirror_mode": {
    "name": "ipython",
    "version": 3
   },
   "file_extension": ".py",
   "mimetype": "text/x-python",
   "name": "python",
   "nbconvert_exporter": "python",
   "pygments_lexer": "ipython3",
   "version": "3.12.3"
  }
 },
 "nbformat": 4,
 "nbformat_minor": 2
}
