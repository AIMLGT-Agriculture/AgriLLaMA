{
 "cells": [
  {
   "cell_type": "code",
   "execution_count": 1,
   "metadata": {},
   "outputs": [
    {
     "name": "stderr",
     "output_type": "stream",
     "text": [
      "/data/home/kirteemishra/anaconda3/envs/baseclone/lib/python3.11/site-packages/prometheus_eval/judge.py:36: UserWarning: Reference answer was not given in Absolute Grading mode. This might lead to nonoptimal performances.\n",
      "  warnings.warn(\n",
      "/data/home/kirteemishra/anaconda3/envs/baseclone/lib/python3.11/site-packages/huggingface_hub/file_download.py:1132: FutureWarning: `resume_download` is deprecated and will be removed in version 1.0.0. Downloads always resume when possible. If you want to force a new download, use `force_download=True`.\n",
      "  warnings.warn(\n"
     ]
    },
    {
     "name": "stdout",
     "output_type": "stream",
     "text": [
      "INFO 05-25 11:34:10 llm_engine.py:100] Initializing an LLM engine (v0.4.2) with config: model='prometheus-eval/prometheus-7b-v2.0', speculative_config=None, tokenizer='prometheus-eval/prometheus-7b-v2.0', skip_tokenizer_init=False, tokenizer_mode=auto, revision=None, tokenizer_revision=None, trust_remote_code=False, dtype=torch.bfloat16, max_seq_len=8192, download_dir=None, load_format=LoadFormat.AUTO, tensor_parallel_size=1, disable_custom_all_reduce=False, quantization=None, enforce_eager=False, kv_cache_dtype=auto, quantization_param_path=None, device_config=cuda, decoding_config=DecodingConfig(guided_decoding_backend='outlines'), seed=0, served_model_name=prometheus-eval/prometheus-7b-v2.0)\n",
      "INFO 05-25 11:34:11 utils.py:660] Found nccl from library /data/home/kirteemishra/.config/vllm/nccl/cu12/libnccl.so.2.18.1\n",
      "INFO 05-25 11:34:13 selector.py:81] Cannot use FlashAttention-2 backend because the flash_attn package is not found. Please install it for better performance.\n",
      "INFO 05-25 11:34:13 selector.py:32] Using XFormers backend.\n",
      "INFO 05-25 11:34:14 weight_utils.py:199] Using model weights format ['*.safetensors']\n",
      "INFO 05-25 11:34:32 model_runner.py:175] Loading model weights took 13.4966 GB\n",
      "INFO 05-25 11:34:34 gpu_executor.py:114] # GPU blocks: 13064, # CPU blocks: 2048\n",
      "INFO 05-25 11:34:35 model_runner.py:937] Capturing the model for CUDA graphs. This may lead to unexpected consequences if the model is not static. To run the model in eager mode, set 'enforce_eager=True' or use '--enforce-eager' in the CLI.\n",
      "INFO 05-25 11:34:35 model_runner.py:941] CUDA graphs can take additional 1~3 GiB memory per GPU. If you are running out of memory, consider decreasing `gpu_memory_utilization` or enforcing eager mode. You can also reduce the `max_num_seqs` as needed to decrease memory usage.\n",
      "INFO 05-25 11:34:40 model_runner.py:1017] Graph capturing finished in 4 secs.\n"
     ]
    }
   ],
   "source": [
    "# Relative Grading: Outputs A or B\n",
    "\n",
    "from prometheus_eval import PrometheusEval\n",
    "from prometheus_eval.prompts import RELATIVE_PROMPT\n",
    "\n",
    "judge = PrometheusEval(model_id=\"prometheus-eval/prometheus-7b-v2.0\", relative_grade_template=RELATIVE_PROMPT)\n"
   ]
  },
  {
   "cell_type": "code",
   "execution_count": 2,
   "metadata": {},
   "outputs": [],
   "source": [
    "# from transformers import AutoModelForCausalLM, AutoTokenizer\n",
    "\n",
    "# device = \"cuda\" # the device to load the model onto\n",
    "\n",
    "# model = AutoModelForCausalLM.from_pretrained(\"prometheus-eval/prometheus-7b-v2.0\")\n",
    "# tokenizer = AutoTokenizer.from_pretrained(\"prometheus-eval/prometheus-7b-v2.0\")\n",
    "\n",
    "# ABS_SYSTEM_PROMPT = \"You are a fair judge assistant tasked with providing clear, objective feedback based on specific criteria, ensuring each assessment reflects the absolute standards set for performance.\"\n",
    "\n",
    "# ABSOLUTE_PROMPT = \"\"\"###Task Description:\n",
    "# An instruction (might include an Input inside it), a response to evaluate, a reference answer that gets a score of 5, and a score rubric representing a evaluation criteria are given.\n",
    "# 1. Write a detailed feedback that assess the quality of the response strictly based on the given score rubric, not evaluating in general.\n",
    "# 2. After writing a feedback, write a score that is an integer between 1 and 5. You should refer to the score rubric.\n",
    "# 3. The output format should look as follows: \"Feedback: (write a feedback for criteria) [RESULT] (an integer number between 1 and 5)\"\n",
    "# 4. Please do not generate any other opening, closing, and explanations.\n",
    "\n",
    "# ###The instruction to evaluate:\n",
    "# {instruction}\n",
    "\n",
    "# ###Response to evaluate:\n",
    "# {response}\n",
    "\n",
    "# ###Reference Answer (Score 5):\n",
    "# {reference_answer}\n",
    "\n",
    "# ###Score Rubrics:\n",
    "# {rubric}\n",
    "\n",
    "# ###Feedback: \"\"\"\n",
    "\n",
    "# user_content = ABS_SYSTEM_PROMPT + \"\\n\\n\" + ABSOLUTE_PROMPT.format(\"a\", \"b\", ) # Fill the prompt with your data\n",
    "\n",
    "# messages = [\n",
    "#     {\"role\": \"user\", \"content\": user_content},\n",
    "# ]\n",
    "\n",
    "# encodeds = tokenizer.apply_chat_template(messages, return_tensors=\"pt\")\n",
    "\n",
    "# model_inputs = encodeds.to(device)\n",
    "# model.to(device)\n",
    "\n",
    "# generated_ids = model.generate(model_inputs, max_new_tokens=1000, do_sample=True)\n",
    "# decoded = tokenizer.batch_decode(generated_ids)\n",
    "# print(decoded[0])\n",
    "\n"
   ]
  },
  {
   "cell_type": "code",
   "execution_count": 3,
   "metadata": {},
   "outputs": [],
   "source": [
    "import pandas as pd\n",
    "\n",
    "ans_df = pd.read_csv(\"/data/home/kirteemishra/sahil/llms/llama3/data/judge_exps/ans_test.csv\")"
   ]
  },
  {
   "cell_type": "code",
   "execution_count": 4,
   "metadata": {},
   "outputs": [],
   "source": [
    "ft_inc_ans = ans_df['ft_inc'].tolist()\n",
    "base_inc_ans = ans_df['base'].tolist()\n"
   ]
  },
  {
   "cell_type": "code",
   "execution_count": 5,
   "metadata": {},
   "outputs": [
    {
     "data": {
      "text/plain": [
       "['To increase Ragi (Jowar) yield, ensure:\\n\\n1. Adequate moisture: Ragi requires well-distributed rainfall or irrigation.\\n2. Balanced fertilizer: Apply 15:15:15 NPK at sowing time, followed by 10:10:10 NPK at 30 days after sowing.\\n3. Adequate spacing: Maintain 15-20 cm row-to-row and 10-15 cm plant-to-plant spacing.\\n4. Weed control: Regular',\n",
       " 'For control of sucking pests in mulberry, spray Dimethoate 20 EC at 2ml/litre of water.',\n",
       " 'For controlling grass weeds, I recommend applying 2,4-D at 1.5 kg/ha as a pre-emergence treatment or fluazifop at 0.3 kg/ha as a post-emergence treatment.',\n",
       " 'Spray carbendazim 0.1% or carbendazim + triadimefon 0.1% + 0.25% at 30-40 days after sowing.',\n",
       " 'For powdery mildew control in Croton, apply 0.1% Bordeaux mixture or 0.1% Copper oxychloride spray at 15 days interval.',\n",
       " '\\n\\nFor caterpillar control in rose, use Bt-based pesticides or neem oil. For leaf spot, use copper-based fungicides or Bordeaux mixture.',\n",
       " \"Dwarf varieties of coconut suitable for Karnataka climate are:\\n\\n1. West Coast Tall (WCT)\\n2. F1 hybrids like 'Kappalazhava' and 'Kerawalla'\\n3. 'Mysore Dwarf'\\n4. 'Kerala Dwarf'\\n5. 'Dwarf Green'\\n\\nPlease note that these varieties are suitable for the region and may require specific care and management practices.\",\n",
       " 'For Arecanut, apply 1:1:1 kg/plant Ammonium sulphate:SSP:MOP twice a year, first in May-June and another in September-October.']"
      ]
     },
     "execution_count": 5,
     "metadata": {},
     "output_type": "execute_result"
    }
   ],
   "source": [
    "ft_inc_ans"
   ]
  },
  {
   "cell_type": "code",
   "execution_count": 6,
   "metadata": {},
   "outputs": [
    {
     "data": {
      "text/plain": [
       "'To increase Ragi (Jowar) yield, ensure:\\n\\n1. Adequate moisture: Ragi requires well-distributed rainfall or irrigation.\\n2. Balanced fertilizer: Apply 15:15:15 NPK at sowing time, followed by 10:10:10 NPK at 30 days after sowing.\\n3. Adequate spacing: Maintain 15-20 cm row-to-row and 10-15 cm plant-to-plant spacing.\\n4. Weed control: Regular'"
      ]
     },
     "execution_count": 6,
     "metadata": {},
     "output_type": "execute_result"
    }
   ],
   "source": [
    "ft_inc_ans[0]"
   ]
  },
  {
   "cell_type": "code",
   "execution_count": 7,
   "metadata": {},
   "outputs": [],
   "source": [
    "query = [f\"A farmer from Karnataka asked {x}\" for x in ans_df['Query']]\n",
    "kcc_ans = ans_df['KccAns'].tolist()"
   ]
  },
  {
   "cell_type": "code",
   "execution_count": 8,
   "metadata": {},
   "outputs": [],
   "source": [
    "rubric = '''Pease act as an impartial judge and evaluate the quality of the responses provided by two\n",
    "            AI assistants to the user question displayed below. Your evaluation should consider\n",
    "            correctness and helpfulness. You will be given a reference answer, assistant A’s answer,\n",
    "            and assistant B’s answer. Your job is to evaluate which assistant’s answer is better.\n",
    "            Begin your evaluation by comparing both assistants’ answers with the reference answer.\n",
    "            Identify and correct any mistakes. Avoid any position biases and ensure that the order in\n",
    "            which the responses were presented does not influence your decision. Do not allow the\n",
    "            length of the responses to influence your evaluation.'''"
   ]
  },
  {
   "cell_type": "code",
   "execution_count": 9,
   "metadata": {},
   "outputs": [
    {
     "name": "stderr",
     "output_type": "stream",
     "text": [
      "Processed prompts: 100%|██████████| 8/8 [00:09<00:00,  1.24s/it]\n"
     ]
    },
    {
     "name": "stdout",
     "output_type": "stream",
     "text": [
      "Processed 8/8 instances.\n"
     ]
    },
    {
     "name": "stderr",
     "output_type": "stream",
     "text": [
      "Finalizing: 100%|██████████| 8/8 [00:00<00:00, 205855.41it/s]\n"
     ]
    }
   ],
   "source": [
    "\n",
    "feedbacks, scores = judge.relative_grade(\n",
    "    instructions=query,\n",
    "    responses_A=ft_inc_ans,\n",
    "    responses_B=base_inc_ans,\n",
    "    params={},\n",
    "    rubric=rubric,\n",
    "    reference_answers=kcc_ans\n",
    ")"
   ]
  },
  {
   "cell_type": "code",
   "execution_count": 10,
   "metadata": {},
   "outputs": [
    {
     "data": {
      "text/plain": [
       "['A', 'B', 'B', 'B', 'B', 'B', 'A', 'B']"
      ]
     },
     "execution_count": 10,
     "metadata": {},
     "output_type": "execute_result"
    }
   ],
   "source": [
    "scores"
   ]
  },
  {
   "cell_type": "code",
   "execution_count": 11,
   "metadata": {},
   "outputs": [
    {
     "data": {
      "text/plain": [
       "[\"Both Response A and Response B provide helpful recommendations for increasing the yield of Ragi. They both address key aspects such as adequate moisture, balanced fertilization, and weed control. However, there are some notable differences that make Response A stand out as better.\\n\\nResponse A specifies the type of fertilizer to be used (NPK) and the application rates (15:15:15 and 10:10:10), which directly aligns with the recommended agronomic practices for Ragi cultivation. It also emphasizes the importance of adequate spacing for the plants, which is a crucial factor for improving yield and preventing diseases. On the other hand, Response B mentions optimal soil pH, which is indeed important for plant growth, but it fails to mention the specific fertilizers and their rates. Additionally, it only provides a general recommendation for balanced fertilization without giving detailed instructions.\\n\\nFurthermore, while both responses address the necessity of adequate moisture, Response A is more precise in stating the times when moisture is most critical (during sowing and 30 days after sowing). This level of detail is likely to be more helpful for a farmer seeking specific advice.\\n\\nLastly, the term 'finger millet' in Response B might be more accurate than 'Ragi', which is more commonly used in the Indian context, but the key information provided is more relevant to the question asked. Therefore, the superior quality of Response A lies in its specificity, clear instructions, and alignment with standard agronomic practices for Ragi.\",\n",
       " \"The score rubric suggests an evaluation of the responses based on their correctness and helpfulness. \\n\\nResponse A is precise, offering a specific recommendation for controlling sucking pests in mulberry. However, it doesn't explain why Dimethoate 20 EC was chosen, nor does it mention the type of sucking pests the recommended solution targets, which would have provided a more informative response. It's also a bit limited, not addressing different types of pests.\\n\\nResponse B, on the other hand, provides a comprehensive list of common sucking pests found in mulberry, specifically in the Bangalore district of Karnataka. This is helpful in identifying the pest issue. Moreover, the suggested control measures are varied, addressing not just chemical treatment but also preventative measures such as hygiene and the use of resistant varieties. This is particularly useful for a farmer seeking sustainable solutions. Furthermore, Response B suggests both chemical and non-chemical methods, showing a holistic understanding of the problem.\\n\\nBased on the evaluation criteria, Response B is more thorough and helpful than Response A. It provides a detailed understanding of the pest problem, as well as a range of solutions, thus demonstrating better correctness and helpfulness.\",\n",
       " \"Upon reviewing both responses, it is evident that they offer different approaches to controlling grass weeds. Response A focuses on chemical control methods, specifically mentioning 2,4-D and fluazifop as treatment options. However, the response falls short in terms of providing alternative or complementary solutions, which could potentially limit its usefulness for a farmer dealing with the complexities of grass weed management.\\n\\nIn contrast, Response B provides a multi-faceted approach, incorporating cultural, physical, and organic control strategies. It suggests maintaining soil conditions and using mulching to inhibit weed growth, as well as employing physical methods for small-scale infestations. This response goes beyond the immediate solution and offers long-term, sustainable strategies that are beneficial for overall crop health and weed control.\\n\\nWhile both responses have their merits, the multifaceted and comprehensive nature of Response B aligns more closely with the scoring rubric's emphasis on correctness and helpfulness. It demonstrates a deeper understanding of the issue at hand and presents a more robust and environmentally conscious strategy for controlling grass weeds. Therefore, it is the evaluation criteria of providing correct and helpful information that leads to the conclusion that Response B is superior to Response A.\",\n",
       " \"Evaluating the responses given to the user's query regarding blast control in paddy crops, it is evident that both assistant A and assistant B provide valuable advice. However, upon a closer examination, there are noticeable differences between the two.\\n\\nResponse A is precise and to the point. It directly addresses the user's question by recommending specific fungicides and application rates at a particular stage of the crop's growth. The response is factually correct, indicating a clear understanding of the issue at hand.\\n\\nOn the other hand, Response B offers a broader range of strategies for controlling blast, including advice on maintaining optimal moisture levels, crop rotation, and the use of resistant varieties, in addition to fungicides. This multi-faceted approach demonstrates a deeper level of understanding of the complexities involved in agricultural pest management.\\n\\nThe distinction between the two responses is not just the scope of the advice provided, but also the practical application of the guidance. Response A focuses on a single strategy, while Response B provides a comprehensive set of recommendations that cater to various aspects of the problem, thus offering a more holistic solution.\\n\\nTaking into account the score rubric's emphasis on correctness and helpfulness, it becomes clear that while Response A is accurate, it lacks the thoroughness and breadth of assistance offered in Response B. The latter's emphasis on not only managing the immediate problem but also on preventive measures and the diversification of methods provides a more complete answer to the user's query.\\n\\nTherefore, in line with the score rubric's criteria for an impartial evaluation, Response B is better than Response A as it not only addresses the specific question asked by the user but also offers a more nuanced and comprehensive approach to the issue.\",\n",
       " 'Upon evaluating both responses based on correctness and helpfulness, it becomes clear that Response B is more comprehensive and practical compared to Response A. While Response A correctly suggests a copper-based fungicide, it lacks a broader approach to handling the issue. In contrast, Response B offers a multi-faceted strategy including pruning, increasing air circulation, and careful watering practices, all of which are crucial in managing powdery mildew. The inclusion of specific actions like pruning to limit the spread of spores, and advising against overhead watering to reduce the favorable environment for the fungus, showcases a deeper understanding of the problem. Additionally, the recommendation to use fungicides containing copper oxychloride or chlorothalonil provides the farmer with options, aligning with a helpful approach. Thus, considering the scope and relevance of the advice, it is evident that Response B is superior in meeting the criteria set by the score rubric.',\n",
       " 'The quality of the responses should be evaluated based on correctness and helpfulness. Response A provides general advice for caterpillar and leaf spot control, but it lacks detail. The recommendation to use Bt-based pesticides or neem oil for caterpillars is correct but does not specify the method of application or timing. Similarly, the advice to use copper-based fungicides or the Bordeaux mixture for leaf spot is correct but could have been more helpful by suggesting a frequency of application or further detail on the specific products or how to mix them.\\n\\nOn the other hand, Response B provides more comprehensive and actionable advice. It includes the steps of hand-picking caterpillars, a clear recommendation to use Bt, and the specific method of mixing neem oil with water for application. These details make Response B more helpful to the farmer, who can implement these steps effectively. Additionally, the inclusion of the location (Bangalore, Karnataka) is relevant and demonstrates an understanding of the context.\\n\\nIn conclusion, while both responses contain correct information, Response B is better than Response A because it offers a more detailed and actionable plan for controlling caterpillars and leaf spots in rose plants.',\n",
       " \"When evaluating the responses based on correctness and helpfulness, there are notable differences. The first thing to notice is that Response A accurately lists the dwarf varieties of coconut that are suitable for the Karnataka climate. This shows an understanding of the region's specific needs and climatic conditions. In contrast, Response B mentions a list of coconut varieties but does not specify which of them are dwarfs or why they are suitable for small-scale cultivation in Karnataka. \\n\\nMoreover, Response A provides additional valuable information by mentioning the necessity for specific care and management practices, which makes it more helpful for the farmer. On the other hand, Response B merely states that the listed varieties are suitable for small-scale cultivation in the Bangalore region, without offering any further guidance or advice.\\n\\nOverall, considering the criteria of correctness and helpfulness, Response A is superior to Response B because it correctly lists the appropriate dwarf coconut varieties for Karnataka and offers more comprehensive and helpful information.\",\n",
       " \"Both responses correctly address the question of recommending fertilizers for Arecanut. Response A provides a specific fertilizer mixture (Ammonium sulphate, SSP, MOP) and the timing of the application, which aligns well with the required information. Response B suggests a general NPK fertilizer without specifying a particular brand or type of fertilizer. It does, however, mention the different rates at which this fertilizer should be applied at various stages of plant growth. While Response A gives a precise recommendation, Response B offers more flexibility in choosing the fertilizer and considers different stages of plant growth. Based on these observations, Response B is slightly more helpful than Response A due to its consideration of varying needs throughout the plant's life cycle. However, both responses correctly interpret the task and provide accurate information. Therefore, considering the rubric's emphasis on correctness and helpfulness, Response B is better than Response A because it addresses the varying needs of the plant throughout its growth cycle.\"]"
      ]
     },
     "execution_count": 11,
     "metadata": {},
     "output_type": "execute_result"
    }
   ],
   "source": [
    "feedbacks"
   ]
  },
  {
   "cell_type": "code",
   "execution_count": 12,
   "metadata": {},
   "outputs": [],
   "source": [
    "A = \"ft_inc\"\n",
    "B = \"base\"\n",
    "dir = f\"{A}_vs_{B}\"\n",
    "pd.DataFrame({f'{dir}_scores': scores,f'{dir}_feedback': feedbacks}).to_csv(f\"{dir}_prom.csv\")"
   ]
  }
 ],
 "metadata": {
  "kernelspec": {
   "display_name": "baseclone",
   "language": "python",
   "name": "python3"
  },
  "language_info": {
   "codemirror_mode": {
    "name": "ipython",
    "version": 3
   },
   "file_extension": ".py",
   "mimetype": "text/x-python",
   "name": "python",
   "nbconvert_exporter": "python",
   "pygments_lexer": "ipython3",
   "version": "3.12.3"
  }
 },
 "nbformat": 4,
 "nbformat_minor": 2
}
