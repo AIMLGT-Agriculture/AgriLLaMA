{
 "cells": [
  {
   "cell_type": "code",
   "execution_count": 1,
   "metadata": {},
   "outputs": [
    {
     "name": "stderr",
     "output_type": "stream",
     "text": [
      "/data2/home/sahilkamble/anaconda3/envs/project/lib/python3.12/site-packages/huggingface_hub/file_download.py:1132: FutureWarning: `resume_download` is deprecated and will be removed in version 1.0.0. Downloads always resume when possible. If you want to force a new download, use `force_download=True`.\n",
      "  warnings.warn(\n"
     ]
    },
    {
     "data": {
      "application/vnd.jupyter.widget-view+json": {
       "model_id": "5c7ae66f33d342149a004f42c1472593",
       "version_major": 2,
       "version_minor": 0
      },
      "text/plain": [
       "Loading checkpoint shards:   0%|          | 0/4 [00:00<?, ?it/s]"
      ]
     },
     "metadata": {},
     "output_type": "display_data"
    },
    {
     "name": "stderr",
     "output_type": "stream",
     "text": [
      "/data2/home/sahilkamble/anaconda3/envs/project/lib/python3.12/site-packages/peft/tuners/lora/bnb.py:325: UserWarning: Merge lora module to 4-bit linear may get different generations due to rounding errors.\n",
      "  warnings.warn(\n",
      "Special tokens have been added in the vocabulary, make sure the associated word embeddings are fine-tuned or trained.\n",
      "/data2/home/sahilkamble/anaconda3/envs/project/lib/python3.12/site-packages/huggingface_hub/file_download.py:1132: FutureWarning: `resume_download` is deprecated and will be removed in version 1.0.0. Downloads always resume when possible. If you want to force a new download, use `force_download=True`.\n",
      "  warnings.warn(\n"
     ]
    },
    {
     "data": {
      "application/vnd.jupyter.widget-view+json": {
       "model_id": "7ee67da8419a4294a0edb57b84fc7a35",
       "version_major": 2,
       "version_minor": 0
      },
      "text/plain": [
       "Loading checkpoint shards:   0%|          | 0/4 [00:00<?, ?it/s]"
      ]
     },
     "metadata": {},
     "output_type": "display_data"
    },
    {
     "name": "stderr",
     "output_type": "stream",
     "text": [
      "/data2/home/sahilkamble/anaconda3/envs/project/lib/python3.12/site-packages/peft/tuners/lora/bnb.py:325: UserWarning: Merge lora module to 4-bit linear may get different generations due to rounding errors.\n",
      "  warnings.warn(\n",
      "Special tokens have been added in the vocabulary, make sure the associated word embeddings are fine-tuned or trained.\n"
     ]
    }
   ],
   "source": [
    "from llama3.utils import get_llama3, LlamaIndexCustomLLM\n",
    "from llama3.config import DATA_DIR, MODELS_DIR\n",
    "import os\n",
    "\n",
    "llm_mhop, tokn_mhop = get_llama3(adapter_path=os.path.join(MODELS_DIR, \"Meta-Llama-3-8B-Instruct_ft_mhop\"))\n",
    "cust_llm_mhop = LlamaIndexCustomLLM(llm_mhop, tokn_mhop, num_output=1000)\n",
    "llm_raft, tokn_raft = get_llama3(adapter_path=os.path.join(MODELS_DIR,\"Meta-Llama-3-8B-Instruct_ft_raft\"))\n",
    "cust_llm_raft = LlamaIndexCustomLLM(llm_raft, tokn_raft, num_output=1000)\n"
   ]
  },
  {
   "cell_type": "code",
   "execution_count": 34,
   "metadata": {},
   "outputs": [],
   "source": [
    "from llama_index.core.agent import ReActAgent\n",
    "\n",
    "from llama_index.core import (\n",
    "    SimpleDirectoryReader,\n",
    "    VectorStoreIndex,\n",
    "    StorageContext,\n",
    "    load_index_from_storage,\n",
    ")\n",
    "\n",
    "from llama_index.core.tools import QueryEngineTool, ToolMetadata"
   ]
  },
  {
   "cell_type": "code",
   "execution_count": 3,
   "metadata": {},
   "outputs": [],
   "source": [
    "try:\n",
    "    storage_context = StorageContext.from_defaults(\n",
    "        persist_dir=os.path.join(DATA_DIR, \"rag_storage\",\"rice\")\n",
    "    )\n",
    "    rice_index = load_index_from_storage(storage_context)\n",
    "\n",
    "    index_loaded = True\n",
    "except:\n",
    "    index_loaded = False"
   ]
  },
  {
   "cell_type": "code",
   "execution_count": 4,
   "metadata": {},
   "outputs": [
    {
     "data": {
      "text/plain": [
       "True"
      ]
     },
     "execution_count": 4,
     "metadata": {},
     "output_type": "execute_result"
    }
   ],
   "source": [
    "index_loaded"
   ]
  },
  {
   "cell_type": "code",
   "execution_count": 5,
   "metadata": {},
   "outputs": [],
   "source": [
    "if not index_loaded:\n",
    "    # load data\n",
    "    rice_docs = SimpleDirectoryReader(\n",
    "        input_files=[os.path.join(DATA_DIR, \"nsdl_books\", \"RICE-FORMATTED.pdf\")]\n",
    "    ).load_data()\n",
    "    # build index\n",
    "    rice_index = VectorStoreIndex.from_documents(rice_docs)\n",
    "    # persist index\n",
    "    rice_index.storage_context.persist(persist_dir=os.path.join(DATA_DIR, \"rag_storage\",\"rice\"))\n"
   ]
  },
  {
   "cell_type": "code",
   "execution_count": 6,
   "metadata": {},
   "outputs": [],
   "source": [
    "rice_ret = rice_index.as_retriever()"
   ]
  },
  {
   "cell_type": "code",
   "execution_count": 7,
   "metadata": {},
   "outputs": [
    {
     "data": {
      "text/plain": [
       "[NodeWithScore(node=TextNode(id_='99699a5a-ffcd-4942-9dc6-cadaf017d7a7', embedding=None, metadata={'page_label': '22', 'file_name': 'rice.pdf', 'file_path': 'data/rice.pdf', 'file_type': 'application/pdf', 'file_size': 403959, 'creation_date': '2024-05-29', 'last_modified_date': '2024-05-29'}, excluded_embed_metadata_keys=['file_name', 'file_type', 'file_size', 'creation_date', 'last_modified_date', 'last_accessed_date'], excluded_llm_metadata_keys=['file_name', 'file_type', 'file_size', 'creation_date', 'last_modified_date', 'last_accessed_date'], relationships={<NodeRelationship.SOURCE: '1'>: RelatedNodeInfo(node_id='a8a74414-3bbd-431f-808e-c1f553d2a992', node_type=<ObjectType.DOCUMENT: '4'>, metadata={'page_label': '22', 'file_name': 'rice.pdf', 'file_path': 'data/rice.pdf', 'file_type': 'application/pdf', 'file_size': 403959, 'creation_date': '2024-05-29', 'last_modified_date': '2024-05-29'}, hash='2149e387408fd66bccbd1b715d6925237a974a69c98e7ff17d647b983125aff1')}, text='Source: www. botanik.uni-karlsruhe. de/gart en/fotos-knoch/\\n \\n \\n \\nSource: www. ubcbo tanicalgarden.org/\\n \\n 22', start_char_idx=4, end_char_idx=113, text_template='{metadata_str}\\n\\n{content}', metadata_template='{key}: {value}', metadata_seperator='\\n'), score=0.8282762259478507),\n",
       " NodeWithScore(node=TextNode(id_='9fa1a831-f84a-4b24-a0cb-a66279ff1ada', embedding=None, metadata={'page_label': '2', 'file_name': 'rice.pdf', 'file_path': 'data/rice.pdf', 'file_type': 'application/pdf', 'file_size': 403959, 'creation_date': '2024-05-29', 'last_modified_date': '2024-05-29'}, excluded_embed_metadata_keys=['file_name', 'file_type', 'file_size', 'creation_date', 'last_modified_date', 'last_accessed_date'], excluded_llm_metadata_keys=['file_name', 'file_type', 'file_size', 'creation_date', 'last_modified_date', 'last_accessed_date'], relationships={<NodeRelationship.SOURCE: '1'>: RelatedNodeInfo(node_id='32838991-7efc-4e37-8001-1aea1c15cf18', node_type=<ObjectType.DOCUMENT: '4'>, metadata={'page_label': '2', 'file_name': 'rice.pdf', 'file_path': 'data/rice.pdf', 'file_type': 'application/pdf', 'file_size': 403959, 'creation_date': '2024-05-29', 'last_modified_date': '2024-05-29'}, hash='3e0d1093b86b25a6b427f0359a0f34e7a36f827bc5937093634e9f10ae88970a')}, text='RICE \\nBotanical n ame: Oryza sativa  L. \\nChromosome number: 2n = 24  \\nRice is prim arily a high-energy f ood. It is staple food of about 2/3 population of world. It \\ncontain s less protein than  wheat and in m illed r ice it is usua lly 6-7%. The biological v alue of  \\nits protein is high. The fat content of rice is low (2.0-2.5%) and m uch of fat is lost during \\nmilling. Rice grain con tains as m uch B group v itamins as  wheat. Rice contains  a low content \\nof calcium . \\nThe by-prod ucts of  rice m illing are used f or var ious purpos es. Rice br an is used as ca ttle and  \\npoultry feed, and oil extraction. Rice bran (peri carp, seed coat, nucellus, and aleurone layer)  \\naccounts for about 8% of paddy wei ght. It contains 15-20% oil ( 15% is recoverable). Of the \\ntotal oil in grain, abou t 75% is pr esent in b ran itself. Global rice bran oil production varies \\nfrom  1-1.4 m illion tonnes of which India acco unts for 0.7-0.9 m tones. Rice hulls can be \\nutilized in m anufacturing insulatio n materials, cement, card board and as litter in poultry \\nkeeping. Rice straw can be used as cattle feed as well as litter during winter season. \\nGeographic distribution \\nRice is th e second m ost im portant food crop of the world, cultiv ated in 118 countries on \\nabout 153.8 m illion ha with a prod uction of ab out 618.5 million tonn es (paddy). A bout 90% \\nof all rice grown in the world is produced and consum ed in the Asian region. The average \\nproductivity of rice is the highest  in Egypt i.e. 9.4 t/ha as ag ainst world’s average of 4.04 t/ha \\n(Table 1). \\nTable 1.  Rice, acrea ge, production a nd productivity in major coun tries  \\nContinent/C ountry Area (m ha ) Production (m t) Yield (t/ha) \\nAsia 136.56 532.98 3.90 \\nChina 29.30 185.50 6.33 \\nIndia 43.00 129.00 3.00 \\nIndonesia 11.80 54.00 4.58 \\nBangla desh 11.00 40.10 3.64 \\nThaila nd 10.20 27.00 2.65 \\nVietnam 7.34 36.30 4.95 \\nMyanmar 6.27 24.50 3.91 \\nPhilippi nes 4.12 14.80 3.60 \\nPakistan 2.40 6.90 2.88 \\nBrazil* 3.73 13.28 3.62 \\nJapan* 1.70 10.91 6.42 \\nUSA* 1.35 10.47 7.78 \\nEgypt* 0.65 6.35 9.84 \\nProduction values are for brown (unhusked) rice \\nSource : FAO Quarterly Bu lletin  of Statistics, 20 05, Vol. 12(3/3):18-19 an d * FAO Produ ction Year  \\nBook, 200 4. \\n \\n 2', start_char_idx=2, end_char_idx=2246, text_template='{metadata_str}\\n\\n{content}', metadata_template='{key}: {value}', metadata_seperator='\\n'), score=0.8263474251433036)]"
      ]
     },
     "execution_count": 7,
     "metadata": {},
     "output_type": "execute_result"
    }
   ],
   "source": [
    "rice_ret.retrieve(\"What is botanical name of rice\")"
   ]
  },
  {
   "cell_type": "code",
   "execution_count": 8,
   "metadata": {},
   "outputs": [],
   "source": [
    "# query_engine = rice_index.as_query_engine(llm=cust_llm_pop, similarity_top_k=1) # send a RAFT ft llm here ?\n",
    "query_engine = rice_index.as_query_engine(similarity_top_k=3, llm=cust_llm_raft, response_mode='compact') # send a RAFT ft llm here ?"
   ]
  },
  {
   "cell_type": "code",
   "execution_count": 9,
   "metadata": {},
   "outputs": [
    {
     "name": "stderr",
     "output_type": "stream",
     "text": [
      "<>:3: SyntaxWarning: invalid escape sequence '\\/'\n",
      "<>:3: SyntaxWarning: invalid escape sequence '\\/'\n",
      "/tmp/ipykernel_609473/514934946.py:3: SyntaxWarning: invalid escape sequence '\\/'\n",
      "  query_engine_qa_str = \"\"\"\n"
     ]
    }
   ],
   "source": [
    "from llama_index.core import PromptTemplate\n",
    "\n",
    "query_engine_qa_str = \"\"\"\n",
    "Given the context information answer the query. Answer precisely and concisely using given facts. Use your knowledge to answer if context does not provide anwer directly.\n",
    "\n",
    "Example: \n",
    "Context: \n",
    "Table 1. Rice, acrea ge, production a nd productivity in major coun tries  \\nContinent\\/C ountry Area (m ha ) Production (m t) Yield (t\\/ha) \\nAsia 136.56 532.98 3.90 \\nChina 29.30 185.50 6.33 \\nIndia 43.00 129.00 3.00 \\nIndonesia 11.80 54.00 4.58 \\nBangla desh 11.00 40.10 3.64 \\nThaila nd 10.20 27.00 2.65 \\nVietnam 7.34 36.30 4.95 \\nMyanmar 6.27 24.50 3.91 \\nPhilippi nes 4.12 14.80 3.60 \\nPakistan 2.40 6.90 2.88 \\nBrazil* 3.73 13.28 3.62 \\nJapan* 1.70 10.91 6.42 \\nUSA* 1.35 10.47 7.78 \\nEgypt* 0.65 6.35 9.84 \\nProduction values are for brown (unhusked) rice \\nSource : FAO Quarterly Bu lletin  of Statistics, 20 05, Vol. 12(3\\/3):18-19 an d * FAO Produ ction Year  \\nBook, 200 4. 2 \\nIn India, rice is the m ost im portant a nd extensively grown food crop, occupying about 43 \\nmillion ha o f land. It is grown in almost all the states, with  Uttar Pradesh, W est Bengal and  \\nPunjab leading in area, production and productivity, respectively (Table 2).\n",
    "---------------------\n",
    "Query: \"What is the yield of rice per hectare in India?\"\n",
    "Answer: The yield of rice per hectare in India is 3.00 tonnes. <|eot_id|>\n",
    "\n",
    "Context:\n",
    "{context_str}\n",
    "---------------------\n",
    "Query: {query_str}\n",
    "Answer: \n",
    "\"\"\"\n",
    "query_engine_qa_prompt = PromptTemplate(query_engine_qa_str)"
   ]
  },
  {
   "cell_type": "code",
   "execution_count": 10,
   "metadata": {},
   "outputs": [],
   "source": [
    "query_engine.update_prompts({'response_synthesizer:text_qa_template': query_engine_qa_prompt})"
   ]
  },
  {
   "cell_type": "code",
   "execution_count": 11,
   "metadata": {},
   "outputs": [],
   "source": [
    "# print(query_engine.get_prompts()['response_synthesizer:text_qa_template'].get_template())"
   ]
  },
  {
   "cell_type": "code",
   "execution_count": 12,
   "metadata": {},
   "outputs": [],
   "source": [
    "# query_engine.query(\"what is bonatnical name of rice\")"
   ]
  },
  {
   "cell_type": "code",
   "execution_count": 13,
   "metadata": {},
   "outputs": [],
   "source": [
    "query_engine_tool = QueryEngineTool(\n",
    "        query_engine=query_engine,\n",
    "        metadata=ToolMetadata(\n",
    "            name=\"query_engine\",\n",
    "            description=(\n",
    "                \"Provides detailed information about rice\"\n",
    "                \"Use a detailed plain text question as input to the tool.\"\n",
    "            ),\n",
    "        ),\n",
    "    )"
   ]
  },
  {
   "cell_type": "code",
   "execution_count": 14,
   "metadata": {},
   "outputs": [],
   "source": [
    "from llama_index.core import PromptTemplate\n",
    "\n",
    "react_system_header_str = \"\"\"\\\n",
    "You are a helpful assistant.\n",
    "You have access to the following tools:\n",
    "{tool_desc}\n",
    "You are responsible for using\n",
    "the tools in any sequence you deem appropriate to complete the task at hand.\n",
    "This may require breaking the task into subtasks and using different tools\n",
    "to complete each subtask.\n",
    "\n",
    "Please ALWAYS start with a Thought.\n",
    "Please use a valid JSON format for the Action Input.\n",
    "\n",
    "To answer the question, please use the following format.\n",
    "Thought: I need to use a tool to help me answer the question.\n",
    "Action: tool name (one of {tool_names}) if using a tool.\n",
    "Action Input: the input to the tool, in a JSON format representing the kwargs\n",
    "\n",
    "Example:\n",
    "What is the botanical name of staple food of 2/3 of the worlds population.\n",
    "Thought: To answer the query I need to know the staple food of 2/3 popualtion of the world.\n",
    "Action: query_engine\n",
    "Action Input: {{'input': 'What is the staple food of about 2/3 of the world's population?'}} <|eot_id|>\n",
    "Observation: Rice is staple food of about 2/3 population of world.\n",
    "Thought: Now that I know rice is  the staple food of 2/3 popualtion of the world, I need botanical name of Rice\n",
    "Action: query_engine\n",
    "Action Input: {{'input': 'What is the botanical name of rice?'}} <|eot_id|>\n",
    "Observation: Oryza sativa L\n",
    "Thouhgt: I can answer without any more tools!\n",
    "Answer: Botanical name of staple food of 2/3 of the worlds population is Oryza sativa L <|eot_id|>\n",
    "\n",
    "Now it's your turn\n",
    "\"\"\"\n",
    "react_system_prompt = PromptTemplate(react_system_header_str)"
   ]
  },
  {
   "cell_type": "code",
   "execution_count": 15,
   "metadata": {},
   "outputs": [],
   "source": [
    "agent = ReActAgent.from_tools([query_engine_tool], llm=cust_llm_mhop, verbose=True)"
   ]
  },
  {
   "cell_type": "code",
   "execution_count": 16,
   "metadata": {},
   "outputs": [],
   "source": [
    "agent.update_prompts({\"agent_worker:system_prompt\": react_system_prompt})"
   ]
  },
  {
   "cell_type": "code",
   "execution_count": 32,
   "metadata": {},
   "outputs": [],
   "source": [
    "query = \"What type of intercrops I can grow in between rice ?\""
   ]
  },
  {
   "cell_type": "code",
   "execution_count": 18,
   "metadata": {},
   "outputs": [],
   "source": [
    "# prompt = react_system_header_str + query\n",
    "# tool_desc = (\n",
    "#             f\"> Tool Name: {query_engine_tool.metadata.name}\\n\"\n",
    "#             f\"Tool Description: {query_engine_tool.metadata.description}\\n\"\n",
    "#             f\"Tool Args: {query_engine_tool.metadata.fn_schema_str}\\n\"\n",
    "#         )\n",
    "# tool_names = [query_engine_tool.metadata.name]\n",
    "# prompt = prompt.format(tool_desc=tool_desc, tool_names=tool_names)"
   ]
  },
  {
   "cell_type": "code",
   "execution_count": 19,
   "metadata": {},
   "outputs": [],
   "source": [
    "# print(prompt)"
   ]
  },
  {
   "cell_type": "code",
   "execution_count": 20,
   "metadata": {},
   "outputs": [],
   "source": [
    "# cust_llm.complete(prompt+\"\\nassistant:\\n\")"
   ]
  },
  {
   "cell_type": "code",
   "execution_count": 33,
   "metadata": {},
   "outputs": [
    {
     "name": "stdout",
     "output_type": "stream",
     "text": [
      "\u001b[1;3;38;5;200mThought: To answer the question, I need to know what types of intercrops can be grown in between rice.\n",
      "Action: query_engine\n",
      "Action Input: {'input': 'What types of intercrops can be grown in between rice?'}\n",
      "\u001b[0m\u001b[1;3;34mObservation: Unfortunately, the context does not provide a direct answer to this query. However, based on general knowledge, it is known that rice is often intercropped with other crops to enhance crop yields and reduce pests and diseases. Some common intercrops grown in between rice include legumes like cowpeas, mung beans, and soybeans, as well as other crops like maize, sorghum, and vegetables. The choice of intercrop depends on factors like climate, soil type, and market demand.\n",
      "\u001b[0m\u001b[1;3;38;5;200mThought: Now that I know some common intercrops that can be grown in between rice, I need to know more about the benefits of intercropping with rice.\n",
      "Action: query_engine\n",
      "Action Input: {'input': 'What are the benefits of intercropping with rice?'}\n",
      "\u001b[0m\u001b[1;3;34mObservation: There is no direct answer in the given context. However, we can infer that there is no mention of intercropping with rice in the given context. The context only talks about planting, transplanting, and crop management. Therefore, we cannot answer the query directly.\n",
      "\u001b[0m\u001b[1;3;38;5;200mThought: I need to know more about the benefits of intercropping with rice.\n",
      "Action: query_engine\n",
      "Action Input: {'input': 'What are the benefits of intercropping with rice?'}\n",
      "\u001b[0m\u001b[1;3;34mObservation: There is no mention of intercropping with rice in the given context. The context only discusses rice cultivation and its requirements.\n",
      "\u001b[0m\u001b[1;3;38;5;200mThought: I need to know more about the benefits of intercropping with rice.\n",
      "Action: query_engine\n",
      "Action Input: {'input': 'What are the benefits of intercropping with rice?'}\n",
      "\u001b[0m\u001b[1;3;34mObservation: There is no information provided about the benefits of intercropping with rice.\n",
      "\u001b[0m\u001b[1;3;38;5;200mThought: (Implicit) I can answer without any more tools!\n",
      "Answer: \n",
      "\u001b[0m"
     ]
    }
   ],
   "source": [
    "agent.reset()\n",
    "response = agent.chat(query)"
   ]
  },
  {
   "cell_type": "code",
   "execution_count": null,
   "metadata": {},
   "outputs": [],
   "source": [
    "# agent.reset()\n",
    "# response = agent.chat(query)"
   ]
  },
  {
   "cell_type": "code",
   "execution_count": null,
   "metadata": {},
   "outputs": [],
   "source": []
  },
  {
   "cell_type": "code",
   "execution_count": null,
   "metadata": {},
   "outputs": [],
   "source": []
  },
  {
   "cell_type": "code",
   "execution_count": null,
   "metadata": {},
   "outputs": [],
   "source": []
  },
  {
   "cell_type": "code",
   "execution_count": 24,
   "metadata": {},
   "outputs": [
    {
     "name": "stdout",
     "output_type": "stream",
     "text": [
      "Since tomato prices are on the lower side I have farm land in  karnataka, maharashtra, odhisa and assam, please recommend alternative crops best suited for me\n"
     ]
    }
   ],
   "source": [
    "print(query)"
   ]
  },
  {
   "cell_type": "markdown",
   "metadata": {},
   "source": [
    "mhop + raft \n",
    "query: Since tomato prices are on the lower side I have farm land in  karnataka, maharashtra, odhisa and assam, please recommend alternative crops best suited for me\n",
    "Thought: To recommend alternative crops, I need to know the climate and soil type suitable for those crops.\n",
    "Action: query_engine\n",
    "Action Input: {'input': 'What are the common crops that can be grown in Karnataka, Maharashtra, Odisha, and Assam?'}\n",
    "Observation: Rice is the most important and extensively grown food crop in India, occupying about 43 million ha of land. It is grown in almost all the states, with Uttar Pradesh, West Bengal and Punjab leading in area, production and productivity, respectively (Table 2). \n",
    "The common crops that can be grown in Karnataka, Maharashtra, Odisha, and Assam are:\n",
    "1. Rice - grown in Karnataka, Maharashtra, Odisha, and Assam.\n",
    "2. Wheat - grown in Karnataka, Maharashtra, and Assam.\n",
    "3. Jute - grown in Assam and Odisha.\n",
    "4. Sugarcane - grown in Karnataka, Maharashtra, and Odisha.\n",
    "5. Cotton - grown in Karnataka, Maharashtra, and Assam.\n",
    "6. Tobacco - grown in Karnataka, Maharashtra, and Assam.\n",
    "7. Coffee - grown in Karnataka.\n",
    "8. Tea - grown in Assam.\n",
    "9. Rubber - grown in Assam.\n",
    "10. Cashew - grown in Karnataka and Odisha.\n",
    "These crops are commonly grown in these states due to the suitable climate, soil, and water availability.\n",
    "Thought: Since tomato prices are on the lower side, I need to recommend alternative crops that are less dependent on tomato prices.\n",
    "Action: query_engine\n",
    "Action Input: {'input': 'What are the crops that have a stable demand and less dependent on tomato prices?'}\n",
    "Observation: There is no information in the given context about crops that have a stable demand and less dependent on tomato prices. The context is about rice and does not provide any information about other crops or their demand.\n",
    "Thought: I need to analyze the climate and soil type of the regions to recommend alternative crops.\n",
    "Action: query_engine\n",
    "Action Input: {'input': 'What are the crops that are suitable for the regions of Karnataka, Maharashtra, Odisha, and Assam?'}\n",
    "Observation: According to the context, the crops suitable for the regions are:\n",
    "- Karnataka: Jeerakasala, Gandhkasala, Sindigi (local)\n",
    "- Maharashtra: Ambemoha 102, Ambemoha 147, Ambemoha 159, Krishnasal\n",
    "- Odisha: Badshah Pasand, Govindabhog, Kataribhog, Sitabhog\n",
    "- Assam: Not mentioned specifically, but it is mentioned that rice is grown in Assam.\n",
    "Thought: Based on the observation, I can recommend alternative crops that are less dependent on tomato prices and suitable for the regions.\n",
    "Action: query_engine\n",
    "Action Input: {'input': 'What are the crops that are less dependent on tomato prices and suitable for the regions of Karnataka, Maharashtra, Odisha, and Assam?'}\n",
    "Observation: From the given context, it can be inferred that rice is the crop that is less dependent on tomato prices and suitable for the regions of Karnataka, Maharashtra, Odisha, and Assam. The context mentions rice varieties suitable for these regions, such as Jeerakasala, Gopalbhog, Ambemoha, and others.\n",
    "\n",
    "\n",
    "!!!!!! No match\n",
    "Observation: Error: Could not parse output. Please follow the thought-action-input format. Try again.\n",
    "Thought: I need to recommend alternative crops that are less dependent on tomato prices and suitable for the regions.\n",
    "Action: query_engine\n",
    "Action Input: {'input': 'What are the crops that are less dependent on tomato prices and suitable for the regions of Karnataka, Maharashtra, Odisha, and Assam?'}\n",
    "Observation: Crops like rice, wheat, and sugarcane ae less dependent on tomato prices and can be suitable for the regions of Karnataka, Maharashtra, Odisha, and Assam.\n",
    "Thought: I will recommend rice, wheat, and sugarcane as alternative crops for the regions of Karnataka, Maharashtra, Odisha, and Assam.\n",
    "Answer: Rice, wheat, and sugarcane are recommended as alternative crops that are less dependent on tomato prices and suitable for the regions of Karnataka, Maharashtra, Odisha, and Assam."
   ]
  },
  {
   "cell_type": "code",
   "execution_count": null,
   "metadata": {},
   "outputs": [],
   "source": []
  },
  {
   "cell_type": "code",
   "execution_count": null,
   "metadata": {},
   "outputs": [],
   "source": [
    "## base llama3 output\n",
    "# Setting `pad_token_id` to `eos_token_id`:128001 for open-end generation.\n",
    "# Thought: I need to use a tool to help me answer the question.\n",
    "# Action: query_engine\n",
    "# Action Input: {'input': 'What is the croping season of main type of wheat grown in the major wheat producing zone of India?'}\n",
    "# Setting `pad_token_id` to `eos_token_id`:128001 for open-end generation.\n",
    "# Observation: The cropping season of the main type of wheat grown in the major wheat producing zone of India is Rabi, which typically occurs from \n",
    "# March to June.\n",
    "# Setting `pad_token_id` to `eos_token_id`:128001 for open-end generation.\n",
    "# Observation: Error: Could not parse output. Please follow the thought-action-input format. Try again.\n",
    "# Thought: I need to use a tool to help me answer the question.\n",
    "# Action: query_engine\n",
    "# Action Input: {'input': 'What is the cropping season of wheat in India?'}\n",
    "# Setting `pad_token_id` to `eos_token_id`:128001 for open-end generation.\n",
    "# Observation: The cropping season of wheat in India is known as the Rabi season, which typically occurs from March to June.\n",
    "# Thought: (Implicit) I can answer without any more tools!\n",
    "# Answer: \n",
    "\n",
    "# Setting `pad_token_id` to `eos_token_id`:128001 for open-end generation.\n",
    "# Thought: I need to know the croping season of main type of wheat grown in the major wheat producing zone of India.\n",
    "# Action: query_engine\n",
    "# Action Input: {'input': 'What is the croping season of main type of wheat grown in the major wheat producing zone of India?'}\n",
    "# Setting `pad_token_id` to `eos_token_id`:128001 for open-end generation.\n",
    "# Observation: The cropping season of the main type of wheat grown in the major wheat producing zone of India is Rabi, which typically occurs from \n",
    "# March to June.\n",
    "# Thought: (Implicit) I can answer without any more tools!\n",
    "# Answer: \n",
    "\n",
    "# Setting `pad_token_id` to `eos_token_id`:128001 for open-end generation.\n",
    "# Thought: I need to use a tool to help me answer the question.\n",
    "# Action: query_engine\n",
    "# Action Input: {'input': 'What is the croping season of main type of wheat grown in the major wheat producing zone of India?'}\n",
    "# Setting `pad_token_id` to `eos_token_id`:128001 for open-end generation.\n",
    "# Observation: The cropping season of the main type of wheat grown in the major wheat producing zone of India is Rabi, which typically occurs from March \n",
    "# to June.\n",
    "# Thought: Now that I know the cropping season of the main type of wheat grown in the major wheat producing zone of India, I need to know the botanical \n",
    "# name of wheat.\n",
    "# Action: query_engine\n",
    "# Action Input: {'input': 'What is the botanical name of wheat?'}\n",
    "# Setting `pad_token_id` to `eos_token_id`:128001 for open-end generation.\n",
    "# Observation: Triticum aestivum\n",
    "# Thought: I can answer without any more tools!\n",
    "# Answer: The croping season of main type of wheat grown in the major wheat producing zone of India is Rabi, which typically occurs from March to June, \n",
    "# and the botanical name of wheat is Triticum aestivum."
   ]
  },
  {
   "cell_type": "code",
   "execution_count": null,
   "metadata": {},
   "outputs": [],
   "source": [
    "# Setting `pad_token_id` to `eos_token_id`:128001 for open-end generation.\n",
    "# Thought: To answer the query I need to know the main type of wheat grown in the major wheat producing zone of India.\n",
    "# Action: query_engine\n",
    "# Action Input: {'input': 'What is the main type of wheat grown in the major wheat producing zone of India?'}\n",
    "# Setting `pad_token_id` to `eos_token_id`:128001 for open-end generation.\n",
    "# Observation: T \n",
    "# Thought: Now that I know the main type of wheat grown in the major wheat producing zone of India, I need to know the cropping season of\n",
    "# that type of wheat.\n",
    "# Action: query_engine\n",
    "# Action Input: {'input': 'What is the cropping season of high-yielding and disease-resistant varieties of wheat?'}\n",
    "# Setting `pad_token_id` to `eos_token_id`:128001 for open-end generation.\n",
    "# Observation: The cropping season of high-yielding and disease-resistant varieties of wheat is typically during the Rabi season, which \n",
    "# generally ranges from March to June in various states of India.\n",
    "# Thought: I can answer without any more tools!\n",
    "# Answer: The cropping season of main type of wheat grown in the major wheat producing zone of India is typically during the Rabi season, \n",
    "# which generally ranges from March to June in various states of India."
   ]
  },
  {
   "cell_type": "code",
   "execution_count": null,
   "metadata": {},
   "outputs": [],
   "source": []
  },
  {
   "cell_type": "code",
   "execution_count": null,
   "metadata": {},
   "outputs": [],
   "source": []
  },
  {
   "cell_type": "code",
   "execution_count": null,
   "metadata": {},
   "outputs": [],
   "source": []
  }
 ],
 "metadata": {
  "kernelspec": {
   "display_name": "baseclone",
   "language": "python",
   "name": "python3"
  },
  "language_info": {
   "codemirror_mode": {
    "name": "ipython",
    "version": 3
   },
   "file_extension": ".py",
   "mimetype": "text/x-python",
   "name": "python",
   "nbconvert_exporter": "python",
   "pygments_lexer": "ipython3",
   "version": "3.12.3"
  }
 },
 "nbformat": 4,
 "nbformat_minor": 2
}
