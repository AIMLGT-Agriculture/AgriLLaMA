{
 "cells": [
  {
   "cell_type": "code",
   "execution_count": 1,
   "metadata": {},
   "outputs": [],
   "source": [
    "from llama3.utils import get_llama3, get_llama3_tokenizer\n",
    "from llama3.config import MODELS_DIR, DATA_DIR"
   ]
  },
  {
   "cell_type": "code",
   "execution_count": 2,
   "metadata": {},
   "outputs": [],
   "source": [
    "import os \n",
    "adapter_path = os.path.join(MODELS_DIR, \"Meta-Llama-3-8B-Instruct_ft_pop_kar_1_ep_1split\")"
   ]
  },
  {
   "cell_type": "code",
   "execution_count": 3,
   "metadata": {},
   "outputs": [],
   "source": [
    "data_path = os.path.join(DATA_DIR, \"raft_qn\")"
   ]
  },
  {
   "cell_type": "code",
   "execution_count": 4,
   "metadata": {},
   "outputs": [],
   "source": [
    "from datasets import load_from_disk, concatenate_datasets"
   ]
  },
  {
   "cell_type": "code",
   "execution_count": 5,
   "metadata": {},
   "outputs": [],
   "source": [
    "ds_rice = load_from_disk(os.path.join(data_path, \"rice\"))\n",
    "ds_wheat = load_from_disk(os.path.join(data_path, \"wheat\"))\n",
    "ds = concatenate_datasets([ds_rice, ds_wheat]) # type: ignore"
   ]
  },
  {
   "cell_type": "code",
   "execution_count": 7,
   "metadata": {},
   "outputs": [
    {
     "data": {
      "text/plain": [
       "Dataset({\n",
       "    features: ['prompt', 'completion'],\n",
       "    num_rows: 159\n",
       "})"
      ]
     },
     "execution_count": 7,
     "metadata": {},
     "output_type": "execute_result"
    }
   ],
   "source": [
    "def inst_format(example) :\n",
    "    return {\n",
    "        \"prompt\": \"Answer the qustion based on provided context. Context:\\n\"+example[\"instruction\"],\n",
    "            \"completion\": example[\"cot_answer\"]\n",
    "        }\n",
    "dataset = ds.map(inst_format)"
   ]
  },
  {
   "cell_type": "code",
   "execution_count": 11,
   "metadata": {},
   "outputs": [],
   "source": [
    "dataset = dataset.remove_columns(['id', 'type', 'question', 'context', 'oracle_context', 'cot_answer', 'instruction'])"
   ]
  },
  {
   "cell_type": "code",
   "execution_count": 8,
   "metadata": {},
   "outputs": [],
   "source": [
    "import dotenv\n",
    "from datasets import load_from_disk, concatenate_datasets\n",
    "import torch\n",
    "from transformers import AutoTokenizer, AutoModelForCausalLM, BitsAndBytesConfig\n",
    "import transformers\n",
    "from peft import prepare_model_for_kbit_training, LoraConfig, get_peft_model, PeftModel     # type: ignore\n",
    "from datasets import load_from_disk, concatenate_datasets\n",
    "import numpy as np\n",
    "from transformers.training_args import TrainingArguments\n",
    "from llama3.utils import get_llama3\n",
    "from trl import SFTTrainer"
   ]
  },
  {
   "cell_type": "code",
   "execution_count": 9,
   "metadata": {},
   "outputs": [
    {
     "name": "stderr",
     "output_type": "stream",
     "text": [
      "/data2/home/sahilkamble/anaconda3/envs/project/lib/python3.12/site-packages/huggingface_hub/file_download.py:1132: FutureWarning: `resume_download` is deprecated and will be removed in version 1.0.0. Downloads always resume when possible. If you want to force a new download, use `force_download=True`.\n",
      "  warnings.warn(\n"
     ]
    },
    {
     "data": {
      "application/vnd.jupyter.widget-view+json": {
       "model_id": "ee34419af23f41cda313e797f3aabba6",
       "version_major": 2,
       "version_minor": 0
      },
      "text/plain": [
       "Loading checkpoint shards:   0%|          | 0/4 [00:00<?, ?it/s]"
      ]
     },
     "metadata": {},
     "output_type": "display_data"
    },
    {
     "name": "stderr",
     "output_type": "stream",
     "text": [
      "/data2/home/sahilkamble/anaconda3/envs/project/lib/python3.12/site-packages/peft/tuners/lora/bnb.py:325: UserWarning: Merge lora module to 4-bit linear may get different generations due to rounding errors.\n",
      "  warnings.warn(\n",
      "/data2/home/sahilkamble/anaconda3/envs/project/lib/python3.12/site-packages/huggingface_hub/file_download.py:1132: FutureWarning: `resume_download` is deprecated and will be removed in version 1.0.0. Downloads always resume when possible. If you want to force a new download, use `force_download=True`.\n",
      "  warnings.warn(\n",
      "Special tokens have been added in the vocabulary, make sure the associated word embeddings are fine-tuned or trained.\n"
     ]
    }
   ],
   "source": [
    "model = \"Meta-Llama-3-8B-Instruct\"\n",
    "save_dir = f\"./models/{model}_ft_mhop\"\n",
    "target_modules=['k_proj', 'q_proj', 'v_proj', 'o_proj']\n",
    "model, tokenizer = get_llama3(adapter_path=adapter_path)\n",
    "model.gradient_checkpointing_enable()\n",
    "model = prepare_model_for_kbit_training(model)\n",
    "\n",
    "config = LoraConfig(\n",
    "    r=16, \n",
    "    lora_alpha=32,\n",
    "    target_modules=target_modules,\n",
    "    lora_dropout=0.05,\n",
    "    bias=\"none\",\n",
    "    task_type=\"CAUSAL_LM\"\n",
    ")\n",
    "model = get_peft_model(model, config)"
   ]
  },
  {
   "cell_type": "code",
   "execution_count": 12,
   "metadata": {},
   "outputs": [
    {
     "name": "stderr",
     "output_type": "stream",
     "text": [
      "/data2/home/sahilkamble/anaconda3/envs/project/lib/python3.12/site-packages/huggingface_hub/file_download.py:1132: FutureWarning: `resume_download` is deprecated and will be removed in version 1.0.0. Downloads always resume when possible. If you want to force a new download, use `force_download=True`.\n",
      "  warnings.warn(\n",
      "Special tokens have been added in the vocabulary, make sure the associated word embeddings are fine-tuned or trained.\n",
      "/data2/home/sahilkamble/anaconda3/envs/project/lib/python3.12/site-packages/trl/trainer/sft_trainer.py:246: UserWarning: You didn't pass a `max_seq_length` argument to the SFTTrainer, this will default to 1024\n",
      "  warnings.warn(\n"
     ]
    },
    {
     "data": {
      "application/vnd.jupyter.widget-view+json": {
       "model_id": "6e6e74dec6224a0298a1d7a329586501",
       "version_major": 2,
       "version_minor": 0
      },
      "text/plain": [
       "Map:   0%|          | 0/159 [00:00<?, ? examples/s]"
      ]
     },
     "metadata": {},
     "output_type": "display_data"
    },
    {
     "name": "stderr",
     "output_type": "stream",
     "text": [
      "`use_cache=True` is incompatible with gradient checkpointing. Setting `use_cache=False`.\n",
      "/data2/home/sahilkamble/anaconda3/envs/project/lib/python3.12/site-packages/torch/utils/checkpoint.py:464: UserWarning: torch.utils.checkpoint: the use_reentrant parameter should be passed explicitly. In version 2.4 we will raise an exception if use_reentrant is not passed. use_reentrant=False is recommended, but if you need to preserve the current default behavior, you can pass use_reentrant=True. Refer to docs for more details on the differences between the two variants.\n",
      "  warnings.warn(\n"
     ]
    },
    {
     "data": {
      "text/html": [
       "\n",
       "    <div>\n",
       "      \n",
       "      <progress value='60' max='60' style='width:300px; height:20px; vertical-align: middle;'></progress>\n",
       "      [60/60 09:35, Epoch 3/3]\n",
       "    </div>\n",
       "    <table border=\"1\" class=\"dataframe\">\n",
       "  <thead>\n",
       " <tr style=\"text-align: left;\">\n",
       "      <th>Step</th>\n",
       "      <th>Training Loss</th>\n",
       "    </tr>\n",
       "  </thead>\n",
       "  <tbody>\n",
       "  </tbody>\n",
       "</table><p>"
      ],
      "text/plain": [
       "<IPython.core.display.HTML object>"
      ]
     },
     "metadata": {},
     "output_type": "display_data"
    },
    {
     "data": {
      "text/plain": [
       "TrainOutput(global_step=60, training_loss=2.213941446940104, metrics={'train_runtime': 584.3203, 'train_samples_per_second': 0.816, 'train_steps_per_second': 0.103, 'total_flos': 2.167924542554112e+16, 'train_loss': 2.213941446940104, 'epoch': 3.0})"
      ]
     },
     "execution_count": 12,
     "metadata": {},
     "output_type": "execute_result"
    }
   ],
   "source": [
    "tokenizer.pad_token = tokenizer.eos_token\n",
    "trainer = SFTTrainer(\n",
    "    model=model,\n",
    "    train_dataset=dataset, # type: ignore\n",
    "    # eval_dataset=eval_data,\n",
    "    args=TrainingArguments(\n",
    "        auto_find_batch_size=True,\n",
    "        # resume_from_checkpoint=\"chkpt_path\",\n",
    "        # per_device_train_batch_size=1,\n",
    "        # per_device_eval_batch_size=1,\n",
    "        # gradient_accumulation_steps=grad_acc_steps,\n",
    "        # eval_accumulation_steps=grad_acc_steps,\n",
    "        # warmup_steps=10,\n",
    "        warmup_ratio=0.1,\n",
    "        # max_steps=20,\n",
    "        # learning_rate=2e-4,\n",
    "        # fp16=True,\n",
    "        bf16=True,\n",
    "        # logging_steps=20/grad_acc_steps,\n",
    "        # evaluation_strategy=\"steps\",\n",
    "        # eval_steps=20/grad_acc_steps,\n",
    "        output_dir=save_dir+\"_outputs\",\n",
    "        # optim=\"paged_adamw_8bit\",\n",
    "        # num_train_epochs=n_epochs\n",
    "    ),\n",
    "    data_collator=transformers.DataCollatorForLanguageModeling(tokenizer, mlm=False),\n",
    ")\n",
    "trainer.train() # type: ignore\n",
    "# trainer.save_model(save_dir)\n"
   ]
  },
  {
   "cell_type": "code",
   "execution_count": 13,
   "metadata": {},
   "outputs": [
    {
     "name": "stderr",
     "output_type": "stream",
     "text": [
      "/data2/home/sahilkamble/anaconda3/envs/project/lib/python3.12/site-packages/peft/utils/other.py:611: UserWarning: Unable to fetch remote file due to the following error 401 Client Error. (Request ID: Root=1-665c6683-279e0183026d37a140f1a2f8;4776ae9e-2ddd-4365-bfe5-0864f3dc5763)\n",
      "\n",
      "Cannot access gated repo for url https://huggingface.co/meta-llama/Meta-Llama-3-8B-Instruct/resolve/main/config.json.\n",
      "Access to model meta-llama/Meta-Llama-3-8B-Instruct is restricted. You must be authenticated to access it. - silently ignoring the lookup for the file config.json in meta-llama/Meta-Llama-3-8B-Instruct.\n",
      "  warnings.warn(\n",
      "/data2/home/sahilkamble/anaconda3/envs/project/lib/python3.12/site-packages/peft/utils/save_and_load.py:195: UserWarning: Could not find a config file in meta-llama/Meta-Llama-3-8B-Instruct - will assume that the vocabulary was not modified.\n",
      "  warnings.warn(\n"
     ]
    }
   ],
   "source": [
    "trainer.save_model(save_dir)"
   ]
  },
  {
   "cell_type": "code",
   "execution_count": null,
   "metadata": {},
   "outputs": [],
   "source": []
  },
  {
   "cell_type": "code",
   "execution_count": null,
   "metadata": {},
   "outputs": [],
   "source": []
  },
  {
   "cell_type": "code",
   "execution_count": null,
   "metadata": {},
   "outputs": [],
   "source": []
  },
  {
   "cell_type": "code",
   "execution_count": null,
   "metadata": {},
   "outputs": [],
   "source": []
  },
  {
   "cell_type": "code",
   "execution_count": null,
   "metadata": {},
   "outputs": [],
   "source": []
  },
  {
   "cell_type": "code",
   "execution_count": 60,
   "metadata": {},
   "outputs": [],
   "source": [
    "ds = ds.remove_columns(['id', 'type', 'question', 'context', 'oracle_context', 'cot_answer', 'instruction'])"
   ]
  },
  {
   "cell_type": "code",
   "execution_count": null,
   "metadata": {},
   "outputs": [],
   "source": []
  },
  {
   "cell_type": "code",
   "execution_count": null,
   "metadata": {},
   "outputs": [],
   "source": []
  },
  {
   "cell_type": "code",
   "execution_count": null,
   "metadata": {},
   "outputs": [],
   "source": []
  },
  {
   "cell_type": "code",
   "execution_count": 42,
   "metadata": {},
   "outputs": [],
   "source": [
    "def remove_oracle_context(example):\n",
    "    oracle_context = example['oracle_context']\n",
    "    example['non_oracle'] = [sentence for sentence in example['context']['sentences'][0] if sentence!=oracle_context]\n",
    "    return example\n",
    "ds = ds.map(remove_oracle_context)\n"
   ]
  },
  {
   "cell_type": "code",
   "execution_count": 43,
   "metadata": {},
   "outputs": [],
   "source": [
    "ds = ds.remove_columns(['type', 'context', 'instruction', 'oracle_context', 'cot_anwser', 'inst'])"
   ]
  },
  {
   "cell_type": "code",
   "execution_count": 44,
   "metadata": {},
   "outputs": [],
   "source": [
    "# def extract_ans(example):\n",
    "#     cot_ans = example['cot_answer']\n",
    "#     ans_split = cot_ans.split('<ANSWER>')\n",
    "#     if(len(ans_split) == 2):\n",
    "#         example['answer'] = ans_split[1]\n",
    "#     else :\n",
    "#         example['answer'] = \"\"\n",
    "#     return example\n",
    "# ds = ds.map(extract_ans)"
   ]
  },
  {
   "cell_type": "code",
   "execution_count": 35,
   "metadata": {},
   "outputs": [
    {
     "data": {
      "application/vnd.jupyter.widget-view+json": {
       "model_id": "0fef81a13a034c3ea63206ded0c6856f",
       "version_major": 2,
       "version_minor": 0
      },
      "text/plain": [
       "Filter:   0%|          | 0/159 [00:00<?, ? examples/s]"
      ]
     },
     "metadata": {},
     "output_type": "display_data"
    }
   ],
   "source": [
    "# ds = ds.filter(lambda example: len(example[\"cot_answer\"].split(\"<ANSWER>\")) < 2 )"
   ]
  },
  {
   "cell_type": "code",
   "execution_count": 45,
   "metadata": {},
   "outputs": [
    {
     "data": {
      "text/plain": [
       "Dataset({\n",
       "    features: ['id', 'question', 'oracle_context', 'cot_answer', 'non_oracle'],\n",
       "    num_rows: 159\n",
       "})"
      ]
     },
     "execution_count": 45,
     "metadata": {},
     "output_type": "execute_result"
    }
   ],
   "source": [
    "ds"
   ]
  },
  {
   "cell_type": "code",
   "execution_count": 14,
   "metadata": {},
   "outputs": [
    {
     "name": "stderr",
     "output_type": "stream",
     "text": [
      "/data2/home/sahilkamble/anaconda3/envs/project/lib/python3.12/site-packages/huggingface_hub/file_download.py:1132: FutureWarning: `resume_download` is deprecated and will be removed in version 1.0.0. Downloads always resume when possible. If you want to force a new download, use `force_download=True`.\n",
      "  warnings.warn(\n",
      "Special tokens have been added in the vocabulary, make sure the associated word embeddings are fine-tuned or trained.\n"
     ]
    }
   ],
   "source": [
    "tokenizer = get_llama3_tokenizer(adapter_path=adapter_path)"
   ]
  },
  {
   "cell_type": "code",
   "execution_count": 46,
   "metadata": {},
   "outputs": [],
   "source": [
    "# def get_token_lens(exmaple) :\n",
    "#    tlen = len(tokenizer.encode(exmaple['cot_answer']))\n",
    "#    tlen += len(tokenizer.encode(exmaple['question']))\n",
    "#    tlen += len(tokenizer.encode(exmaple['oracle_context']))\n",
    "#    for sentence in exmaple['non_oracle']:\n",
    "#       tlen += len(tokenizer.encode(sentence))\n",
    "#    exmaple['tlen'] = tlen\n",
    "#    return exmaple\n",
    "# ds = ds.map(get_token_lens)"
   ]
  },
  {
   "cell_type": "code",
   "execution_count": 50,
   "metadata": {},
   "outputs": [
    {
     "data": {
      "text/plain": [
       "{'id': ['seed_task_4',\n",
       "  'seed_task_13',\n",
       "  'seed_task_0',\n",
       "  'seed_task_11',\n",
       "  'seed_task_3'],\n",
       " 'question': ['What are the characteristics of Javanica variety and where is it mainly found?',\n",
       "  'What are the recommended rice hybrids and varieties for cultivation in different states of India?',\n",
       "  'What are some of the states in India where paddy cultivation is under rainfed upland situation?',\n",
       "  'When should Nitrofen be applied after transplanting rice?',\n",
       "  'What are the general guidelines for fertilization of high-yielding dwarf varieties of wheat under different agro-climatic conditions according to the All-India Coordinated Wheat Improvement Project?'],\n",
       " 'oracle_context': ['They may be awned or awnless,  leaves are narrow and dark green in colour. javanica : These varieties are characterized by a sti ff straw, long panicle with awned grains, \\nsparse tille ring habit, lo ng durat ion and low sen sitivity to dif ferences in day ligh t. These ar e \\nfound m ainly in Indonesia.',\n",
       "  'Selection of varietie s depends to a great extent on \\nthe agro -clim atic conditions, the cropping system  followed, grain quality and sev eral o ther \\nfactors. In India, rice hybr ids have been developed which gave 2-3 tim es more production \\n 5 \\nthan the improved varieties. The hybrids, ba smati, high yielding varieties for irrigated \\nconditions, varieties suitable for rainfed lands, boro season and low land situations are given \\nbelow. Oryza sativa \\n 6 \\nRice Hybrids recommended for different s tates \\nState Hybrid \\nAndhra Pra desh APHR 1, APHR 2, DRRH 1, PBH 71, HRI 120 \\nBihar, Gujar at, \\nMadhya Prad esh & \\nChattisgarh PHB 71, DRRH 1, PA 62 01 \\nHaryana PHB 71, DRRH 1, PA 62 01, Pusa RH 10, Pusa Su gandh-3 \\nKarnataka KRH1, KRH 2, HRI 120, Mugad Su gandha \\nMaharashtra Sahy adri, PHB 71, PA 62 01, HRI 120 \\nOrissa KRH 2, DRRH 1, PHB 71,  HRI 120 \\nPunjab Pusa RH 10, RH 204, Pusa  Sugand h-3 \\nTamil Nadu CORH 1, CORH 2, ADTRH 1, PHB 71,  DRRH 1, DRH 2, HRI 120 \\nUttaranchal Pant Sankard han 1, PHB 7 1, HRI 120, Pant Sugand h Dhan 15 \\nUttar Pradesh Pusa RH 10, Narendra Sankardhan 2  , PHB 71, PA 6 201, HRI 120 , UPRH \\n27 \\nWest Bengal CNRH 3, PA 6201 , KRH 2, PHB 71 \\nBasmati rice \\nvarieties \\nrecom mende d for \\ncultivation i n \\ndifferent \\nstates Zone/State Selected vari eties (hybrid s) \\nFor Northern India \\n(Haryana, Pu njab, \\nUttar Pradesh) N 10 B, Basmati 370, Pu sa Basmati 1, Hansraj T 3, T 9, N 12 , Taraori \\nBasmati (Karnal local), Pu sa Sugandh 2 , Pusa Sugan dh 3,  Pusa Su gandh 4, \\nPusa Sugand h 5, PRH 10 , Pant Dhan 15 , Kalanamak \\nJammu &  Kashmir Ranbir Basmati, Muskh B udgi, Basmati 370 \\nAndhra Pra desh Sumati, Kaki Rekhalu (HR 59), Su khdas (HR 47) \\nBihar &  Jharkhand Basmati 370, Badshahbhog , Mohanb hog, Ram  Tulsi \\nAssam Prasadbhog, Malbhog, Badshahbho g \\nRajasthan Mahasugandha, Kala Bad al, Kam od, Nawabi Kolam \\nUttarakhand  Pant Dhan 15 , Hansraj \\nHimachal Pradesh Desi B asmati 23 \\nGujarat Kam od 118, Pankhari 20 3, Zeerasal \\n 7 \\nState Hybrid \\nKarnataka Jeerak asala, Gandhkasala,  Sindigi  local \\nMadhya Prad esh Gopalbhog,  Kali Kam od, Chattri \\nMaharashtra Ambemoha 1 02, Am bemoha 147, Am bemoha 159, Krishnasal \\nWest Bengal Badshah Pasand, Govi ndab hog, Kataribh og, Sitabh og \\nTamil Nadu Jeerag a Samba \\nRice varieti es recommended for various states of India under irrigated conditions \\nState Improved varieties \\nBihar &   \\nJharkhand Pusa 33,  Pusa 2-21 , Pusa 169, M ehsuri, Saket 4, IR- 8, IR-20,  IR-2 4, BR 3 68, \\nJaya, Padma, Deepa, Sita, Bala, Kaveri , Ratna, Sabar mati, Janki, Rajendra \\nDhan 10 1, R. Dhan 2 02, B irsamati, Arvindha  Amrit  \\nMadhya Prad esh \\n & Chattisgarh Prabhat, IR  8, IR 24, Jaw ahar 75, Mehsuri, Bala, K averi, Ratna, Jaya, \\nPragati, Jagr ati, Kranti, G arima, Anup ama, Akashi, Madhuri, Va ni, \\nMahamaya \\nRajasthan   Jaya, Ratna , Pusa 33,  Ajay , Sab armati, Chambal PR 106, BK 29, BK 130, \\nVani \\nHaryana Pusa 33,  Pusa 169, Ajay, J aya, Bala , Ratna, Jho na 349, IR 8, PR 1 06, \\nKasturi \\nPunjab Jaya, Bala, A jai, PR 1 05, PR 108,  PR 1 09, IR 8 , Palman 579 , Mutant 9 5, \\nRatna, Sabarmati, Aravind a Amrit \\nUttar Pradesh Early  duration varieties  \\nFor plains: Saket 4, Govind, Prasad, M anhar, P usa 169, P usa 33, Pusa 2-\\n21, Rat na, N arendra 2  \\nFor Bundelkhand and Jhansi : PNR 381, Saket 4, Pr asad, Manhar , Pusa \\n169, Ratna  \\nFor Hilly areas: Ratna, VL K 35  \\nMedium duration varieties  \\nFor plains: Pant Dhan 4, P ant Dhan 10, Pant Dhan 11 , IR 24, IR 3 6, Sarju \\n52, Ja ya, NDR 80, Pant D han 12 \\nFor Bundelkhand and Jhansi:  Pant Dhan 4, Jay a  \\nFor Hilly areas:  VL 8, VL Dhan 16, VL K Dhan 39, P Dhan 6 \\nLong duratio n varieties \\nFor plains: Mehsuri, Cross 116, T 1 00 \\nFor Hilly areas: VL Dhan 221, VL 2 06  \\nJammu &  Kashmir SKAU 23, SK AU 27, Chen a, Jhalum, K ohsaar \\n 8 \\nState Hybrid \\nHimachal Pradesh Himalaya 22 16, RP 2421 \\nGujarat Gau R 1, Ga u R 10, Ga u R 100, Da ndi \\nKarnataka Prakash, M adhu, Vikram, Suma, Kusu ma, Vani , Akash, Sh aravati, Maha \\nMaya, BR 26 55-9-3- 1, Pa nt Dhan 12, Sakuntala , Gautam  \\nKerala Anupurna, Aswathi, Bharti, Jyoti, Rohini, Triveni, Sabari, Kunju, \\nPriya, Varsha, Kunju Varna, Gauri, Sweta \\nMaharashtra Ratnagiri 24, Karjat 184, Karjat  2, Ratnagiri 3, PKV Makarand \\nOrissa Rajeshwari, Hema, Sakti, Kumar, Ba la, IR 20, Prakash, Vikram, Vani, \\nAnjali \\nTamil Nadu Kari Kalan, Karuna, Bhawani, Vaghair, Bharti, Caveri, Krishna, \\nKanchi, PMK 2 and ADT 42, ADT (R)  45. Andhra Pradesh Hamsa, Tella-Hamsa, Vashista, Mahsuri, Kasturi, Kakatiya, Prakash, \\nVikrant, Bhadra Kali, Jagtiala Mahsuri, Jagitiala Sannalu, Santhi, \\nApurva, Mahamaya, Nandyal Sanna lu, Varalu, Bapatla Sannalu \\nWest Bengal and \\nAssam  IR 20, Jayanthi \\nPondicherry Aravinder, Ratnagiri 3 \\n \\nPromis ing rice varieties  for rainfed/w ater scare areas in d ifferent s tates \\nState Varieties \\nAndhra Pradesh Tulasi*,  Aditya, Prasanna, Rudr amm a, Krishna Ha msa, MTU 9993, \\nRavi, Varalu, Bapatla S annalu, Vagad Dhan, MTU 17, Mettasanna, \\nTellavadlu \\nAssam Dum ai, ARC 5929, Annada, Ra si*, Tulasi*, Anjali \\nBihar & \\nJharkhand Tulasi*, Aditya*, Rasi*, PNR 381* , Vandana, Birsadhan 101, BR \\n17, BR 16, Fine gora, B irsadhan 102, Birsadhan 103, Birsadhan 104, \\nBirsadhan 105, Birsadhan 6, Birs adhan 7, Birsadhan 201, Birsadhan  \\n202 Birsadhan 221, Heera*, Kanchan, Kalinga III, Vaidehi \\nGoa Goa 1 (Annada), Rasi*, Krishna Ham sa, Tulasi* \\nGujarat GR 2, GR 3, GR 5, GR 6, Rasi*, Prasanna, Tulasi*, GR 8, Sathi 34-\\n36, Early Kolam  161-172 \\nKarnataka Amrut, Mukti, IET 7564, Tulasi*, Ravi, Krishna Ham sa, Avinash, \\n 9 \\nState Varieties \\nHolom aldgiga, Mugad 161 \\nKerala Suvarna Modan, Onam , Harsha, PTB 10, PTB 28, PTB 29, PTB 30, \\nAnnapurna \\nMadhya Pradesh \\n& Chattisga rh Tulasi*, Aditya*, Heera*, Purva, JR 75, Rathe, Annada, Jawahar \\nRice 3-45, S afed dhan-3, Laloo 14 \\nMaharashtra Tulasi*, Aditya*, Heera*, Annada, Tuljapur 4, Ratnagiri 73-1-41, \\nRasi*, Ratnagiri 73-1, Kranti, Jalgaon 5, Nagpur 22, Ambem ohar \\n159, Karjat 3 \\nMeghalaya Rasi*, Heera*, Ngoba, Krishna Ham sa, Tulasi*, La m Pna h-1, Bha  \\nLum  1, Bha Lum  2, Sha h Sarang 1 \\nOrissa Heera*, Kalinga III, Annada, Parija t, Patha ra, Kalyani I I, Satta ri, \\nNeela, Rudra, Vanaprabha, Khandagi ri, Nilgiri,  Ghanteswari, Sneha, \\nBadam i, B 76, Kalakeri, BAM 12 \\nTamil Nadu IR 64*, IR 50*, TKM-9, Co 41, PM K 1, ASD 18, ADT 36, ADT 37, \\nPKU 2, Tula si*, Krishna Ha msa, Aditya, ADT (R) 45, PMK(R)3 \\nTripura Tulasi*, Heera*, Rasi*, Annada \\nUttar Pradesh Narendradhan 97, Narendradhan 18, Narendradhan 80, \\nNarendradhan 118, Saket 14, Tulasi*, Aditya*, Jawahar Rice 3-45, \\nSudha , Bala, Kaveri, P usa 2-21, N armada, Saket 4, N-22, ND 2, \\nNarendradhan 1, Govind, Jhona 349 \\nUttarakhand NDR 84, NDR 118, VL Dhan 263 , VL Dhan 221, VL Dhan 206, \\nShankar Dhan-1 \\nWest Bengal Rasi*, Khitish, Kiran, Bhupen, Khanika, Dular \\nHimachal Pradesh Shankar Dhan 1, Lalna Kanda 41 \\nPunjab Lalnakanda \\nJammu & K ashmir Ch 988, Ch 1039 \\nFor coastal and \\nsalt affec ted soils \\nof West Bengal, \\nOrissa, Kerala, \\nAndhra Pradesh Sumati, CSR 23 \\nFor Tamil Nadu, \\nMaharashtra TRT( R )2 \\nPanvel-3 \\n*Central Release \\n 10 \\nRice varieties grow n in Boro season in different states \\nState Traditional variet ies Modern varieties \\nMeghalaya Risi, Pisu m, CH \\n1039, CH 988 IR 36, Vijaya \\nWest \\nBengal CB-1, CB-2, Latisail, \\nPatnai-23, Kal ma \\n222, Jhingasail, \\nRaghusail IR 36, Khitish, IET 2233, Ratna, IET 826, IET 4786, \\nIET 1414 \\nAssam Boro 1, Tepi Boro, \\nMadhab-Boro, \\nJagliboro, Gabriboro Mehsuri, Krishna, Mala, Jaym ati, Jaya, Vijeta, \\nChandram a \\nBihar Pusa 2-21, Pusa 33, Saket 4, Jaya, Sita, Sujata, \\nMehsuri, Gautam  \\nEastern \\n Uttar  \\nPradesh  \\n \\nTraditional tall \\ncultivars \\n NDR 7, Bar ani Deep, G autam , Prabhat, Richhariya, \\nSuraj, Dhan  luxm i, Joym ati, Boro Dhan, Borochina,  \\nChinese Boro, Boro Safeda, NDR 359, ARC 4377, \\nKala Boro (Malhar), Surya, Bans Bareilly, Saket-4, \\nSarjoo-49, S arjoo-52 \\nKerala  Dhanu \\nTripura  Swati \\n \\n 11 \\nPromis ing HYVs suita ble for ra infed low lands \\nDEPTH OF  WAT ER Very deep & \\nfloating(>100c\\nm) State \\nShallow   \\n(0-30 cm) Intermed iate Semi-\\ndeep (30-\\n60 cm) Deep \\n(50-100 cm) \\nBihar Radha,  \\nSugandha, Jay ashree, \\nRajashre e,  \\nRajendra  \\nMahsuri-1  Jitendra, \\nSudha,  \\nJanaki  For eastern  \\nIndia:  \\n(Transplanted \\nin June)  \\nMaguribao, \\nKDML 105, JM \\n50, Barjahingia, \\nPanidhan, \\nTulasi, Sabita, \\nManoharasali, \\nBash-Avarodhi  \\n(Direct se eding \\nin August )  \\nKaling  III,  \\nNeela, Luit  \\nWest \\nBengal Neer aja, Joge n Mandira, \\nBiraj, Suresh Bhudeb, \\nMatangini, \\nNalini, \\nSabita, \\nAmulya, \\nDinesh Jaladhi 1, \\nJaladhi 2, \\nPurrendu  \\nOrissa Savitri, Aditya  \\nRamakrishna, \\nMahalax mi, Moti, \\nPadmini, Samalai,  CR 101 4, \\nDharitri Kalashre e, \\nPanidhan, \\nUtkalprabh\\na, Gay atri, \\nTulasi, \\nSeema Ram bha, \\nPurrendu  \\nAssam Bhogali,  Rongilee, \\nKushal, Moniram , \\nPiolee, Ranjit     \\nUttar \\nPradesh Mehsuri, Pankaj, T 26, \\nT 100,  Cross 116  Jalpriy a, \\nJitendra Purrendu, \\nJalmanga, \\nJalnidhi  \\nMadhya \\nPradesh Madhuri, Rashm i     \\nMahara\\nshtra SKL 8, Dhanarasi     \\nAndhra \\nPradesh Tholakari, Godavari     \\n 12 \\nTypes of Rice Cultivation \\nIn India, ric e is cu ltivated mainly on two types of  soil, upland s and lowlan ds \\nA. Upland rice cultivation \\n(a) Drilling \\n(b) Broadcast \\nB.',\n",
       "  'Due to failure of monsoon, the far mer has to bear a heavy \\nloss. A vast tract of paddy in Uttar Pradesh, Bihar, Orissa, parts of Tam il Nadu and Andhra \\nPradesh is under rainfed upland situation. Field Prepa ration \\nAfter harves ting the rabi crops in April-May, the field s hould be ploughed with soil turning \\nplough. The field should be prepar ed and bunds should be m ade around the field just after the \\nfirst shower of m onsoon.',\n",
       "  'Drain out \\nwater before the application of herbicide. Nitrofen : It is used as pre-em ergence to contro l annual weeds for about four wee ks. This \\nshould be applied with 2-3 days after transp lanting rice.',\n",
       "  'It is therefore necessary to supplement manures with \\nfertilizers to realize high yields. A crop of wheat on an average remove 25-9-33-4.7-5.3-\\n4.7 (81.7) kg/ha of N-P 2O5-K2O-S-Ca-Mg for every t onne of grain produced. Indian soils are generally deficient in N, but  the status of P and K varies from place to \\nplace depending on native nutrient content and previous fertilization history of field. 12Fertilizer dose for wheat should therefore be re lated to the fertility status of the soil as \\nindicated by soil test. In case soil test recommendations are not available, the general \\nguidelines for fertilization of high-yielding dw arf varieties grown under different agro-\\nclimatic conditions laid down by the All-I ndia Coordinated Wheat Improvement Project \\nshould be followed. Nutrient requirement of wheat (irrigated area) \\nNutrient quantity (kg/ha) Variety \\nN P2O5 K2O \\nIrrigated  Deshi  and Dwarf varieties (Late sown) 70 40 40 \\nIrrigated Dwarf varieties (Timely sown) 110 50 40 \\nUn-irrigated / rainfed  Deshi varieties 25 20 15 \\nUn-irrigated / rainfed  Dwarf varieties 50 30 20 \\n \\nMethod and Time of Application of Fertilizers \\nThe response of dwarf wheat to applied N ranges between 35-45 kg grain/kg of N in \\ncomparison to 5 kg grain/kg of N in case improved tall varieties. It ha s also been observed \\nthat lodging susceptible cult ivars and rainfed dwarf cultiv ars respond up to 40 kg N/ha, but \\nthe economic dose of N for dwarf wheat unde r irrigated condition is 100-120 kg/ha. Under \\nnormal soil conditions, both P and K give best  response up to 40 kg/ha. In most of the \\nlight-textured soils, Zn has been a key elemen t for getting higher yields. Zinc sulphate @ \\n20-25 kg/ha should be applied in soil be fore last cultivation in these soils. The rate of fertilizer application also depends upon the preceding crop, viz. after an \\nexhaustive crop like pearl millet and sor ghum, a dose of 120-150 kg N/ha is required, \\nwhile after fallow or any legume crop or heavily fertilized crops like hybrid maize, potato \\netc., an application of 80-100 kg/ha N is quite sufficient. In medium and heavy soils, \\nnitrogenous fertilizers should be  applied in 2 splits i.e., ½ at the time of sowing and the \\nremaining ½ at the first irrigation. In sandy so ils, top-dressing should be made in 2 or 3 \\ninstallments if heavy dose of N is to be applied.'],\n",
       " 'cot_answer': ['Step 1: Identify the key elements of the question. The question asks for the characteristics of the Javanica variety and where it is mainly found.\\n\\nStep 2: Look for these key elements in the context. The context provides information about the characteristics of the Javanica variety and its primary location.\\n\\nStep 3: Extract the relevant information from the context. \\n\\n##begin_quote##\\nThese varieties are characterized by a stiff straw, long panicle with awned grains, sparse tille ring habit, long duration and low sensitivity to differences in day light. These are found mainly in Indonesia.\\n##end_quote##\\n\\nStep 4: Formulate the answer using the extracted information. The characteristics of the Javanica variety include a stiff straw, long panicle with awned grains, sparse tille ring habit, long duration, and low sensitivity to differences in daylight. It is mainly found in Indonesia.\\n\\n<ANSWER>: The Javanica variety is characterized by a stiff straw, long panicle with awned grains, sparse tille ring habit, long duration, and low sensitivity to differences in daylight. It is mainly found in Indonesia.',\n",
       "  'The question asks for the recommended rice hybrids and varieties for cultivation in different states of India. The context provides a detailed list of these recommendations. \\n\\nFirstly, the context provides a list of recommended rice hybrids for different states. For example, for Andhra Pradesh, the recommended hybrids are APHR 1, APHR 2, DRRH 1, PBH 71, HRI 120. Similarly, for Bihar, Gujarat, Madhya Pradesh & Chattisgarh, the recommended hybrids are PHB 71, DRRH 1, PA 6201.\\n\\n##begin_quote##\\nRice Hybrids recommended for different states \\nState Hybrid \\nAndhra Pradesh APHR 1, APHR 2, DRRH 1, PBH 71, HRI 120 \\nBihar, Gujarat, Madhya Pradesh & Chattisgarh PHB 71, DRRH 1, PA 6201 \\n##end_quote##\\n\\nSecondly, the context provides a list of recommended Basmati rice varieties for different states. For example, for Northern India (Haryana, Punjab, Uttar Pradesh), the recommended varieties are N 10 B, Basmati 370, Pusa Basmati 1, Hansraj T 3, T 9, N 12, Taraori Basmati (Karnal local), Pusa Sugandh 2, Pusa Sugandh 3, Pusa Sugandh 4, Pusa Sugandh 5, PRH 10, Pant Dhan 15, Kalanamak.\\n\\n##begin_quote##\\nBasmati rice varieties recommended for cultivation in different states Zone/State Selected varieties (hybrids) \\nFor Northern India (Haryana, Punjab, Uttar Pradesh) N 10 B, Basmati 370, Pusa Basmati 1, Hansraj T 3, T 9, N 12, Taraori Basmati (Karnal local), Pusa Sugandh 2, Pusa Sugandh 3, Pusa Sugandh 4, Pusa Sugandh 5, PRH 10, Pant Dhan 15, Kalanamak\\n##end_quote##\\n\\nLastly, the context provides a list of recommended rice varieties for various states of India under irrigated conditions, for rainfed/water scare areas, grown in Boro season, and suitable for rainfed low lands. For example, for Bihar & Jharkhand under irrigated conditions, the recommended varieties are Pusa 33, Pusa 2-21, Pusa 169, Mehsuri, Saket 4, IR- 8, IR-20, IR-24, BR 368, Jaya, Padma, Deepa, Sita, Bala, Kaveri, Ratna, Sabarmati, Janki, Rajendra Dhan 101, R. Dhan 202, Birsamati, Arvindha Amrit.\\n\\n##begin_quote##\\nRice varieties recommended for various states of India under irrigated conditions \\nState Improved varieties \\nBihar & Jharkhand Pusa 33, Pusa 2-21, Pusa 169, Mehsuri, Saket 4, IR- 8, IR-20, IR-24, BR 368, Jaya, Padma, Deepa, Sita, Bala, Kaveri, Ratna, Sabarmati, Janki, Rajendra Dhan 101, R. Dhan 202, Birsamati, Arvindha Amrit\\n##end_quote##\\n\\n<ANSWER>: The recommended rice hybrids and varieties for cultivation in different states of India include APHR 1, APHR 2, DRRH 1, PBH 71, HRI 120 for Andhra Pradesh, PHB 71, DRRH 1, PA 6201 for Bihar, Gujarat, Madhya Pradesh & Chattisgarh. For Basmati rice cultivation in Northern India (Haryana, Punjab, Uttar Pradesh), the recommended varieties are N 10 B, Basmati 370, Pusa Basmati 1, Hansraj T 3, T 9, N 12, Taraori Basmati (Karnal local), Pusa Sugandh 2, Pusa Sugandh 3, Pusa Sugandh 4, Pusa Sugandh 5, PRH 10, Pant Dhan 15, Kalanamak. For Bihar & Jharkhand under irrigated conditions, the recommended varieties are Pusa 33, Pusa 2-21, Pusa 169, Mehsuri, Saket 4, IR- 8, IR-20, IR-24, BR 368, Jaya, Padma, Deepa, Sita, Bala, Kaveri, Ratna, Sabarmati, Janki, Rajendra Dhan 101, R. Dhan 202, Birsamati, Arvindha Amrit.',\n",
       "  'To answer the question, we need to identify the states in India where paddy cultivation is under rainfed upland situation. This information is directly provided in the context.\\n\\n##begin_quote##\\n\"A vast tract of paddy in Uttar Pradesh, Bihar, Orissa, parts of Tam il Nadu and Andhra Pradesh is under rainfed upland situation.\"\\n##end_quote##\\n\\nFrom this quote, we can see that the states where paddy cultivation is under rainfed upland situation are Uttar Pradesh, Bihar, Orissa, Tamil Nadu, and Andhra Pradesh.\\n\\n<ANSWER>: The states in India where paddy cultivation is under rainfed upland situation are Uttar Pradesh, Bihar, Orissa, Tamil Nadu, and Andhra Pradesh.',\n",
       "  'Step 1: Identify the key elements in the question. The question is asking about the timing of Nitrofen application after transplanting rice.\\n\\nStep 2: Look for relevant information in the context. The context mentions Nitrofen and its application in relation to rice transplanting.\\n\\nStep 3: Extract the relevant information from the context. The context states, ##begin_quote##\"Nitrofen : It is used as pre-em ergence to contro l annual weeds for about four wee ks. This should be applied with 2-3 days after transp lanting rice.\"##end_quote##\\n\\nStep 4: Interpret the extracted information. This means that Nitrofen should be applied 2-3 days after the rice has been transplanted.\\n\\nStep 5: Formulate the answer based on the interpreted information.\\n\\n<ANSWER>: Nitrofen should be applied 2-3 days after transplanting rice.',\n",
       "  'To answer the question, we need to extract information from the context about the general guidelines for fertilization of high-yielding dwarf varieties of wheat under different agro-climatic conditions according to the All-India Coordinated Wheat Improvement Project. \\n\\nFirstly, the context mentions that ##begin_quote##\"Fertilizer dose for wheat should therefore be related to the fertility status of the soil as indicated by soil test. In case soil test recommendations are not available, the general guidelines for fertilization of high-yielding dwarf varieties grown under different agro-climatic conditions laid down by the All-India Coordinated Wheat Improvement Project should be followed.\"##end_quote##\\n\\nThe context then provides specific nutrient requirements for different varieties of wheat under different conditions. For irrigated dwarf varieties that are timely sown, the nutrient requirement is 110 kg/ha of N, 50 kg/ha of P2O5, and 40 kg/ha of K2O. For late sown irrigated Deshi and Dwarf varieties, the requirement is 70 kg/ha of N, 40 kg/ha of P2O5, and 40 kg/ha of K2O. For un-irrigated or rainfed dwarf varieties, the requirement is 50 kg/ha of N, 30 kg/ha of P2O5, and 20 kg/ha of K2O.\\n\\nThe context also mentions that the rate of fertilizer application depends on the preceding crop. After an exhaustive crop like pearl millet and sorghum, a dose of 120-150 kg N/ha is required, while after fallow or any legume crop or heavily fertilized crops like hybrid maize, potato etc., an application of 80-100 kg/ha N is quite sufficient. In medium and heavy soils, nitrogenous fertilizers should be applied in 2 splits i.e., ½ at the time of sowing and the remaining ½ at the first irrigation. In sandy soils, top-dressing should be made in 2 or 3 installments if heavy dose of N is to be applied.\\n\\n<ANSWER>: The general guidelines for fertilization of high-yielding dwarf varieties of wheat under different agro-climatic conditions according to the All-India Coordinated Wheat Improvement Project are as follows: For irrigated dwarf varieties that are timely sown, the nutrient requirement is 110 kg/ha of N, 50 kg/ha of P2O5, and 40 kg/ha of K2O. For late sown irrigated Deshi and Dwarf varieties, the requirement is 70 kg/ha of N, 40 kg/ha of P2O5, and 40 kg/ha of K2O. For un-irrigated or rainfed dwarf varieties, the requirement is 50 kg/ha of N, 30 kg/ha of P2O5, and 20 kg/ha of K2O. The rate of fertilizer application also depends on the preceding crop. After an exhaustive crop like pearl millet and sorghum, a dose of 120-150 kg N/ha is required, while after fallow or any legume crop or heavily fertilized crops like hybrid maize, potato etc., an application of 80-100 kg/ha N is quite sufficient. In medium and heavy soils, nitrogenous fertilizers should be applied in 2 splits i.e., ½ at the time of sowing and the remaining ½ at the first irrigation. In sandy soils, top-dressing should be made in 2 or 3 installments if heavy dose of N is to be applied.'],\n",
       " 'non_oracle': [['Selection of varietie s depends to a great extent on \\nthe agro -clim atic conditions, the cropping system  followed, grain quality and sev eral o ther \\nfactors. In India, rice hybr ids have been developed which gave 2-3 tim es more production \\n 5 \\nthan the improved varieties. The hybrids, ba smati, high yielding varieties for irrigated \\nconditions, varieties suitable for rainfed lands, boro season and low land situations are given \\nbelow. Oryza sativa \\n 6 \\nRice Hybrids recommended for different s tates \\nState Hybrid \\nAndhra Pra desh APHR 1, APHR 2, DRRH 1, PBH 71, HRI 120 \\nBihar, Gujar at, \\nMadhya Prad esh & \\nChattisgarh PHB 71, DRRH 1, PA 62 01 \\nHaryana PHB 71, DRRH 1, PA 62 01, Pusa RH 10, Pusa Su gandh-3 \\nKarnataka KRH1, KRH 2, HRI 120, Mugad Su gandha \\nMaharashtra Sahy adri, PHB 71, PA 62 01, HRI 120 \\nOrissa KRH 2, DRRH 1, PHB 71,  HRI 120 \\nPunjab Pusa RH 10, RH 204, Pusa  Sugand h-3 \\nTamil Nadu CORH 1, CORH 2, ADTRH 1, PHB 71,  DRRH 1, DRH 2, HRI 120 \\nUttaranchal Pant Sankard han 1, PHB 7 1, HRI 120, Pant Sugand h Dhan 15 \\nUttar Pradesh Pusa RH 10, Narendra Sankardhan 2  , PHB 71, PA 6 201, HRI 120 , UPRH \\n27 \\nWest Bengal CNRH 3, PA 6201 , KRH 2, PHB 71 \\nBasmati rice \\nvarieties \\nrecom mende d for \\ncultivation i n \\ndifferent \\nstates Zone/State Selected vari eties (hybrid s) \\nFor Northern India \\n(Haryana, Pu njab, \\nUttar Pradesh) N 10 B, Basmati 370, Pu sa Basmati 1, Hansraj T 3, T 9, N 12 , Taraori \\nBasmati (Karnal local), Pu sa Sugandh 2 , Pusa Sugan dh 3,  Pusa Su gandh 4, \\nPusa Sugand h 5, PRH 10 , Pant Dhan 15 , Kalanamak \\nJammu &  Kashmir Ranbir Basmati, Muskh B udgi, Basmati 370 \\nAndhra Pra desh Sumati, Kaki Rekhalu (HR 59), Su khdas (HR 47) \\nBihar &  Jharkhand Basmati 370, Badshahbhog , Mohanb hog, Ram  Tulsi \\nAssam Prasadbhog, Malbhog, Badshahbho g \\nRajasthan Mahasugandha, Kala Bad al, Kam od, Nawabi Kolam \\nUttarakhand  Pant Dhan 15 , Hansraj \\nHimachal Pradesh Desi B asmati 23 \\nGujarat Kam od 118, Pankhari 20 3, Zeerasal \\n 7 \\nState Hybrid \\nKarnataka Jeerak asala, Gandhkasala,  Sindigi  local \\nMadhya Prad esh Gopalbhog,  Kali Kam od, Chattri \\nMaharashtra Ambemoha 1 02, Am bemoha 147, Am bemoha 159, Krishnasal \\nWest Bengal Badshah Pasand, Govi ndab hog, Kataribh og, Sitabh og \\nTamil Nadu Jeerag a Samba \\nRice varieti es recommended for various states of India under irrigated conditions \\nState Improved varieties \\nBihar &   \\nJharkhand Pusa 33,  Pusa 2-21 , Pusa 169, M ehsuri, Saket 4, IR- 8, IR-20,  IR-2 4, BR 3 68, \\nJaya, Padma, Deepa, Sita, Bala, Kaveri , Ratna, Sabar mati, Janki, Rajendra \\nDhan 10 1, R. Dhan 2 02, B irsamati, Arvindha  Amrit  \\nMadhya Prad esh \\n & Chattisgarh Prabhat, IR  8, IR 24, Jaw ahar 75, Mehsuri, Bala, K averi, Ratna, Jaya, \\nPragati, Jagr ati, Kranti, G arima, Anup ama, Akashi, Madhuri, Va ni, \\nMahamaya \\nRajasthan   Jaya, Ratna , Pusa 33,  Ajay , Sab armati, Chambal PR 106, BK 29, BK 130, \\nVani \\nHaryana Pusa 33,  Pusa 169, Ajay, J aya, Bala , Ratna, Jho na 349, IR 8, PR 1 06, \\nKasturi \\nPunjab Jaya, Bala, A jai, PR 1 05, PR 108,  PR 1 09, IR 8 , Palman 579 , Mutant 9 5, \\nRatna, Sabarmati, Aravind a Amrit \\nUttar Pradesh Early  duration varieties  \\nFor plains: Saket 4, Govind, Prasad, M anhar, P usa 169, P usa 33, Pusa 2-\\n21, Rat na, N arendra 2  \\nFor Bundelkhand and Jhansi : PNR 381, Saket 4, Pr asad, Manhar , Pusa \\n169, Ratna  \\nFor Hilly areas: Ratna, VL K 35  \\nMedium duration varieties  \\nFor plains: Pant Dhan 4, P ant Dhan 10, Pant Dhan 11 , IR 24, IR 3 6, Sarju \\n52, Ja ya, NDR 80, Pant D han 12 \\nFor Bundelkhand and Jhansi:  Pant Dhan 4, Jay a  \\nFor Hilly areas:  VL 8, VL Dhan 16, VL K Dhan 39, P Dhan 6 \\nLong duratio n varieties \\nFor plains: Mehsuri, Cross 116, T 1 00 \\nFor Hilly areas: VL Dhan 221, VL 2 06  \\nJammu &  Kashmir SKAU 23, SK AU 27, Chen a, Jhalum, K ohsaar \\n 8 \\nState Hybrid \\nHimachal Pradesh Himalaya 22 16, RP 2421 \\nGujarat Gau R 1, Ga u R 10, Ga u R 100, Da ndi \\nKarnataka Prakash, M adhu, Vikram, Suma, Kusu ma, Vani , Akash, Sh aravati, Maha \\nMaya, BR 26 55-9-3- 1, Pa nt Dhan 12, Sakuntala , Gautam  \\nKerala Anupurna, Aswathi, Bharti, Jyoti, Rohini, Triveni, Sabari, Kunju, \\nPriya, Varsha, Kunju Varna, Gauri, Sweta \\nMaharashtra Ratnagiri 24, Karjat 184, Karjat  2, Ratnagiri 3, PKV Makarand \\nOrissa Rajeshwari, Hema, Sakti, Kumar, Ba la, IR 20, Prakash, Vikram, Vani, \\nAnjali \\nTamil Nadu Kari Kalan, Karuna, Bhawani, Vaghair, Bharti, Caveri, Krishna, \\nKanchi, PMK 2 and ADT 42, ADT (R)  45. Andhra Pradesh Hamsa, Tella-Hamsa, Vashista, Mahsuri, Kasturi, Kakatiya, Prakash, \\nVikrant, Bhadra Kali, Jagtiala Mahsuri, Jagitiala Sannalu, Santhi, \\nApurva, Mahamaya, Nandyal Sanna lu, Varalu, Bapatla Sannalu \\nWest Bengal and \\nAssam  IR 20, Jayanthi \\nPondicherry Aravinder, Ratnagiri 3 \\n \\nPromis ing rice varieties  for rainfed/w ater scare areas in d ifferent s tates \\nState Varieties \\nAndhra Pradesh Tulasi*,  Aditya, Prasanna, Rudr amm a, Krishna Ha msa, MTU 9993, \\nRavi, Varalu, Bapatla S annalu, Vagad Dhan, MTU 17, Mettasanna, \\nTellavadlu \\nAssam Dum ai, ARC 5929, Annada, Ra si*, Tulasi*, Anjali \\nBihar & \\nJharkhand Tulasi*, Aditya*, Rasi*, PNR 381* , Vandana, Birsadhan 101, BR \\n17, BR 16, Fine gora, B irsadhan 102, Birsadhan 103, Birsadhan 104, \\nBirsadhan 105, Birsadhan 6, Birs adhan 7, Birsadhan 201, Birsadhan  \\n202 Birsadhan 221, Heera*, Kanchan, Kalinga III, Vaidehi \\nGoa Goa 1 (Annada), Rasi*, Krishna Ham sa, Tulasi* \\nGujarat GR 2, GR 3, GR 5, GR 6, Rasi*, Prasanna, Tulasi*, GR 8, Sathi 34-\\n36, Early Kolam  161-172 \\nKarnataka Amrut, Mukti, IET 7564, Tulasi*, Ravi, Krishna Ham sa, Avinash, \\n 9 \\nState Varieties \\nHolom aldgiga, Mugad 161 \\nKerala Suvarna Modan, Onam , Harsha, PTB 10, PTB 28, PTB 29, PTB 30, \\nAnnapurna \\nMadhya Pradesh \\n& Chattisga rh Tulasi*, Aditya*, Heera*, Purva, JR 75, Rathe, Annada, Jawahar \\nRice 3-45, S afed dhan-3, Laloo 14 \\nMaharashtra Tulasi*, Aditya*, Heera*, Annada, Tuljapur 4, Ratnagiri 73-1-41, \\nRasi*, Ratnagiri 73-1, Kranti, Jalgaon 5, Nagpur 22, Ambem ohar \\n159, Karjat 3 \\nMeghalaya Rasi*, Heera*, Ngoba, Krishna Ham sa, Tulasi*, La m Pna h-1, Bha  \\nLum  1, Bha Lum  2, Sha h Sarang 1 \\nOrissa Heera*, Kalinga III, Annada, Parija t, Patha ra, Kalyani I I, Satta ri, \\nNeela, Rudra, Vanaprabha, Khandagi ri, Nilgiri,  Ghanteswari, Sneha, \\nBadam i, B 76, Kalakeri, BAM 12 \\nTamil Nadu IR 64*, IR 50*, TKM-9, Co 41, PM K 1, ASD 18, ADT 36, ADT 37, \\nPKU 2, Tula si*, Krishna Ha msa, Aditya, ADT (R) 45, PMK(R)3 \\nTripura Tulasi*, Heera*, Rasi*, Annada \\nUttar Pradesh Narendradhan 97, Narendradhan 18, Narendradhan 80, \\nNarendradhan 118, Saket 14, Tulasi*, Aditya*, Jawahar Rice 3-45, \\nSudha , Bala, Kaveri, P usa 2-21, N armada, Saket 4, N-22, ND 2, \\nNarendradhan 1, Govind, Jhona 349 \\nUttarakhand NDR 84, NDR 118, VL Dhan 263 , VL Dhan 221, VL Dhan 206, \\nShankar Dhan-1 \\nWest Bengal Rasi*, Khitish, Kiran, Bhupen, Khanika, Dular \\nHimachal Pradesh Shankar Dhan 1, Lalna Kanda 41 \\nPunjab Lalnakanda \\nJammu & K ashmir Ch 988, Ch 1039 \\nFor coastal and \\nsalt affec ted soils \\nof West Bengal, \\nOrissa, Kerala, \\nAndhra Pradesh Sumati, CSR 23 \\nFor Tamil Nadu, \\nMaharashtra TRT( R )2 \\nPanvel-3 \\n*Central Release \\n 10 \\nRice varieties grow n in Boro season in different states \\nState Traditional variet ies Modern varieties \\nMeghalaya Risi, Pisu m, CH \\n1039, CH 988 IR 36, Vijaya \\nWest \\nBengal CB-1, CB-2, Latisail, \\nPatnai-23, Kal ma \\n222, Jhingasail, \\nRaghusail IR 36, Khitish, IET 2233, Ratna, IET 826, IET 4786, \\nIET 1414 \\nAssam Boro 1, Tepi Boro, \\nMadhab-Boro, \\nJagliboro, Gabriboro Mehsuri, Krishna, Mala, Jaym ati, Jaya, Vijeta, \\nChandram a \\nBihar Pusa 2-21, Pusa 33, Saket 4, Jaya, Sita, Sujata, \\nMehsuri, Gautam  \\nEastern \\n Uttar  \\nPradesh  \\n \\nTraditional tall \\ncultivars \\n NDR 7, Bar ani Deep, G autam , Prabhat, Richhariya, \\nSuraj, Dhan  luxm i, Joym ati, Boro Dhan, Borochina,  \\nChinese Boro, Boro Safeda, NDR 359, ARC 4377, \\nKala Boro (Malhar), Surya, Bans Bareilly, Saket-4, \\nSarjoo-49, S arjoo-52 \\nKerala  Dhanu \\nTripura  Swati \\n \\n 11 \\nPromis ing HYVs suita ble for ra infed low lands \\nDEPTH OF  WAT ER Very deep & \\nfloating(>100c\\nm) State \\nShallow   \\n(0-30 cm) Intermed iate Semi-\\ndeep (30-\\n60 cm) Deep \\n(50-100 cm) \\nBihar Radha,  \\nSugandha, Jay ashree, \\nRajashre e,  \\nRajendra  \\nMahsuri-1  Jitendra, \\nSudha,  \\nJanaki  For eastern  \\nIndia:  \\n(Transplanted \\nin June)  \\nMaguribao, \\nKDML 105, JM \\n50, Barjahingia, \\nPanidhan, \\nTulasi, Sabita, \\nManoharasali, \\nBash-Avarodhi  \\n(Direct se eding \\nin August )  \\nKaling  III,  \\nNeela, Luit  \\nWest \\nBengal Neer aja, Joge n Mandira, \\nBiraj, Suresh Bhudeb, \\nMatangini, \\nNalini, \\nSabita, \\nAmulya, \\nDinesh Jaladhi 1, \\nJaladhi 2, \\nPurrendu  \\nOrissa Savitri, Aditya  \\nRamakrishna, \\nMahalax mi, Moti, \\nPadmini, Samalai,  CR 101 4, \\nDharitri Kalashre e, \\nPanidhan, \\nUtkalprabh\\na, Gay atri, \\nTulasi, \\nSeema Ram bha, \\nPurrendu  \\nAssam Bhogali,  Rongilee, \\nKushal, Moniram , \\nPiolee, Ranjit     \\nUttar \\nPradesh Mehsuri, Pankaj, T 26, \\nT 100,  Cross 116  Jalpriy a, \\nJitendra Purrendu, \\nJalmanga, \\nJalnidhi  \\nMadhya \\nPradesh Madhuri, Rashm i     \\nMahara\\nshtra SKL 8, Dhanarasi     \\nAndhra \\nPradesh Tholakari, Godavari     \\n 12 \\nTypes of Rice Cultivation \\nIn India, ric e is cu ltivated mainly on two types of  soil, upland s and lowlan ds \\nA. Upland rice cultivation \\n(a) Drilling \\n(b) Broadcast \\nB.',\n",
       "   'Plough the field till the so il is thoroughly pulverized. Prepare beds of the \\nsame size as in wet nurseries, but 15 c m high with channels (30 c m wide) between them. Sow \\nthe seeds in rows 10 cm  apart in dry or m oist condition of the soil . The seeds should be \\ncovered im mediately with a layer of soil.',\n",
       "   'The biological v alue of  \\nits protein is high. The fat content of rice is low (2.0-2.5%) and m uch of fat is lost during \\nmilling. Rice grain con tains as m uch B group v itamins as  wheat. Rice contains  a low content \\nof calcium . The by-prod ucts of  rice m illing are used f or var ious purpos es.'],\n",
       "  ['After the harvest of paddy, crops like berseem,  toria , potato etc. can be grown in intensive \\ncrop rotation. In rainfed areas, where the so ils are well drained and have good m oisture \\nreten tion ca pacity, legu me crops like gram , lentil cou ld be raised su ccessfully a fter the  \\nharvest of paddy with residual fertility and m oisture. Som e of the im portant rice-based crop \\nrotations are given below. Irrigated areas \\nPaddy- toria  or gram    Paddy-wheat or barley \\nPaddy-potato-blackgram   Paddy-potato-greengram \\nPaddy-potato-cowpea or soybean  Paddy-wheat-greengram  \\nPaddy-pea (for pods)-greengram  \\nRainfed areas \\nPaddy-pea Paddy-gram  Paddy-lentil \\nWeed Control \\nInfestation of weeds in rice fields m ay redu ce the grain yield by 50- 90% in upland, 30-35% \\nin drilled irrigated and 15-20% in transplanted crop. The im portan t weed flora of transplanted \\nrice includ e: \\nCyperus dif formis L., Fim bristylis litoralia , Typha sp., C yperus ir ia L., Monocharia spp., \\nPotam ogeton sp., Celosia argentia, S etaria gl auca, Panicum  sp., Dactyloctaneum  aegypticum  \\n(L.) Beauv.',\n",
       "   'Ad equate soil moisture is necessary \\nto activate its herbicidal property. B roadcast 20-25 kg granules/ha or  spray @2.0 kg/ha in \\n400-600 litres of water. Fluchloralin : This herbicide should be sprayed or br oadcast in standing wa ter (3-5 cm ) after  \\nthe final puddling and planking or 1-3 days after transplanting rice. It is used @ 1 kg/ha in \\n400-600 litres of water or 50-60 kg granules/ha as broadcast.',\n",
       "   'This resu lts in sh riveling g rains of poor  \\nquality. In som e rice growing areas, dry seeding a littl e before onset of m onsoon is practiced.'],\n",
       "  ['Allow  \\nthis m ixture to stand in shade for 36- 48 hours before applying in the field. Use of neemseed ca ke: Finely ground neem seed cake is mixed with urea @ 15-20%.',\n",
       "   'The id eal time in no rth India  is between end  of June and first week of July. If the sowing \\nis delay ed, crop is adversely affected  because of  soil and atmospheric d rought due to aberrant \\nweather con ditions  during the g rain filling  stag e.',\n",
       "   'Sim ilarly O. glaberrima  has wild perennial, O. longistom inata  and annual O.',\n",
       "   'Selection of varietie s depends to a great extent on \\nthe agro -clim atic conditions, the cropping system  followed, grain quality and sev eral o ther \\nfactors. In India, rice hybr ids have been developed which gave 2-3 tim es more production \\n 5 \\nthan the improved varieties. The hybrids, ba smati, high yielding varieties for irrigated \\nconditions, varieties suitable for rainfed lands, boro season and low land situations are given \\nbelow. Oryza sativa \\n 6 \\nRice Hybrids recommended for different s tates \\nState Hybrid \\nAndhra Pra desh APHR 1, APHR 2, DRRH 1, PBH 71, HRI 120 \\nBihar, Gujar at, \\nMadhya Prad esh & \\nChattisgarh PHB 71, DRRH 1, PA 62 01 \\nHaryana PHB 71, DRRH 1, PA 62 01, Pusa RH 10, Pusa Su gandh-3 \\nKarnataka KRH1, KRH 2, HRI 120, Mugad Su gandha \\nMaharashtra Sahy adri, PHB 71, PA 62 01, HRI 120 \\nOrissa KRH 2, DRRH 1, PHB 71,  HRI 120 \\nPunjab Pusa RH 10, RH 204, Pusa  Sugand h-3 \\nTamil Nadu CORH 1, CORH 2, ADTRH 1, PHB 71,  DRRH 1, DRH 2, HRI 120 \\nUttaranchal Pant Sankard han 1, PHB 7 1, HRI 120, Pant Sugand h Dhan 15 \\nUttar Pradesh Pusa RH 10, Narendra Sankardhan 2  , PHB 71, PA 6 201, HRI 120 , UPRH \\n27 \\nWest Bengal CNRH 3, PA 6201 , KRH 2, PHB 71 \\nBasmati rice \\nvarieties \\nrecom mende d for \\ncultivation i n \\ndifferent \\nstates Zone/State Selected vari eties (hybrid s) \\nFor Northern India \\n(Haryana, Pu njab, \\nUttar Pradesh) N 10 B, Basmati 370, Pu sa Basmati 1, Hansraj T 3, T 9, N 12 , Taraori \\nBasmati (Karnal local), Pu sa Sugandh 2 , Pusa Sugan dh 3,  Pusa Su gandh 4, \\nPusa Sugand h 5, PRH 10 , Pant Dhan 15 , Kalanamak \\nJammu &  Kashmir Ranbir Basmati, Muskh B udgi, Basmati 370 \\nAndhra Pra desh Sumati, Kaki Rekhalu (HR 59), Su khdas (HR 47) \\nBihar &  Jharkhand Basmati 370, Badshahbhog , Mohanb hog, Ram  Tulsi \\nAssam Prasadbhog, Malbhog, Badshahbho g \\nRajasthan Mahasugandha, Kala Bad al, Kam od, Nawabi Kolam \\nUttarakhand  Pant Dhan 15 , Hansraj \\nHimachal Pradesh Desi B asmati 23 \\nGujarat Kam od 118, Pankhari 20 3, Zeerasal \\n 7 \\nState Hybrid \\nKarnataka Jeerak asala, Gandhkasala,  Sindigi  local \\nMadhya Prad esh Gopalbhog,  Kali Kam od, Chattri \\nMaharashtra Ambemoha 1 02, Am bemoha 147, Am bemoha 159, Krishnasal \\nWest Bengal Badshah Pasand, Govi ndab hog, Kataribh og, Sitabh og \\nTamil Nadu Jeerag a Samba \\nRice varieti es recommended for various states of India under irrigated conditions \\nState Improved varieties \\nBihar &   \\nJharkhand Pusa 33,  Pusa 2-21 , Pusa 169, M ehsuri, Saket 4, IR- 8, IR-20,  IR-2 4, BR 3 68, \\nJaya, Padma, Deepa, Sita, Bala, Kaveri , Ratna, Sabar mati, Janki, Rajendra \\nDhan 10 1, R. Dhan 2 02, B irsamati, Arvindha  Amrit  \\nMadhya Prad esh \\n & Chattisgarh Prabhat, IR  8, IR 24, Jaw ahar 75, Mehsuri, Bala, K averi, Ratna, Jaya, \\nPragati, Jagr ati, Kranti, G arima, Anup ama, Akashi, Madhuri, Va ni, \\nMahamaya \\nRajasthan   Jaya, Ratna , Pusa 33,  Ajay , Sab armati, Chambal PR 106, BK 29, BK 130, \\nVani \\nHaryana Pusa 33,  Pusa 169, Ajay, J aya, Bala , Ratna, Jho na 349, IR 8, PR 1 06, \\nKasturi \\nPunjab Jaya, Bala, A jai, PR 1 05, PR 108,  PR 1 09, IR 8 , Palman 579 , Mutant 9 5, \\nRatna, Sabarmati, Aravind a Amrit \\nUttar Pradesh Early  duration varieties  \\nFor plains: Saket 4, Govind, Prasad, M anhar, P usa 169, P usa 33, Pusa 2-\\n21, Rat na, N arendra 2  \\nFor Bundelkhand and Jhansi : PNR 381, Saket 4, Pr asad, Manhar , Pusa \\n169, Ratna  \\nFor Hilly areas: Ratna, VL K 35  \\nMedium duration varieties  \\nFor plains: Pant Dhan 4, P ant Dhan 10, Pant Dhan 11 , IR 24, IR 3 6, Sarju \\n52, Ja ya, NDR 80, Pant D han 12 \\nFor Bundelkhand and Jhansi:  Pant Dhan 4, Jay a  \\nFor Hilly areas:  VL 8, VL Dhan 16, VL K Dhan 39, P Dhan 6 \\nLong duratio n varieties \\nFor plains: Mehsuri, Cross 116, T 1 00 \\nFor Hilly areas: VL Dhan 221, VL 2 06  \\nJammu &  Kashmir SKAU 23, SK AU 27, Chen a, Jhalum, K ohsaar \\n 8 \\nState Hybrid \\nHimachal Pradesh Himalaya 22 16, RP 2421 \\nGujarat Gau R 1, Ga u R 10, Ga u R 100, Da ndi \\nKarnataka Prakash, M adhu, Vikram, Suma, Kusu ma, Vani , Akash, Sh aravati, Maha \\nMaya, BR 26 55-9-3- 1, Pa nt Dhan 12, Sakuntala , Gautam  \\nKerala Anupurna, Aswathi, Bharti, Jyoti, Rohini, Triveni, Sabari, Kunju, \\nPriya, Varsha, Kunju Varna, Gauri, Sweta \\nMaharashtra Ratnagiri 24, Karjat 184, Karjat  2, Ratnagiri 3, PKV Makarand \\nOrissa Rajeshwari, Hema, Sakti, Kumar, Ba la, IR 20, Prakash, Vikram, Vani, \\nAnjali \\nTamil Nadu Kari Kalan, Karuna, Bhawani, Vaghair, Bharti, Caveri, Krishna, \\nKanchi, PMK 2 and ADT 42, ADT (R)  45. Andhra Pradesh Hamsa, Tella-Hamsa, Vashista, Mahsuri, Kasturi, Kakatiya, Prakash, \\nVikrant, Bhadra Kali, Jagtiala Mahsuri, Jagitiala Sannalu, Santhi, \\nApurva, Mahamaya, Nandyal Sanna lu, Varalu, Bapatla Sannalu \\nWest Bengal and \\nAssam  IR 20, Jayanthi \\nPondicherry Aravinder, Ratnagiri 3 \\n \\nPromis ing rice varieties  for rainfed/w ater scare areas in d ifferent s tates \\nState Varieties \\nAndhra Pradesh Tulasi*,  Aditya, Prasanna, Rudr amm a, Krishna Ha msa, MTU 9993, \\nRavi, Varalu, Bapatla S annalu, Vagad Dhan, MTU 17, Mettasanna, \\nTellavadlu \\nAssam Dum ai, ARC 5929, Annada, Ra si*, Tulasi*, Anjali \\nBihar & \\nJharkhand Tulasi*, Aditya*, Rasi*, PNR 381* , Vandana, Birsadhan 101, BR \\n17, BR 16, Fine gora, B irsadhan 102, Birsadhan 103, Birsadhan 104, \\nBirsadhan 105, Birsadhan 6, Birs adhan 7, Birsadhan 201, Birsadhan  \\n202 Birsadhan 221, Heera*, Kanchan, Kalinga III, Vaidehi \\nGoa Goa 1 (Annada), Rasi*, Krishna Ham sa, Tulasi* \\nGujarat GR 2, GR 3, GR 5, GR 6, Rasi*, Prasanna, Tulasi*, GR 8, Sathi 34-\\n36, Early Kolam  161-172 \\nKarnataka Amrut, Mukti, IET 7564, Tulasi*, Ravi, Krishna Ham sa, Avinash, \\n 9 \\nState Varieties \\nHolom aldgiga, Mugad 161 \\nKerala Suvarna Modan, Onam , Harsha, PTB 10, PTB 28, PTB 29, PTB 30, \\nAnnapurna \\nMadhya Pradesh \\n& Chattisga rh Tulasi*, Aditya*, Heera*, Purva, JR 75, Rathe, Annada, Jawahar \\nRice 3-45, S afed dhan-3, Laloo 14 \\nMaharashtra Tulasi*, Aditya*, Heera*, Annada, Tuljapur 4, Ratnagiri 73-1-41, \\nRasi*, Ratnagiri 73-1, Kranti, Jalgaon 5, Nagpur 22, Ambem ohar \\n159, Karjat 3 \\nMeghalaya Rasi*, Heera*, Ngoba, Krishna Ham sa, Tulasi*, La m Pna h-1, Bha  \\nLum  1, Bha Lum  2, Sha h Sarang 1 \\nOrissa Heera*, Kalinga III, Annada, Parija t, Patha ra, Kalyani I I, Satta ri, \\nNeela, Rudra, Vanaprabha, Khandagi ri, Nilgiri,  Ghanteswari, Sneha, \\nBadam i, B 76, Kalakeri, BAM 12 \\nTamil Nadu IR 64*, IR 50*, TKM-9, Co 41, PM K 1, ASD 18, ADT 36, ADT 37, \\nPKU 2, Tula si*, Krishna Ha msa, Aditya, ADT (R) 45, PMK(R)3 \\nTripura Tulasi*, Heera*, Rasi*, Annada \\nUttar Pradesh Narendradhan 97, Narendradhan 18, Narendradhan 80, \\nNarendradhan 118, Saket 14, Tulasi*, Aditya*, Jawahar Rice 3-45, \\nSudha , Bala, Kaveri, P usa 2-21, N armada, Saket 4, N-22, ND 2, \\nNarendradhan 1, Govind, Jhona 349 \\nUttarakhand NDR 84, NDR 118, VL Dhan 263 , VL Dhan 221, VL Dhan 206, \\nShankar Dhan-1 \\nWest Bengal Rasi*, Khitish, Kiran, Bhupen, Khanika, Dular \\nHimachal Pradesh Shankar Dhan 1, Lalna Kanda 41 \\nPunjab Lalnakanda \\nJammu & K ashmir Ch 988, Ch 1039 \\nFor coastal and \\nsalt affec ted soils \\nof West Bengal, \\nOrissa, Kerala, \\nAndhra Pradesh Sumati, CSR 23 \\nFor Tamil Nadu, \\nMaharashtra TRT( R )2 \\nPanvel-3 \\n*Central Release \\n 10 \\nRice varieties grow n in Boro season in different states \\nState Traditional variet ies Modern varieties \\nMeghalaya Risi, Pisu m, CH \\n1039, CH 988 IR 36, Vijaya \\nWest \\nBengal CB-1, CB-2, Latisail, \\nPatnai-23, Kal ma \\n222, Jhingasail, \\nRaghusail IR 36, Khitish, IET 2233, Ratna, IET 826, IET 4786, \\nIET 1414 \\nAssam Boro 1, Tepi Boro, \\nMadhab-Boro, \\nJagliboro, Gabriboro Mehsuri, Krishna, Mala, Jaym ati, Jaya, Vijeta, \\nChandram a \\nBihar Pusa 2-21, Pusa 33, Saket 4, Jaya, Sita, Sujata, \\nMehsuri, Gautam  \\nEastern \\n Uttar  \\nPradesh  \\n \\nTraditional tall \\ncultivars \\n NDR 7, Bar ani Deep, G autam , Prabhat, Richhariya, \\nSuraj, Dhan  luxm i, Joym ati, Boro Dhan, Borochina,  \\nChinese Boro, Boro Safeda, NDR 359, ARC 4377, \\nKala Boro (Malhar), Surya, Bans Bareilly, Saket-4, \\nSarjoo-49, S arjoo-52 \\nKerala  Dhanu \\nTripura  Swati \\n \\n 11 \\nPromis ing HYVs suita ble for ra infed low lands \\nDEPTH OF  WAT ER Very deep & \\nfloating(>100c\\nm) State \\nShallow   \\n(0-30 cm) Intermed iate Semi-\\ndeep (30-\\n60 cm) Deep \\n(50-100 cm) \\nBihar Radha,  \\nSugandha, Jay ashree, \\nRajashre e,  \\nRajendra  \\nMahsuri-1  Jitendra, \\nSudha,  \\nJanaki  For eastern  \\nIndia:  \\n(Transplanted \\nin June)  \\nMaguribao, \\nKDML 105, JM \\n50, Barjahingia, \\nPanidhan, \\nTulasi, Sabita, \\nManoharasali, \\nBash-Avarodhi  \\n(Direct se eding \\nin August )  \\nKaling  III,  \\nNeela, Luit  \\nWest \\nBengal Neer aja, Joge n Mandira, \\nBiraj, Suresh Bhudeb, \\nMatangini, \\nNalini, \\nSabita, \\nAmulya, \\nDinesh Jaladhi 1, \\nJaladhi 2, \\nPurrendu  \\nOrissa Savitri, Aditya  \\nRamakrishna, \\nMahalax mi, Moti, \\nPadmini, Samalai,  CR 101 4, \\nDharitri Kalashre e, \\nPanidhan, \\nUtkalprabh\\na, Gay atri, \\nTulasi, \\nSeema Ram bha, \\nPurrendu  \\nAssam Bhogali,  Rongilee, \\nKushal, Moniram , \\nPiolee, Ranjit     \\nUttar \\nPradesh Mehsuri, Pankaj, T 26, \\nT 100,  Cross 116  Jalpriy a, \\nJitendra Purrendu, \\nJalmanga, \\nJalnidhi  \\nMadhya \\nPradesh Madhuri, Rashm i     \\nMahara\\nshtra SKL 8, Dhanarasi     \\nAndhra \\nPradesh Tholakari, Godavari     \\n 12 \\nTypes of Rice Cultivation \\nIn India, ric e is cu ltivated mainly on two types of  soil, upland s and lowlan ds \\nA. Upland rice cultivation \\n(a) Drilling \\n(b) Broadcast \\nB.'],\n",
       "  ['Genetic Classification \\nRice ( Oryza sativa ) varieties are com monly grouped into following 3 sub-species. indica:  Rice grown in India belong s to th is sub -species.',\n",
       "   'Selection of varietie s depends to a great extent on \\nthe agro -clim atic conditions, the cropping system  followed, grain quality and sev eral o ther \\nfactors. In India, rice hybr ids have been developed which gave 2-3 tim es more production \\n 5 \\nthan the improved varieties. The hybrids, ba smati, high yielding varieties for irrigated \\nconditions, varieties suitable for rainfed lands, boro season and low land situations are given \\nbelow. Oryza sativa \\n 6 \\nRice Hybrids recommended for different s tates \\nState Hybrid \\nAndhra Pra desh APHR 1, APHR 2, DRRH 1, PBH 71, HRI 120 \\nBihar, Gujar at, \\nMadhya Prad esh & \\nChattisgarh PHB 71, DRRH 1, PA 62 01 \\nHaryana PHB 71, DRRH 1, PA 62 01, Pusa RH 10, Pusa Su gandh-3 \\nKarnataka KRH1, KRH 2, HRI 120, Mugad Su gandha \\nMaharashtra Sahy adri, PHB 71, PA 62 01, HRI 120 \\nOrissa KRH 2, DRRH 1, PHB 71,  HRI 120 \\nPunjab Pusa RH 10, RH 204, Pusa  Sugand h-3 \\nTamil Nadu CORH 1, CORH 2, ADTRH 1, PHB 71,  DRRH 1, DRH 2, HRI 120 \\nUttaranchal Pant Sankard han 1, PHB 7 1, HRI 120, Pant Sugand h Dhan 15 \\nUttar Pradesh Pusa RH 10, Narendra Sankardhan 2  , PHB 71, PA 6 201, HRI 120 , UPRH \\n27 \\nWest Bengal CNRH 3, PA 6201 , KRH 2, PHB 71 \\nBasmati rice \\nvarieties \\nrecom mende d for \\ncultivation i n \\ndifferent \\nstates Zone/State Selected vari eties (hybrid s) \\nFor Northern India \\n(Haryana, Pu njab, \\nUttar Pradesh) N 10 B, Basmati 370, Pu sa Basmati 1, Hansraj T 3, T 9, N 12 , Taraori \\nBasmati (Karnal local), Pu sa Sugandh 2 , Pusa Sugan dh 3,  Pusa Su gandh 4, \\nPusa Sugand h 5, PRH 10 , Pant Dhan 15 , Kalanamak \\nJammu &  Kashmir Ranbir Basmati, Muskh B udgi, Basmati 370 \\nAndhra Pra desh Sumati, Kaki Rekhalu (HR 59), Su khdas (HR 47) \\nBihar &  Jharkhand Basmati 370, Badshahbhog , Mohanb hog, Ram  Tulsi \\nAssam Prasadbhog, Malbhog, Badshahbho g \\nRajasthan Mahasugandha, Kala Bad al, Kam od, Nawabi Kolam \\nUttarakhand  Pant Dhan 15 , Hansraj \\nHimachal Pradesh Desi B asmati 23 \\nGujarat Kam od 118, Pankhari 20 3, Zeerasal \\n 7 \\nState Hybrid \\nKarnataka Jeerak asala, Gandhkasala,  Sindigi  local \\nMadhya Prad esh Gopalbhog,  Kali Kam od, Chattri \\nMaharashtra Ambemoha 1 02, Am bemoha 147, Am bemoha 159, Krishnasal \\nWest Bengal Badshah Pasand, Govi ndab hog, Kataribh og, Sitabh og \\nTamil Nadu Jeerag a Samba \\nRice varieti es recommended for various states of India under irrigated conditions \\nState Improved varieties \\nBihar &   \\nJharkhand Pusa 33,  Pusa 2-21 , Pusa 169, M ehsuri, Saket 4, IR- 8, IR-20,  IR-2 4, BR 3 68, \\nJaya, Padma, Deepa, Sita, Bala, Kaveri , Ratna, Sabar mati, Janki, Rajendra \\nDhan 10 1, R. Dhan 2 02, B irsamati, Arvindha  Amrit  \\nMadhya Prad esh \\n & Chattisgarh Prabhat, IR  8, IR 24, Jaw ahar 75, Mehsuri, Bala, K averi, Ratna, Jaya, \\nPragati, Jagr ati, Kranti, G arima, Anup ama, Akashi, Madhuri, Va ni, \\nMahamaya \\nRajasthan   Jaya, Ratna , Pusa 33,  Ajay , Sab armati, Chambal PR 106, BK 29, BK 130, \\nVani \\nHaryana Pusa 33,  Pusa 169, Ajay, J aya, Bala , Ratna, Jho na 349, IR 8, PR 1 06, \\nKasturi \\nPunjab Jaya, Bala, A jai, PR 1 05, PR 108,  PR 1 09, IR 8 , Palman 579 , Mutant 9 5, \\nRatna, Sabarmati, Aravind a Amrit \\nUttar Pradesh Early  duration varieties  \\nFor plains: Saket 4, Govind, Prasad, M anhar, P usa 169, P usa 33, Pusa 2-\\n21, Rat na, N arendra 2  \\nFor Bundelkhand and Jhansi : PNR 381, Saket 4, Pr asad, Manhar , Pusa \\n169, Ratna  \\nFor Hilly areas: Ratna, VL K 35  \\nMedium duration varieties  \\nFor plains: Pant Dhan 4, P ant Dhan 10, Pant Dhan 11 , IR 24, IR 3 6, Sarju \\n52, Ja ya, NDR 80, Pant D han 12 \\nFor Bundelkhand and Jhansi:  Pant Dhan 4, Jay a  \\nFor Hilly areas:  VL 8, VL Dhan 16, VL K Dhan 39, P Dhan 6 \\nLong duratio n varieties \\nFor plains: Mehsuri, Cross 116, T 1 00 \\nFor Hilly areas: VL Dhan 221, VL 2 06  \\nJammu &  Kashmir SKAU 23, SK AU 27, Chen a, Jhalum, K ohsaar \\n 8 \\nState Hybrid \\nHimachal Pradesh Himalaya 22 16, RP 2421 \\nGujarat Gau R 1, Ga u R 10, Ga u R 100, Da ndi \\nKarnataka Prakash, M adhu, Vikram, Suma, Kusu ma, Vani , Akash, Sh aravati, Maha \\nMaya, BR 26 55-9-3- 1, Pa nt Dhan 12, Sakuntala , Gautam  \\nKerala Anupurna, Aswathi, Bharti, Jyoti, Rohini, Triveni, Sabari, Kunju, \\nPriya, Varsha, Kunju Varna, Gauri, Sweta \\nMaharashtra Ratnagiri 24, Karjat 184, Karjat  2, Ratnagiri 3, PKV Makarand \\nOrissa Rajeshwari, Hema, Sakti, Kumar, Ba la, IR 20, Prakash, Vikram, Vani, \\nAnjali \\nTamil Nadu Kari Kalan, Karuna, Bhawani, Vaghair, Bharti, Caveri, Krishna, \\nKanchi, PMK 2 and ADT 42, ADT (R)  45. Andhra Pradesh Hamsa, Tella-Hamsa, Vashista, Mahsuri, Kasturi, Kakatiya, Prakash, \\nVikrant, Bhadra Kali, Jagtiala Mahsuri, Jagitiala Sannalu, Santhi, \\nApurva, Mahamaya, Nandyal Sanna lu, Varalu, Bapatla Sannalu \\nWest Bengal and \\nAssam  IR 20, Jayanthi \\nPondicherry Aravinder, Ratnagiri 3 \\n \\nPromis ing rice varieties  for rainfed/w ater scare areas in d ifferent s tates \\nState Varieties \\nAndhra Pradesh Tulasi*,  Aditya, Prasanna, Rudr amm a, Krishna Ha msa, MTU 9993, \\nRavi, Varalu, Bapatla S annalu, Vagad Dhan, MTU 17, Mettasanna, \\nTellavadlu \\nAssam Dum ai, ARC 5929, Annada, Ra si*, Tulasi*, Anjali \\nBihar & \\nJharkhand Tulasi*, Aditya*, Rasi*, PNR 381* , Vandana, Birsadhan 101, BR \\n17, BR 16, Fine gora, B irsadhan 102, Birsadhan 103, Birsadhan 104, \\nBirsadhan 105, Birsadhan 6, Birs adhan 7, Birsadhan 201, Birsadhan  \\n202 Birsadhan 221, Heera*, Kanchan, Kalinga III, Vaidehi \\nGoa Goa 1 (Annada), Rasi*, Krishna Ham sa, Tulasi* \\nGujarat GR 2, GR 3, GR 5, GR 6, Rasi*, Prasanna, Tulasi*, GR 8, Sathi 34-\\n36, Early Kolam  161-172 \\nKarnataka Amrut, Mukti, IET 7564, Tulasi*, Ravi, Krishna Ham sa, Avinash, \\n 9 \\nState Varieties \\nHolom aldgiga, Mugad 161 \\nKerala Suvarna Modan, Onam , Harsha, PTB 10, PTB 28, PTB 29, PTB 30, \\nAnnapurna \\nMadhya Pradesh \\n& Chattisga rh Tulasi*, Aditya*, Heera*, Purva, JR 75, Rathe, Annada, Jawahar \\nRice 3-45, S afed dhan-3, Laloo 14 \\nMaharashtra Tulasi*, Aditya*, Heera*, Annada, Tuljapur 4, Ratnagiri 73-1-41, \\nRasi*, Ratnagiri 73-1, Kranti, Jalgaon 5, Nagpur 22, Ambem ohar \\n159, Karjat 3 \\nMeghalaya Rasi*, Heera*, Ngoba, Krishna Ham sa, Tulasi*, La m Pna h-1, Bha  \\nLum  1, Bha Lum  2, Sha h Sarang 1 \\nOrissa Heera*, Kalinga III, Annada, Parija t, Patha ra, Kalyani I I, Satta ri, \\nNeela, Rudra, Vanaprabha, Khandagi ri, Nilgiri,  Ghanteswari, Sneha, \\nBadam i, B 76, Kalakeri, BAM 12 \\nTamil Nadu IR 64*, IR 50*, TKM-9, Co 41, PM K 1, ASD 18, ADT 36, ADT 37, \\nPKU 2, Tula si*, Krishna Ha msa, Aditya, ADT (R) 45, PMK(R)3 \\nTripura Tulasi*, Heera*, Rasi*, Annada \\nUttar Pradesh Narendradhan 97, Narendradhan 18, Narendradhan 80, \\nNarendradhan 118, Saket 14, Tulasi*, Aditya*, Jawahar Rice 3-45, \\nSudha , Bala, Kaveri, P usa 2-21, N armada, Saket 4, N-22, ND 2, \\nNarendradhan 1, Govind, Jhona 349 \\nUttarakhand NDR 84, NDR 118, VL Dhan 263 , VL Dhan 221, VL Dhan 206, \\nShankar Dhan-1 \\nWest Bengal Rasi*, Khitish, Kiran, Bhupen, Khanika, Dular \\nHimachal Pradesh Shankar Dhan 1, Lalna Kanda 41 \\nPunjab Lalnakanda \\nJammu & K ashmir Ch 988, Ch 1039 \\nFor coastal and \\nsalt affec ted soils \\nof West Bengal, \\nOrissa, Kerala, \\nAndhra Pradesh Sumati, CSR 23 \\nFor Tamil Nadu, \\nMaharashtra TRT( R )2 \\nPanvel-3 \\n*Central Release \\n 10 \\nRice varieties grow n in Boro season in different states \\nState Traditional variet ies Modern varieties \\nMeghalaya Risi, Pisu m, CH \\n1039, CH 988 IR 36, Vijaya \\nWest \\nBengal CB-1, CB-2, Latisail, \\nPatnai-23, Kal ma \\n222, Jhingasail, \\nRaghusail IR 36, Khitish, IET 2233, Ratna, IET 826, IET 4786, \\nIET 1414 \\nAssam Boro 1, Tepi Boro, \\nMadhab-Boro, \\nJagliboro, Gabriboro Mehsuri, Krishna, Mala, Jaym ati, Jaya, Vijeta, \\nChandram a \\nBihar Pusa 2-21, Pusa 33, Saket 4, Jaya, Sita, Sujata, \\nMehsuri, Gautam  \\nEastern \\n Uttar  \\nPradesh  \\n \\nTraditional tall \\ncultivars \\n NDR 7, Bar ani Deep, G autam , Prabhat, Richhariya, \\nSuraj, Dhan  luxm i, Joym ati, Boro Dhan, Borochina,  \\nChinese Boro, Boro Safeda, NDR 359, ARC 4377, \\nKala Boro (Malhar), Surya, Bans Bareilly, Saket-4, \\nSarjoo-49, S arjoo-52 \\nKerala  Dhanu \\nTripura  Swati \\n \\n 11 \\nPromis ing HYVs suita ble for ra infed low lands \\nDEPTH OF  WAT ER Very deep & \\nfloating(>100c\\nm) State \\nShallow   \\n(0-30 cm) Intermed iate Semi-\\ndeep (30-\\n60 cm) Deep \\n(50-100 cm) \\nBihar Radha,  \\nSugandha, Jay ashree, \\nRajashre e,  \\nRajendra  \\nMahsuri-1  Jitendra, \\nSudha,  \\nJanaki  For eastern  \\nIndia:  \\n(Transplanted \\nin June)  \\nMaguribao, \\nKDML 105, JM \\n50, Barjahingia, \\nPanidhan, \\nTulasi, Sabita, \\nManoharasali, \\nBash-Avarodhi  \\n(Direct se eding \\nin August )  \\nKaling  III,  \\nNeela, Luit  \\nWest \\nBengal Neer aja, Joge n Mandira, \\nBiraj, Suresh Bhudeb, \\nMatangini, \\nNalini, \\nSabita, \\nAmulya, \\nDinesh Jaladhi 1, \\nJaladhi 2, \\nPurrendu  \\nOrissa Savitri, Aditya  \\nRamakrishna, \\nMahalax mi, Moti, \\nPadmini, Samalai,  CR 101 4, \\nDharitri Kalashre e, \\nPanidhan, \\nUtkalprabh\\na, Gay atri, \\nTulasi, \\nSeema Ram bha, \\nPurrendu  \\nAssam Bhogali,  Rongilee, \\nKushal, Moniram , \\nPiolee, Ranjit     \\nUttar \\nPradesh Mehsuri, Pankaj, T 26, \\nT 100,  Cross 116  Jalpriy a, \\nJitendra Purrendu, \\nJalmanga, \\nJalnidhi  \\nMadhya \\nPradesh Madhuri, Rashm i     \\nMahara\\nshtra SKL 8, Dhanarasi     \\nAndhra \\nPradesh Tholakari, Godavari     \\n 12 \\nTypes of Rice Cultivation \\nIn India, ric e is cu ltivated mainly on two types of  soil, upland s and lowlan ds \\nA. Upland rice cultivation \\n(a) Drilling \\n(b) Broadcast \\nB.',\n",
       "   'The field is flooded ag ain within 24-48 hr and kept subm erged till \\ncrop covers the land. Butachlor : This weedicide is effectiv e against annual and broad-leav ed weeds in rice. This is \\na pre-em ergence herbicide applied either th rough spray or granules immediately after \\nplanting the crop. Granules of butachlor should be  applied @ 50 kg/ha in standing water (4-5 \\ncm), and ne ver in dry soils. It is sprayed @ 2 kg/ha in 400-600 litres of water.',\n",
       "   'sativa .'],\n",
       "  ['Use of manure \\nimproves the general physical condition, structure of the soil and its water-holding \\ncapacity. About 10-15 tonnes of well rotten FYM or compost should be incorporated 4-6 \\nweeks before sowing and worked well into the soil. However, manures alone can not meet \\nthe high nutrient requirement of crop.',\n",
       "   'Under dr y conditions, heavy soils with \\ngood drainage are best owing to their better moisture retention properties. Soils with \\nelectrical conductivity of saturation extract >6 dS/m and exchangeable sodium percentage >40 are not suitable for economical  yield realization. The soil de pth should be greater than \\n25 cm for wheat cultivation. In India, wheat-growing areas can be mainly divided into 5 soil divisions, (1) the Gangetic \\nalluvium of Uttar Pradesh and Bihar (2) the I ndus alluvium of the Punjab and Haryana, (3) \\nthe black soil regions of centr al and southern India compri sing Madhya Pradesh and parts \\nof Maharashtra and Karnataka, (4) the hilly re gions of the Himalaya and elsewhere, and (5) \\nthe desert soils of Rajasthan. 11Cultural Practices \\nWheat has been under cultivation since tim e immemorial.',\n",
       "   'dicoccum  are grown. The crop suffers from fr ost occasionally in Narm ada Valley \\n(Tikam garh) areas of Madhya Pradesh. The cr op season is spread betw een October and \\nMarch.',\n",
       "   '13 \\nVarieties: \\nThe varieties recommended for di fferent zones are listed below. In recent times, there has \\nbeen emphasis on development of hybrids. Di rectorate of Wheat Research, Karnal has \\ndeveloped hybrids with 25-29% heterosi s. The hybrids HM 99495 and HM 99104 showed \\na standard heterosis of 10.7% and 7% , respectively over locations during rabi 2002-03. Hybrids (HM 00504, HM 11139, HM 11049, HM01903 and HM01899) were found \\nsuperior in quality (protein %, hectoliter we ight, sedimentation value,  extraction rate, loaf \\nvolume and bread quality)  to the varieties. Wheat varieties recommended fo r different zones of India \\nZone Irrigated-Timely \\nsown Irrigated-Late \\nsown Rainfed Sodic soils/ \\nother \\nconditions \\nNWPZ (North western Plains zone) \\nBread  \\nwheat PBW 343, PBW 502, WH \\n542, UP 2338, WH 416, \\nDH 2687, CPAN 3004, \\nRaj 3077, HD 2281, HD \\n2478, HD 2204, HD 2428, HD 2329, HD \\n2177, WG 357, WG 377, \\nSonalika, UP 2003, UP \\n2338, HD 2285, Arjun \\n(HD 2009), WH-147, WL \\n711, WH 157, PDW 34, PBW 17, PBW 154, PBW \\n299, PBW 215, PBW 233, \\nJairaj (JNK HW 185), \\nLok-1, Raj 1114, UP 368, \\nPBW 226, DLW 5023, \\nCPAN 1676, CPAN 3004 \\n(Sangam), UP 319, HUW \\n–12 (Malviya 12) PBW 373, UP 2338, UP 2425, Raj 3077, \\nRaj 3765, PBW 226, \\nHD 2285, Raj 3777, \\nHD 2402, HD 2270, Sonalika, HD 2307, \\nUP 2121, , PBW 234, \\nHUW 234, Swati, \\nHD 2329, UP 115, \\nPBW 138, HP 1209, \\nWH 291 PBW 299, WH 533, PBW 396, \\nPBW 175, PBW \\n65, C-306, Pratap \\n(HD 1981), K 68, Kundan, UP 2113, \\nK 8962, WH 331, \\nWL 410, WL 2265, \\nPBW 229, WL \\n175, Mukta (HI \\n385), Meghdoot (HI 748), Sujata, \\nDL 153-2, D 134, \\nIWP-72, K-65, K-\\n72, WL 2264, WL \\n410, WP 72, PBW-\\n117 Raj 3077, KRL-19, WH 157, \\nSonalika, HD \\n2380, K-1410, \\nWH 157, HD 2285, HS 86, HS \\n208, UP 1109, VL \\n401, VL 421, VL \\n616, CPAN 1982, \\nCPAN 1996 \\ndurum PBW 34, PDW 215, PDW \\n233, WH 896  A 9-31-1  \\nNEPZ (North Eastern Plains zone) \\nBread wheat DL 784-3, HD 2733, HD \\n2824, HUW 468, HP \\n1731 (Deva), HP 1761, K \\n8804, K 9107, NW 1012, \\nPBW 443, HD 2402, \\nJanak, Poorvi or (K-\\n7410), K-9006, UP 262, HP 1102, HUW 206, \\nHUW 55, DL 784-3, \\nHUW 205, HP 1102, UP \\n2003, Saniak, HD 2281, \\nSonalika, K.purvi, K-68, \\nWL 711, Malviya 12, \\nPBW 154, Malviya 55, \\nPBW 343, K 0307 DBW 14, DL 784-3, HD 2643, HP 1633 \\n(Sonali), HP 1744, \\nHW 2045, NW 1014, \\nNW 2036, HP 1209, \\nHUW 234, HD 2285, \\nRaj 3777, Raj 3765, HD 2402, HD 2307, \\nSonalika, K 8027, K \\n9006, UP 115, HP \\n1133, UP 1209, \\nHUW 213, HP 1100, \\nNP 2121, HD 1982, \\nHD 225, K 8020, \\nPBW-154, PBW 226, \\nMalviya 213, HD HDR 77, K 9465, \\nK 8027, C 306, K \\n8962 (Indra), K 65, \\nHDB 77, Janak \\n(HD 1982), Pratap, \\nK 8804, IWP 72, \\nHDW 234, WL 410, WL 2265, DL \\n155-2, W 175, \\nHDR 77, K 68, \\nKalyansona, HP \\n852, K 72, NP 401 Raj 3077, KRL \\n19, KRL 1-4, Job \\n666, K 1410, \\nSonalika, UP \\n1109, VL 616  142385, Shera \\nCentral zone \\nBread wheat  DL 803-3, GW 273, GW \\n190, GW 322, HI 1077, \\nHD 2236, HD 2381, HD \\n4530, Lok-1, Jairaj, HD \\n2389, WH 147, HI 8318, J 405, Raj 1555, Raj 911, \\nGW 366 DL 803-3, DL 788-2, \\nGW 173, MP 4010, \\nSwati, J 405, HD \\n2285, Raj 3777, Raj \\n3765, HD 2402, HD 2327, Sonalika, Lok-\\n1, J1-104, Raj 4083 HW 2004, JWS 17, \\nHI 1500, C-306, \\nSujata, HY 65, \\nNarbada 4, Mukta \\n(HI 365), Meghdoot (HI \\n748), Narmada 41, \\nNarmada 1112, \\nPDW 215, JU 12, \\nNP 832, HP 852, \\nCPAN 3004, \\nKalyansona Raj 3077, KRL-\\n19, KRL 1-4, Job \\n666 \\ndurum HI 8331, HI 8498,  \\nRaj 1555, HI 8381  HD 4672,  \\nA9-30-1  \\ndicoccum DDK 1001, DDK 1009, \\nDDK 1029    \\nPeninsular Zone \\nBread wheat  DWR 162, MACS 2496, \\nGW 322, DWR 195, HD \\n2501, NIAW 34, Raj \\n4037, HD 2380, MACS \\n2446, AKW 1071, HD \\n2189, DWR 39, UP 215, \\nMalavika (HD 4502), \\nDWR 162 K 9644, HUW 510, DWR 195, HD 2501, \\nNIAW 34, Lok 45, \\nHI 977, HD 2610 HD 2781, K 9644, \\nNI 5439, N 5749, \\nC 306, NI 747-19, \\nMAC 59, A 206, \\nHW 657, A 624, \\nMeghdoot, Mukta KRL 1-4, Raj \\n3077, KRL 19, \\nJob 666 \\ndurum DWR 1006, MACS 2846, \\nHD 4502 N 59, MACS NIDW 15, N 59, \\nMACS 1967, \\nBijaga yellow  \\ndicoccum DDK 1001, DDK 1009, \\nNP 200    \\nNorth Hills Zone \\nBread wheat  VL 738, VL 804, HS 240, \\nHD 2380, UP 1109, \\nGirija, Sonalika, HD 208, \\nHS 204, Shailja, HS 86, \\nVL 404, HD 2286, HS 208, VL 421, VL 616, \\nCPAN 1996 \\n \\n \\nHigh altitute summer \\nseason: \\nHPW 42, HS 365, HS 375 HS 295, HS 420, UP \\n1109, Sonalika, HS \\n86, HS 207, VL 404 VL 738, HPW 42, \\nHS 365, VL 804, \\nVL 832, VL 375, \\nHS 295, HPW 42, \\nHS 240, HD 2360, HS 207, VL 404, \\nVL 421, VL 401, \\nHD 2204, HD \\n2418, UP 1109, \\nHD 2177, HD \\n2380, HB 208, WL 411, C-306, \\nKalyansona, \\nRadhey,WL2265, \\nGirija, HS 86, HS \\n208 \\nEarly sowing: \\nHS 277, VL 829, VL 616  \\n \\n \\n  15 \\n \\nSouthern Hills Zone  \\nBread wheat  HUW 318, HW 1085, \\nHW 2044, HW 971, HW \\n741, HW 972, NP 200 \\n(Samba), UP 215, HD \\n2135 HW 971, HUW 318, \\nHW 2044, HW 1085, \\nMP 200, Raj 3765, \\nPBW 373, Halna HW 971, HUW \\n318, HW 1085, \\nHW 2044, MP 200 HW 971, HW \\n1085, HW 2044, \\nHUM 318, KRL \\n19, KRL 1-4 \\ndicoccum NP 200, DDK 1001, DDK \\n1009, DDK 1029    \\n \\nSeed and Sowing \\nSelection of seed : Only healthy seeds of right cultivar suitable for a particular locality \\nshould be selected for sowing. The seed should be  purchased from a reliable source.']],\n",
       " 'tlen': [4330, 5410, 4256, 4259, 4144]}"
      ]
     },
     "execution_count": 50,
     "metadata": {},
     "output_type": "execute_result"
    }
   ],
   "source": [
    "def inst_format(example) :\n",
    "    tlen = len(tokenizer.encode(example['question']))\n",
    "    tlen += len(tokenizer.encode(example['oracle_context']))\n",
    "    tlen += len(tokenizer.encode(example['cot_answer']))\n",
    "    tlen += len(tokenizer.encode(\"Context:\\n Answer the quetion based on the context\"))\n",
    "    prompt = \"Context:\\n\"\n",
    "    if(tlen > 4000):\n",
    "        return example\n",
    "    k = 0\n",
    "    for sentence in example['non_oracle']:\n",
    "        tlen += len(tokenizer.encode(sentence))\n",
    "        if(tlen > 4000):\n",
    "            break\n",
    "        k+=1\n",
    "    for i in range(k):\n",
    "        prompt += f\"<DOCUMENT>{example['non_oracle']}\"\n",
    "\n",
    "    "
   ]
  },
  {
   "cell_type": "code",
   "execution_count": null,
   "metadata": {},
   "outputs": [],
   "source": []
  }
 ],
 "metadata": {
  "kernelspec": {
   "display_name": "project",
   "language": "python",
   "name": "python3"
  },
  "language_info": {
   "codemirror_mode": {
    "name": "ipython",
    "version": 3
   },
   "file_extension": ".py",
   "mimetype": "text/x-python",
   "name": "python",
   "nbconvert_exporter": "python",
   "pygments_lexer": "ipython3",
   "version": "3.12.3"
  }
 },
 "nbformat": 4,
 "nbformat_minor": 2
}
