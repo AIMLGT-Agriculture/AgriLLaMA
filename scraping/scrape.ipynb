{
 "cells": [
  {
   "cell_type": "code",
   "execution_count": 3,
   "metadata": {},
   "outputs": [],
   "source": [
    "import requests\n",
    "from bs4 import BeautifulSoup\n",
    "import re\n",
    "import os\n",
    "import urllib3\n",
    "\n",
    "# Disable SSL warnings\n",
    "urllib3.disable_warnings(urllib3.exceptions.InsecureRequestWarning)\n",
    "downloads = 0\n",
    "\n",
    "def download_pdf(pdf_url):\n",
    "    global downloads\n",
    "    response = requests.get(pdf_url, verify=False)\n",
    "    pattern = re.compile(r'/index\\.php/([^/]+)')\n",
    "    pdf_dir = re.search(pattern, pdf_url).group(1)\n",
    "    pdf_name = pdf_url.split('/')[-1] + '.pdf'\n",
    "    pdf_path = os.path.join(pdf_dir, pdf_name)\n",
    "    os.makedirs(pdf_dir, exist_ok=True)\n",
    "    with open(pdf_path, 'wb') as f:\n",
    "        f.write(response.content)\n",
    "    \n",
    "    downloads += 1\n",
    "\n",
    "\n",
    "def download_pdfs(archive_url):\n",
    "    pg_no = 1\n",
    "    page_url = f'{archive_url}/{pg_no}'\n",
    "    while(True):\n",
    "        print(f'scrapping page: {page_url}')\n",
    "        try :\n",
    "            response = requests.get(page_url, verify=False)\n",
    "            soup = BeautifulSoup(response.text, 'html.parser')\n",
    "        except:\n",
    "            print(\"error while scrapping {page_url}, skipping\")\n",
    "            continue\n",
    "        \n",
    "        issue_links = [a['href'] for a in soup.find_all('a', href=True) if 'issue/view' in a['href']]\n",
    "        print('got {len(issue_links) }')\n",
    "        if(len(issue_links) == 0 ):\n",
    "            break\n",
    "        pg_no+=1\n",
    "        page_url = f'{archive_url}/{pg_no}'\n",
    "        \n",
    "        for issue_link in issue_links:\n",
    "            issue_response = requests.get(issue_link, verify=False)\n",
    "            issue_soup = BeautifulSoup(issue_response.text, 'html.parser')\n",
    "            \n",
    "            pdf_links = [a['href'] for a in issue_soup.find_all('a', href=True) if 'article/view' in a['href']]\n",
    "\n",
    "            for pdf_link in pdf_links:\n",
    "                pdf_response = requests.get(pdf_link, verify=False)\n",
    "                pdf_soup = BeautifulSoup(pdf_response.text, 'html.parser')\n",
    "                \n",
    "                download_links = [a['href'] for a in pdf_soup.find_all('a', href=True) if 'article/download' in a['href']]\n",
    "                for download_link in download_links:\n",
    "                    download_pdf(download_link)\n",
    "\n"
   ]
  },
  {
   "cell_type": "code",
   "execution_count": null,
   "metadata": {},
   "outputs": [],
   "source": [
    "\n",
    "# we will just skip these, may be scrape them with selenium in future\n",
    "login_req_list = ['https://epubs.icar.org.in/index.php/IJHF/issue/archive', 'https://epubs.icar.org.in/index.php/Agropedology/issue/archive',\n",
    "                  'https://epubs.icar.org.in/index.php/IJVASR/issue/archive', 'https://epubs.icar.org.in/index.php/JIFSI/issue/archive',\n",
    "                  'https://epubs.icar.org.in/index.php/TJRP/issue/archive', 'https://epubs.icar.org.in/index.php/IJAN/issue/archive', \n",
    "                  'https://epubs.icar.org.in/index.php/OIJR/issue/archive', 'https://epubs.icar.org.in/index.php/JSWC/issue/archive',\n",
    "                  'https://epubs.icar.org.in/index.php/IJPP/issue/archive', 'https://epubs.icar.org.in/index.php/IPPJ/issue/archive',\n",
    "                  'https://epubs.icar.org.in/index.php/jasa/issue/archive', 'https://epubs.icar.org.in/index.php/APPS/issue/archive',\n",
    "                  'https://epubs.icar.org.in/index.php/VIB/issue/archive', 'https://epubs.icar.org.in/index.php/AERR/issue/archive',\n",
    "                  'https://epubs.icar.org.in/index.php/JCMSD/issue/archive', 'https://epubs.icar.org.in/index.php/JAEM/issue/archive',\n",
    "                  'https://epubs.icar.org.in/index.php/TR/issue/archive']"
   ]
  },
  {
   "cell_type": "code",
   "execution_count": 4,
   "metadata": {},
   "outputs": [
    {
     "data": {
      "text/plain": [
       "['https://epubs.icar.org.in/index.php/IJAgS/issue/archive',\n",
       " 'https://epubs.icar.org.in/index.php/IJAnS/issue/archive',\n",
       " 'https://epubs.icar.org.in/index.php/IJF/issue/archive',\n",
       " 'https://epubs.icar.org.in/index.php/FT/issue/archive',\n",
       " 'https://epubs.icar.org.in/index.php/JoSSWQ/issue/archive',\n",
       " 'https://epubs.icar.org.in/index.php/CoRJ/issue/archive',\n",
       " 'https://epubs.icar.org.in/index.php/PotatoJ/issue/archive',\n",
       " 'https://epubs.icar.org.in/index.php/IJEE/issue/archive',\n",
       " 'https://epubs.icar.org.in/index.php/IndFarm/issue/archive',\n",
       " 'https://epubs.icar.org.in/index.php/IndHort/issue/archive',\n",
       " 'https://epubs.icar.org.in/index.php/JMAP/issue/archive',\n",
       " 'https://epubs.icar.org.in/index.php/JOR/issue/archive',\n",
       " 'https://epubs.icar.org.in/index.php/JAE/issue/archive',\n",
       " 'https://epubs.icar.org.in/index.php/TJRA/issue/archive',\n",
       " 'https://epubs.icar.org.in/index.php/JISSS/issue/archive',\n",
       " 'https://epubs.icar.org.in/index.php/IJVA/issue/archive',\n",
       " 'https://epubs.icar.org.in/index.php/IJDS/issue/archive',\n",
       " 'https://epubs.icar.org.in/index.php/AAR/issue/archive',\n",
       " 'https://epubs.icar.org.in/index.php/IJVM/issue/archive',\n",
       " 'https://epubs.icar.org.in/index.php/JWR/issue/archive',\n",
       " 'https://epubs.icar.org.in/index.php/JCRD/issue/archive',\n",
       " 'https://epubs.icar.org.in/index.php/IJHF/issue/archive',\n",
       " 'https://epubs.icar.org.in/index.php/Agropedology/issue/archive',\n",
       " 'https://epubs.icar.org.in/index.php/IJVASR/issue/archive',\n",
       " 'https://epubs.icar.org.in/index.php/MR/issue/archive',\n",
       " 'https://epubs.icar.org.in/index.php/JIFSI/issue/archive',\n",
       " 'https://epubs.icar.org.in/index.php/JIFA/issue/archive',\n",
       " 'https://epubs.icar.org.in/index.php/JOH/issue/archive',\n",
       " 'https://epubs.icar.org.in/index.php/IJGPB/issue/archive',\n",
       " 'https://epubs.icar.org.in/index.php/IJAPM/issue/archive',\n",
       " 'https://epubs.icar.org.in/index.php/AAZ/issue/archive',\n",
       " 'https://epubs.icar.org.in/index.php/TJRP/issue/archive',\n",
       " 'https://epubs.icar.org.in/index.php/IJAN/issue/archive',\n",
       " 'https://epubs.icar.org.in/index.php/OIJR/issue/archive',\n",
       " 'https://epubs.icar.org.in/index.php/JSR/issue/archive',\n",
       " 'https://epubs.icar.org.in/index.php/JISCAR/issue/archive',\n",
       " 'https://epubs.icar.org.in/index.php/IJA/issue/archive',\n",
       " 'https://epubs.icar.org.in/index.php/JSWC/issue/archive',\n",
       " 'https://epubs.icar.org.in/index.php/IJSS/issue/archive',\n",
       " 'https://epubs.icar.org.in/index.php/JFS/issue/archive',\n",
       " 'https://epubs.icar.org.in/index.php/AAJ/issue/archive',\n",
       " 'https://epubs.icar.org.in/index.php/IVJ/issue/archive',\n",
       " 'https://epubs.icar.org.in/index.php/IJPP/issue/archive',\n",
       " 'https://epubs.icar.org.in/index.php/IPPJ/issue/archive',\n",
       " 'https://epubs.icar.org.in/index.php/jasa/issue/archive',\n",
       " 'https://epubs.icar.org.in/index.php/AERR/issue/archive',\n",
       " 'https://epubs.icar.org.in/index.php/JISAS/issue/archive',\n",
       " 'https://epubs.icar.org.in/index.php/IJPS/issue/archive',\n",
       " 'https://epubs.icar.org.in/index.php/CURHOR/issue/archive',\n",
       " 'https://epubs.icar.org.in/index.php/JCMSD/issue/archive',\n",
       " 'https://epubs.icar.org.in/index.php/APPS/issue/archive',\n",
       " 'https://epubs.icar.org.in/index.php/TR/issue/archive',\n",
       " 'https://epubs.icar.org.in/index.php/VIB/issue/archive',\n",
       " 'https://epubs.icar.org.in/index.php/JAEM/issue/archive']"
      ]
     },
     "execution_count": 4,
     "metadata": {},
     "output_type": "execute_result"
    }
   ],
   "source": [
    "\n",
    "base_url = 'https://epubs.icar.org.in'\n",
    "\n",
    "\n",
    "base_pg_soup = BeautifulSoup(requests.get(base_url, verify=False).text, 'html.parser')\n",
    "journal_links = [a['href'] for a in base_pg_soup.find_all('a', href=True) if '/issue/current' in a['href']]\n",
    "archive_links = [link.replace('/current', '/archive') for link in journal_links]\n",
    "archive_links\n",
    "# for archive_link in archive_links:\n",
    "#     download_pdfs(archive_link)\n",
    "\n",
    "# https://epubs.icar.org.in/index.php/IJPP/issue/archive"
   ]
  },
  {
   "cell_type": "code",
   "execution_count": null,
   "metadata": {},
   "outputs": [
    {
     "ename": "",
     "evalue": "",
     "output_type": "error",
     "traceback": [
      "\u001b[1;31mThe kernel failed to start as '_psutil_linux' could not be imported from 'most likely due to a circular import'.\n",
      "\u001b[1;31mClick <a href='https://aka.ms/kernelFailuresModuleImportErrFromFile'>here</a> for more info."
     ]
    }
   ],
   "source": [
    "print(f\"downloaded {downloads} pdfs\")"
   ]
  }
 ],
 "metadata": {
  "kernelspec": {
   "display_name": "Python 3",
   "language": "python",
   "name": "python3"
  },
  "language_info": {
   "codemirror_mode": {
    "name": "ipython",
    "version": 3
   },
   "file_extension": ".py",
   "mimetype": "text/x-python",
   "name": "python",
   "nbconvert_exporter": "python",
   "pygments_lexer": "ipython3",
   "version": "3.7.12"
  }
 },
 "nbformat": 4,
 "nbformat_minor": 2
}
