{
 "cells": [
  {
   "cell_type": "code",
   "execution_count": 22,
   "metadata": {},
   "outputs": [],
   "source": [
    "import requests\n",
    "from bs4 import BeautifulSoup\n",
    "import re\n",
    "import os\n",
    "import urllib3\n",
    "\n",
    "# Disable SSL warnings\n",
    "urllib3.disable_warnings(urllib3.exceptions.InsecureRequestWarning)\n",
    "downloads = 0\n",
    "\n",
    "def download_pdf(pdf_url):\n",
    "    global downloads\n",
    "    response = requests.get(f'https://nsdl.niscair.res.in{pdf_url}', verify=False)\n",
    "    pdf_name = (pdf_url.split('/')[-1]).replace(\"%20\", \"\")\n",
    "    pdf_dir = 'nsdl_books'\n",
    "    os.makedirs(pdf_dir, exist_ok=True)\n",
    "    pdf_path = os.path.join(pdf_dir, pdf_name)\n",
    "    with open(pdf_path, 'wb') as f:\n",
    "        f.write(response.content)\n",
    "    \n",
    "    # downloads += 1\n",
    "\n",
    "\n",
    "def download_pdfs(archive_url):\n",
    "    pg_no = 1\n",
    "    page_url = f'{archive_url}'\n",
    "\n",
    "    print(f'scrapping page: {page_url}')\n",
    "    response = requests.get(page_url, verify=False)\n",
    "    soup = BeautifulSoup(response.text, 'html.parser')\n",
    "    \n",
    "    issue_links = [a['href'] for a in soup.find_all('a', href=True) if '/handle/123456789/' in a['href']]\n",
    "    # links = issue_links[:119]\n",
    "    links = set(issue_links[:119])\n",
    "\n",
    "    \n",
    "    for link in links:\n",
    "        issue_response = requests.get(f'https://nsdl.niscair.res.in{link}', verify=False)\n",
    "        issue_soup = BeautifulSoup(issue_response.text, 'html.parser')\n",
    "        \n",
    "        pdf_links = [a['href'] for a in issue_soup.find_all('a', href=True) if '.pdf' in a['href']]\n",
    "        download_pdf(pdf_links[0])\n",
    "\n",
    "        # for pdf_link in pdf_links:\n",
    "        #     pdf_response = requests.get(pdf_link, verify=False)\n",
    "        #     pdf_soup = BeautifulSoup(pdf_response.text, 'html.parser')\n",
    "            \n",
    "        #     download_links = [a['href'] for a in pdf_soup.find_all('a', href=True) if 'article/download' in a['href']]\n",
    "        #     for download_link in download_links:\n",
    "        #         download_pdf(download_link)\n",
    "\n"
   ]
  },
  {
   "cell_type": "code",
   "execution_count": 23,
   "metadata": {},
   "outputs": [
    {
     "name": "stdout",
     "output_type": "stream",
     "text": [
      "scrapping page: https://nsdl.niscair.res.in/handle/123456789/265/simple-search?location=123456789%2F265&query=&filter_field_1=has_content_in_original_bundle&filter_type_1=equals&filter_value_1=true&rpp=100&sort_by=score&order=DESC&etal=0&submit_search=Update\n"
     ]
    }
   ],
   "source": [
    "\n",
    "base_url = 'https://nsdl.niscair.res.in/handle/123456789/265/simple-search?location=123456789%2F265&query=&filter_field_1=has_content_in_original_bundle&filter_type_1=equals&filter_value_1=true&rpp=100&sort_by=score&order=DESC&etal=0&submit_search=Update'\n",
    "download_pdfs(base_url)\n",
    "\n",
    "# https://epubs.icar.org.in/index.php/IJPP/issue/archive"
   ]
  },
  {
   "cell_type": "code",
   "execution_count": 24,
   "metadata": {},
   "outputs": [
    {
     "data": {
      "text/plain": [
       "60"
      ]
     },
     "execution_count": 24,
     "metadata": {},
     "output_type": "execute_result"
    }
   ],
   "source": [
    "import os\n",
    "\n",
    "lst = os.listdir(\"nsdl_books\") # your directory path\n",
    "len(lst)"
   ]
  }
 ],
 "metadata": {
  "kernelspec": {
   "display_name": "Python 3",
   "language": "python",
   "name": "python3"
  },
  "language_info": {
   "codemirror_mode": {
    "name": "ipython",
    "version": 3
   },
   "file_extension": ".py",
   "mimetype": "text/x-python",
   "name": "python",
   "nbconvert_exporter": "python",
   "pygments_lexer": "ipython3",
   "version": "3.11.5"
  }
 },
 "nbformat": 4,
 "nbformat_minor": 2
}
