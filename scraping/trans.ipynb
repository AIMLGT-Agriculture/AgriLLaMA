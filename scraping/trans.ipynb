{
 "cells": [
  {
   "cell_type": "code",
   "execution_count": 7,
   "metadata": {},
   "outputs": [],
   "source": [
    "def translate_text(target: str, text: str) -> dict:\n",
    "    \"\"\"Translates text into the target language.\n",
    "\n",
    "    Target must be an ISO 639-1 language code.\n",
    "    See https://g.co/cloud/translate/v2/translate-reference#supported_languages\n",
    "    \"\"\"\n",
    "    from google.cloud import translate_v2 as translate\n",
    "\n",
    "    translate_client = translate.Client()\n",
    "\n",
    "    if isinstance(text, bytes):\n",
    "        text = text.decode(\"utf-8\")\n",
    "\n",
    "    # Text can also be a sequence of strings, in which case this method\n",
    "    # will return a sequence of results for each text.\n",
    "    result = translate_client.translate(text, target_language=target)\n",
    "\n",
    "    # print(\"Text: {}\".format(result[\"input\"]))\n",
    "    # print(\"Translation: {}\".format(result[\"translatedText\"]))\n",
    "    # print(\"Detected source language: {}\".format(result[\"detectedSourceLanguage\"]))\n",
    "\n",
    "    return result"
   ]
  },
  {
   "cell_type": "code",
   "execution_count": 23,
   "metadata": {},
   "outputs": [
    {
     "name": "stdout",
     "output_type": "stream",
     "text": [
      "Text: \"ಎ\"\n",
      "Translation: &quot;a&quot;\n",
      "Detected source language: kn\n"
     ]
    }
   ],
   "source": [
    "f = open('b.txt', 'r')\n",
    "print(translate_text('en','안녕하세요' ))"
   ]
  },
  {
   "cell_type": "code",
   "execution_count": 24,
   "metadata": {},
   "outputs": [
    {
     "data": {
      "text/plain": [
       "'Eggplant This crop can be grown throughout the year. It contains mostly \"A\" and `B\\' vitamins and this vegetable is good for diabetic diseases. Soil: Eggplant can be grown in all types of soils. Well drained soil is suitable for this crop. Soil affected by sorgu blight is not suitable. Sowing season: This crop can be grown in all seasons of the year. The months of June-July, October-November, January-February are suitable for starting the crop, in hilly areas it can be grown in the months of October-November and January-February. The months of May, September and January are suitable for coastal areas. Varieties : L Eranagere : This is a local variety which has been promoted for many years in Bangalore and Mysore districts. Green color 15 to 20 cm. m. Beats long bodies. Kengeri: A local variety prevalent in Bangalore district, brown color 15 to 20 Ao. m. Leaves long pods. Arka Shirish: Plants grow tall. The leaves are green and the color of the flowers is white. The pods are long and green in color. Crop duration is 140-150 days. A yield of 39 tons per hectare can be obtained. Arka Kusumakar: Plants spread and grow. Leaves and stem part are green. The color of the flower is white and the fruits are green and clustered. Crop duration is 140-150 days, yield of 40 tons per hectare. Arka Nidhi : The plants grow tall and bushy. The pods are medium in length, globose and shiny bluish-black in color. Roundworm has resistance to the disease. Crop duration is 150 days, yield of 48.5 tonnes per hectare can be obtained. Nuts are long and in clusters. They have a bright reddish purple color. It has the power to withstand roundworm disease. Crop duration is 150 days, yield is 45 tons per hectare. 7. Punjab Moti: Plants are short and bushy. Leaf, stem and flower are purple. The pods are purple in color, medium in size, oval and clustered. The crop period is 115 to 120 days, yielding about 8-10 tons per hectare. It is recommended for cultivation in agricultural zone 7 in rain shelters. 8. Malapur Local : Very popular local breed of Dharwad district. The pods are green in color and have narrow lines. 9. Rampur Local: Mostly grown in Chitradurga district. Plants of this species grow tall and bushy. Nuts are shiny greenish purple” nuts. Moma, are highly sought after in the local market. Hybrid Varieties 1. Arka Anand: A hybrid variety suitable for monsoons and winters, the Round Sorgu has acquired disease resistance. Fruits are green in color, long (22-24 cm) in clusters. This variety yields 60-65 tons per hectare, with fruits harvested in about 60-65 days. For Coastal Pudesh 1. Mattigulla : Best breed for Dakshina Kannada district. It is green in color and has thorns on the leaves. 2. Westcoast Green Round : This too has thick pods and thornless plants. It has immunity to roundworm disease. For hilly areas: Arka Shirish, Arka Kusumakar, Pusakranti, Mattigulla varieties are suitable. Cultivators % Details No. per hectare Coastal area Atare areas 1 Sowing seed 100 g 200-250 g 2 Manure 25 ton 25 ton 3 Chemical fertilizers Nitrogen 150 kg. Gram is 125 kg. Gram Phosphorus 50 k. Gram 100 km. Gram potash 75 k. 50 grams per gram. Preparation of gram seedlings : 7.5 m. WH, 12 m. wide and 10 cm. m. Make four high sapling beds and spread 20 km per bed. Add gram (3 to 4 baskets) of barnyard manure. Half a km. Apply 15 : 15 : 15 gram compound fertilizer to each seedling pot and mix it properly in the soil to a depth of 7.5 cm in the seedling pots. m. Sowing should be done at intervals. Water should be provided daily in the evening. Seedlings are ready for transplanting in four weeks. It is advisable to use seedlings prepared in plastic trays. Planting: The land should be deeply plowed and prepared for planting by breaking the clods. Apply 25 tons of farmyard manure per hectare and mix it well in the soil. Then 120 cm. m. Bodu, (Hari) should be done at intervals. percent Fertilizers containing 50% nitrogen and full phosphorus, potash should be mixed well in the soil. Water thinly before planting. Seedlings are spaced 120 cm from row to row. m. 60 cm from seedling to seedling. m. At intervals, one side of the bodhi should be planted. 6 weeks after transplanting 25% nitrogen should be given as top dressing. The remaining percent 25% nitrogen should be applied as top dressing 10 weeks after planting. Crop at flowering stage 2 2.2.00. Two sprays of potency 2, 4-d now plant stimulator at 15 days interval can increase the yield. Irrigation and intercropping: Water should be applied to the seedlings once in 4-5 days. The soil should be raised every time the manure is applied. The land should be kept weed free. Weed Management Weeds Herbicides Rate Cereal/Leave Pluxoralin (poo) 10.0 l. A. (Poo : before weeds come) Plant protection 2 krasam. INSECTS DAMAGE SYMPTOMS MANAGEMENT 1... Gulaganji maggots and caterpillars attack the leaves. Three weeks after sowing in the seedling, 2 grasshopper nymphs and the grasshoppers suck the sap from the leaves. 1.7 ml. Dimethoate 30 e.c. Or it causes the leaves to wilt. These insects are “small 0.5 ml. Fospamidon 40 e.c. or 2 ml. Leaf” spread the disease. Quinalphos 25 e.c. Every liter of water should be mixed and sprayed. 3... As a bee group, bees suck sap from young leaves and flower buds. Then these parts are dried. 4 Flour Millet White flour millets absorb the juice from the leaves. -Sadara- 5 stem borer young leaves turn yellow and dry. The caterpillar feeds on twigs and stems. Such parts are dry. Then the plants die. 6 The cuti and nut caterpillar eats the leaf axils and midribs. Due to this, the sapling falls and dries up. 7. Weevil 8. Bollworm 9. Cutworm 10. Cutworm bores and eats the flower buds causing the buds to fall down. The nut is drilled and eaten inside. Nuts can be seen on the pods and inside a black tunnel covered with droppings. Red spider mites cluster on the underside of the leaf and suck the sap. White spots appear on such leaves. Then they turn yellow and dry and fall down. White \"0\" shaped caterpillars feed on roots. Plants turn yellow and then wither. Cutworms feed on leaf cowds, pith. Caterpillars feed on roots. Caterpillars often attack seedlings. Cut stems to the top of the soil. This causes seedlings to droop and dry. Planted 2 using the above recommended spray. After 5 weeks, spray 50 ml of carbaryl per liter of water 2-3 times. At the time of planting, 20 ml of dicofal should be added to the soil once every month. Add 25 EC per liter of water and apply 20 EC per liter of water. Kras. DISEASES SYMPTOMS MANAGEMENT MEASURES 1 Ash blight A white or gray fungus can be seen in 3 gm of seed if the symptoms of ash blight are seen on the leaf. Then this disease dissolves sulfur percent throughout the leaf. 80 or 1 g of Benomyl is applied and the leaves are dried. 50 wp. Or carbondizim should be mixed and sprayed per liter of water. After 15 days the same medicine should be sprayed again. 450 to 530 liters of spray solution is required per hectare. 2. Gent, Hood plant stem is black or doc is a disease of seedling dieback in the bed. The disease is complete dying and the plants collapse and fall to the ground. Irrigate and cover it with 400-500 gauge transparent polythene paper for 6 months during April-May. Due to this, the soil temperature increases and the fungal diseases in the soil are significantly destroyed. Do Hoss OSH of six meters per K. 6 gm of metaloxyl m. Rudd. Seed treatment should be done from And then every km. 4 grams of Trichoderma seed should be coated per gram of seed. Due to this the seedlings are disease free and grow strong. Or sowing seed should be treated with 125 g of mercury compound. 3. Small leaf disease affected plants should be removed and destroyed. dow disease is stunted. Infected plants become barren. 67 ml dimethoate should be mixed in every liter of water and sprayed for control of disease spreading insects. 4 The plant infected with Smirosium disease turns yellow and gets infected with manure blight in sufficient quantity before sowing. The stem is covered with water and that part turns dark brown with Trichoderma biofungicide. Then the plant is mixed whole (2 kg per acre) and dried on the ground. should be added. 5 Rounded plants turn yellow and then the leaves fall off. Disease resistant varieties should be grown in the area. Eggplant followed by potatoes. Do not grow tomatoes, chillies and tobacco. Change crop once in two years, grow millet and musuk maize to prevent round rot disease. Before planting, 15 kg (Blechengau) Mudi per hectare should be added to the soil and watered. 6 Fruit dirt small low black spots can be seen. a i. Leaf dieback and fruit blight symptoms of leaf spot 2 g Mancozeb 75 w.p. Add to every liter of water and sprinkle. If the disease is not fully controlled, give the same spray again after 15 days. 450 - 530 liters of spray solution should be used per hectare. 7. Leaf spot small circular gray then brown 2 g Mancozeb 75 w. P. Or disease spots can be seen. 2 g xorothelonil 70 w.p. Every liter of water should be mixed and sprayed. 8 Round leaves with brown spots covered with a yellow ring 0.5 gm Styptomycin Sulphate and 3 gm leaf spot and the leaves dry up and fall off. Copper oxide should be mixed in every liter of water and sprayed twice at an interval of 20 days. Harvest and yield: Arka Kusumakar, Arka Shirish, Arka Nidhi, Arka Keshav are high yielding cultivars. The yield is 30-40 tons per hectare. Other varieties yield 20 tons per hectare.\\n'"
      ]
     },
     "execution_count": 24,
     "metadata": {},
     "output_type": "execute_result"
    }
   ],
   "source": [
    "import html\n",
    "fr = open('be.txt', 'r')\n",
    "html.unescape(fr.read())"
   ]
  },
  {
   "cell_type": "code",
   "execution_count": 21,
   "metadata": {},
   "outputs": [
    {
     "data": {
      "text/plain": [
       "{'translatedText': 'Eggplant This crop can be grown throughout the year. It contains mostly &quot;A&quot; and `B&#39; vitamins and this vegetable is good for diabetic diseases. Soil: Eggplant can be grown in all types of soils. Well drained soil is suitable for this crop. Soil affected by sorgu blight is not suitable. Sowing season: This crop can be grown in all seasons of the year. The months of June-July, October-November, January-February are suitable for starting the crop, in hilly areas it can be grown in the months of October-November and January-February. The months of May, September and January are suitable for coastal areas. Varieties : L Eranagere : This is a local variety which has been promoted for many years in Bangalore and Mysore districts. Green color 15 to 20 cm. m. Beats long bodies. Kengeri: A local variety prevalent in Bangalore district, brown color 15 to 20 Ao. m. Leaves long pods. Arka Shirish: Plants grow tall. The leaves are green and the color of the flowers is white. The pods are long and green in color. Crop duration is 140-150 days. A yield of 39 tons per hectare can be obtained. Arka Kusumakar: Plants spread and grow. Leaves and stem part are green. The color of the flower is white and the fruits are green and clustered. Crop duration is 140-150 days, yield of 40 tons per hectare. Arka Nidhi : The plants grow tall and bushy. The pods are medium in length, globose and shiny bluish-black in color. Roundworm has resistance to the disease. Crop duration is 150 days, yield of 48.5 tonnes per hectare can be obtained. Nuts are long and in clusters. They have a bright reddish purple color. It has the power to withstand roundworm disease. Crop duration is 150 days, yield is 45 tons per hectare. 7. Punjab Moti: Plants are short and bushy. Leaf, stem and flower are purple. The pods are purple in color, medium in size, oval and clustered. The crop period is 115 to 120 days, yielding about 8-10 tons per hectare. It is recommended for cultivation in agricultural zone 7 in rain shelters. 8. Malapur Local : Very popular local breed of Dharwad district. The pods are green in color and have narrow lines. 9. Rampur Local: Mostly grown in Chitradurga district. Plants of this species grow tall and bushy. Nuts are shiny greenish purple” nuts. Moma, are highly sought after in the local market. Hybrid Varieties 1. Arka Anand: A hybrid variety suitable for monsoons and winters, the Round Sorgu has acquired disease resistance. Fruits are green in color, long (22-24 cm) in clusters. This variety yields 60-65 tons per hectare, with fruits harvested in about 60-65 days. For Coastal Pudesh 1. Mattigulla : Best breed for Dakshina Kannada district. It is green in color and has thorns on the leaves. 2. Westcoast Green Round : This too has thick pods and thornless plants. It has immunity to roundworm disease. For hilly areas: Arka Shirish, Arka Kusumakar, Pusakranti, Mattigulla varieties are suitable. Cultivators % Details No. per hectare Coastal area Atare areas 1 Sowing seed 100 g 200-250 g 2 Manure 25 ton 25 ton 3 Chemical fertilizers Nitrogen 150 kg. Gram is 125 kg. Gram Phosphorus 50 k. Gram 100 km. Gram potash 75 k. 50 grams per gram. Preparation of gram seedlings : 7.5 m. WH, 12 m. wide and 10 cm. m. Make four high sapling beds and spread 20 km per bed. Add gram (3 to 4 baskets) of barnyard manure. Half a km. Apply 15 : 15 : 15 gram compound fertilizer to each seedling pot and mix it properly in the soil to a depth of 7.5 cm in the seedling pots. m. Sowing should be done at intervals. Water should be provided daily in the evening. Seedlings are ready for transplanting in four weeks. It is advisable to use seedlings prepared in plastic trays. Planting: The land should be deeply plowed and prepared for planting by breaking the clods. Apply 25 tons of farmyard manure per hectare and mix it well in the soil. Then 120 cm. m. Bodu, (Hari) should be done at intervals. percent Fertilizers containing 50% nitrogen and full phosphorus, potash should be mixed well in the soil. Water thinly before planting. Seedlings are spaced 120 cm from row to row. m. 60 cm from seedling to seedling. m. At intervals, one side of the bodhi should be planted. 6 weeks after transplanting 25% nitrogen should be given as top dressing. The remaining percent 25% nitrogen should be applied as top dressing 10 weeks after planting. Crop at flowering stage 2 2.2.00. Two sprays of potency 2, 4-d now plant stimulator at 15 days interval can increase the yield. Irrigation and intercropping: Water should be applied to the seedlings once in 4-5 days. The soil should be raised every time the manure is applied. The land should be kept weed free. Weed Management Weeds Herbicides Rate Cereal/Leave Pluxoralin (poo) 10.0 l. A. (Poo : before weeds come) Plant protection 2 krasam. INSECTS DAMAGE SYMPTOMS MANAGEMENT 1... Gulaganji maggots and caterpillars attack the leaves. Three weeks after sowing in the seedling, 2 grasshopper nymphs and the grasshoppers suck the sap from the leaves. 1.7 ml. Dimethoate 30 e.c. Or it causes the leaves to wilt. These insects are “small 0.5 ml. Fospamidon 40 e.c. or 2 ml. Leaf” spread the disease. Quinalphos 25 e.c. Every liter of water should be mixed and sprayed. 3... As a bee group, bees suck sap from young leaves and flower buds. Then these parts are dried. 4 Flour Millet White flour millets absorb the juice from the leaves. -Sadara- 5 stem borer young leaves turn yellow and dry. The caterpillar feeds on twigs and stems. Such parts are dry. Then the plants die. 6 The cuti and nut caterpillar eats the leaf axils and midribs. Due to this, the sapling falls and dries up. 7. Weevil 8. Bollworm 9. Cutworm 10. Cutworm bores and eats the flower buds causing the buds to fall down. The nut is drilled and eaten inside. Nuts can be seen on the pods and inside a black tunnel covered with droppings. Red spider mites cluster on the underside of the leaf and suck the sap. White spots appear on such leaves. Then they turn yellow and dry and fall down. White &quot;0&quot; shaped caterpillars feed on roots. Plants turn yellow and then wither. Cutworms feed on leaf cowds, pith. Caterpillars feed on roots. Caterpillars often attack seedlings. Cut stems to the top of the soil. This causes seedlings to droop and dry. Planted 2 using the above recommended spray. After 5 weeks, spray 50 ml of carbaryl per liter of water 2-3 times. At the time of planting, 20 ml of dicofal should be added to the soil once every month. Add 25 EC per liter of water and apply 20 EC per liter of water. Kras. DISEASES SYMPTOMS MANAGEMENT MEASURES 1 Ash blight A white or gray fungus can be seen in 3 gm of seed if the symptoms of ash blight are seen on the leaf. Then this disease dissolves sulfur percent throughout the leaf. 80 or 1 g of Benomyl is applied and the leaves are dried. 50 wp. Or carbondizim should be mixed and sprayed per liter of water. After 15 days the same medicine should be sprayed again. 450 to 530 liters of spray solution is required per hectare. 2. Gent, Hood plant stem is black or doc is a disease of seedling dieback in the bed. The disease is complete dying and the plants collapse and fall to the ground. Irrigate and cover it with 400-500 gauge transparent polythene paper for 6 months during April-May. Due to this, the soil temperature increases and the fungal diseases in the soil are significantly destroyed. Do Hoss OSH of six meters per K. 6 gm of metaloxyl m. Rudd. Seed treatment should be done from And then every km. 4 grams of Trichoderma seed should be coated per gram of seed. Due to this the seedlings are disease free and grow strong. Or sowing seed should be treated with 125 g of mercury compound. 3. Small leaf disease affected plants should be removed and destroyed. dow disease is stunted. Infected plants become barren. 67 ml dimethoate should be mixed in every liter of water and sprayed for control of disease spreading insects. 4 The plant infected with Smirosium disease turns yellow and gets infected with manure blight in sufficient quantity before sowing. The stem is covered with water and that part turns dark brown with Trichoderma biofungicide. Then the plant is mixed whole (2 kg per acre) and dried on the ground. should be added. 5 Rounded plants turn yellow and then the leaves fall off. Disease resistant varieties should be grown in the area. Eggplant followed by potatoes. Do not grow tomatoes, chillies and tobacco. Change crop once in two years, grow millet and musuk maize to prevent round rot disease. Before planting, 15 kg (Blechengau) Mudi per hectare should be added to the soil and watered. 6 Fruit dirt small low black spots can be seen. a i. Leaf dieback and fruit blight symptoms of leaf spot 2 g Mancozeb 75 w.p. Add to every liter of water and sprinkle. If the disease is not fully controlled, give the same spray again after 15 days. 450 - 530 liters of spray solution should be used per hectare. 7. Leaf spot small circular gray then brown 2 g Mancozeb 75 w. P. Or disease spots can be seen. 2 g xorothelonil 70 w.p. Every liter of water should be mixed and sprayed. 8 Round leaves with brown spots covered with a yellow ring 0.5 gm Styptomycin Sulphate and 3 gm leaf spot and the leaves dry up and fall off. Copper oxide should be mixed in every liter of water and sprayed twice at an interval of 20 days. Harvest and yield: Arka Kusumakar, Arka Shirish, Arka Nidhi, Arka Keshav are high yielding cultivars. The yield is 30-40 tons per hectare. Other varieties yield 20 tons per hectare.\\n',\n",
       " 'detectedSourceLanguage': 'kn',\n",
       " 'input': 'ಬದನೆ\\n\\nಈ ಬೆಳೆಯನ್ನು ವರ್ಷಾದಾದ್ಕಂತ ಬೆಳೆಯಬಹುದು. ಇದರಲ್ಲಿ ಹೆಚ್ಚಾಗಿ \"ಎ\" ಮತ್ತು `ಬಿ” ಜೀವಸತ್ವಗಳಿದ್ದು, ಈ ತರಕಾರಿಯು\\n\\nಮಧುಮೇಹ ರೋಗಗಳಿಗೆ ಒಳ್ಳೆಯದಾಗಿದೆ.\\n\\nಮಣ್ಣು : ಬದನೆಯನ್ನು ಎಲ್ಲಾ ತೆರನಾದ ಮಣ್ಣುಗಳಲ್ಲಿ ಬೆಳೆಯಬಹುದು. ನೀರು ಬಸಿದು ಹೋಗುವಂತಹ ಗೋಡು ಮಣ್ಣು ಈ ಬೆಳೆಗೆ\\nಸೂಕ್ತ. ಸೊರಗು ರೋಗಾಣು ಪೀಡಿತ ಮಣ್ಣು ಸೂಕ್ತವಲ್ಲ.\\n\\nಬಿತ್ತನೆ ಕಾಲ : ಈ ಬೆಳೆಯನ್ನು ವರ್ಷದ ಎಲ್ಲಾ ಕಾಲದಲ್ಲಿ ಬೆಳೆಯಬಹುದು. ಬೆಳೆಯನ್ನು ಪ್ರಾರಂಭಿಸಲು ಜೂನ್\\u200c-ಜುಲೈ, ಅಕ್ಟೋಬರ್\\u200c-\\nನವ್ಹೆಂಬರ್\\u200c, ಜನೆವರಿ-ಫೆಬ್ರುವರಿ ತಿ೦ಗಳುಗಳು ಸೂಕ್ತ, ಗುಡ್ಡಗಾಡು ಪ್ರದೇಶಗಳಲ್ಲಿ ಅಕ್ಟೋಬರ್\\u200c-ನವ್ಹೆಂಬರ್\\u200c ಹಾಗೂ ಜನವರಿ- ಫೆಬ್ರುವರಿ\\nತಿ೦ಗಳಲ್ಲಿಯೂ ಬೆಳೆಯಬಹುದು. ಕರಾವಳಿ ಪ್ರದೇಶಗಳಲ್ಲಿ ಮೇ, ಸೆಪ್ಟಂಬರ್\\u200c, ಜನವರಿ ತಿ೦ಗಳುಗಳು ಸೂಕ್ತ.\\n\\nತಳಿಗಳು :\\n\\nL\\n\\nಈರನಗೆರೆ : ಇದು ಬೆ೦ಗಳೂರು ಮತ್ತು ಮೈಸೂರು ಜಿಲ್ಲೆಗಳಲ್ಲಿ ಬಹಳ ವರ್ಷಗಳಿಂದ ಪ್ರಚಾರದಲ್ಲಿರುವ ಸ್ಥಳೀಯ ತಳಿ. ಹಸಿರು\\nಬಣ್ಣದ 15 ರಂದ 20 ಸೆ೦. ಮೀ. ಉದ್ದವಿರುವ ಕಾಯಗಳನ್ನು ಬಡುತ್ತದೆ.\\n\\nಕೆಂಗೇರಿ : ಬೆ೦ಗಳೂರು ಜಿಲ್ಲೆಯಲ್ಲಿ ಪ್ರಚಲಿತದಲ್ಲಿರುವ ಸ್ಥಳೀಯ ತಳಿ, ಕಂದು ಬಣ್ಣದ 15 ರಿ೦ದ 20 Ao. ಮೀ. ಉದ್ದವಿರುವ\\nಕಾಯಿಗಳನ್ನು ಬಿಡುತ್ತದೆ.\\n\\nಅರ್ಕಾ ಶಿರೀಶ್\\u200c : ಗಿಡಗಳು ಎತ್ತರವಾಗಿ ಬೆಳೆಯುತ್ತವೆ. ಎಲೆಗಳು ಹಸಿರಾಗಿದ್ದು, ಹೂವುಗಳ ಬಣ್ಣ ಬಿಳುಪಾಗಿರುತ್ತದೆ. ಕಾಯಿಗಳು ಜಾಸ್ತಿ\\nಉದ್ದವಾಗಿದ್ದು ಹಸಿರು ಬಣ್ಣವನ್ನು ಹೊಂದಿರುತ್ತವೆ. ಬೆಳೆಯ ಅವಧಿ 140-150 ದಿವಸಗಳು. ಒಂದು ಹೆಕ್ಟೇರಿಗೆ 39 ಟನ್\\u200c ಇಳುವರಿ\\nಪಡೆಯಬಹುದು.\\n\\nಅರ್ಕಾ ಕುಸುಮಾಕರ್\\u200c : ಗಿಡಗಳು ಹರಡಿಕೊಂಡು ಬೆಳೆಯುತ್ತವೆ. ಎಲೆಗಳು ಮತ್ತು ಕಾಂಡದ ಭಾಗ ಹಸಿರಾಗಿರುತ್ತವೆ. ಹೂವಿನ ಬಣ್ಣ\\n\\nಬಿಳುಪಾಗಿದ್ದು, ಕಾಯಿಗಳು ಹಸಿರಾಗಿದ್ದು, ಗೊ೦ಚಲಾಗಿರುತ್ತವೆ. ಬೆಳೆಯ ಅವಧಿ 140-150 ದಿವಸಗಳು, ಒಂದು ಹೆಕ್ಟೇರಿಗೆ 40 ಟನ್\\u200c\\nಇಳುವರಿ ಪಡೆಯಬಹುದು.\\n\\nಅರ್ಕಾ ನಿಧಿ : ಗಿಡಗಳು ಎತ್ತರವಾಗಿ ಬೆಳೆದು ಪೊದೆಯಾಕಾರದಲ್ಲಿರುತ್ತವೆ. ಕಾಯಿಗಳು ಮಧ್ಯಮ ಉದ್ದವಿದ್ದು ಗೊಂಜಲಾಗಿರುತ್ತವೆ\\n\\nಮತ್ತು ಹೊಳೆಯುವ ನೀಲಿ ಮಿಶ್ರಿತ ಕಪ್ಪು ಬಣ್ಣ ಹೊಂದಿರುತ್ತವೆ. ದುಂಡಾಣು ಸೊರಗು ರೋಗಕ್ಕೆ ನಿರೋಧಕ ಶಕ್ತಿಯನ್ನು ಹೊಂದಿದೆ.\\nಬೆಳೆಯ ಅವಧಿ 150 ದಿವಸಗಳು, ಒಂದು ಹೆಕ್ಟೇರಿಗೆ 48.5 ಟನ್\\u200c ಇಳುವರಿ ಪಡೆಯಬಹುದು\\n\\nವ ಪಚ ee ಟಟ ಎ Wy eww ಪಯ ಸ ee ee ee\\n\\nಅರ್ಕಾ ಕೇಶವ್\\u200c : ಈ ತಳಿಯ ಗಿಡಗಳು ಎತ್ತರವಾಗಿದ್ದು, ಹೆಚ್ಚಿನ ಸಂಖ್ಯೆಯಲ್ಲಿ ಕವಲು ರೆಂಬೆಗಳನ್ನು ಹೊಂದಿರುತ್ತವೆ. ಕಾಯಿಗಳು\\nಉದ್ದವಾಗಿದ್ದು, ಗೊ೦ಚಲಲ್ಲಿದ್ದು. ಹೊಳೆಯುವ ಕೆಂಪು ಮಿಶ್ರಿತ ನೇರಳೆ ಬಣ್ಣ ಹೊಂದಿರುತ್ತವೆ. ದುಂಡಾಣು ಸೊರಗು ರೋಗವನ್ನು\\nತಡೆದುಕೊಳ್ಳುವ ಶಕ್ತಿ ಇದೆ. ಬೆಳೆಯ ಅವಧಿ 150 ದಿವಸಗಳು, ಒಂದು ಹೆಕ್ಟೇರಿಗೆ 45 ಟನ್\\u200c ಇಳುವರಿ ಪಡೆಯಬಹುದು.\\n\\x0c7. ಪಂಜಾಬ್\\u200c ಮೋತಿ : ಗಿಡಗಳು ಗಿಡ್ಡವಾಗಿದ್ದು, ಪೊದೆಯಾಕಾರದಲ್ಲಿ ಬೆಳೆಯುತ್ತವೆ. ಎಲೆ, ಕಾಂಡ ಮತ್ತು ಹೂ ನೇರಳೆ ಬಣ್ಣದ್ದಾಗಿರುತ್ತವೆ.\\nಕಾಯಿಗಳು ನೇರಳೆ ಬಣ್ಣ, ಮಧ್ಯಮ ಗಾತ್ರ, ಅಂಡಾಕಾರವಾಗಿದ್ದು ಗೊ೦ಚಲಲ್ಲಿರುತ್ತವೆ. ಬೆಳೆಯ ಅವಧಿ 115 ರಿ೦ದ 120 ದಿವಸಗಳು,\\nಒಂದು ಹೆಕ್ಟೇರಿಗೆ ಸುಮಾರು 8-10 ಟನ್\\u200c ಇಳುವರಿ ಪಡೆಯಬಹುದು. ಇದನ್ನು ಕೃಷಿ ವಲಯ 7 ರಲ್ಲಿ ಮಳೆಯಾಶ್ರಯದಲ್ಲಿ\\nಬೆಳೆಯಲು ಶಿಫಾರಸ್ಸು ಮಾಡಿದೆ.\\n\\n8. ಮಾಲಾಪುರ್\\u200c ಲೋಕಲ್\\u200c : ಧಾರವಾಡ ಜಿಲ್ಲೆಯ ಬಹು ಜನಪ್ರಿಯ ಸ್ಥಳೀಯ ತಳಿ. ಕಾಯಿಗಳು ಹಸಿರು ಬಣ್ಣದಿಂದ ಕೂಡಿದ್ದು ಬಳಿಯ\\nಗೆರೆಗಳನ್ನು ಹೊಂದಿರುತ್ತವೆ.\\n\\n9. ರಾಂಪುರ ಲೋಕಲ್\\u200c: ಚಿತ್ರದುರ್ಗ ಜಿಲ್ಲೆಯಲ್ಲಿ ಹೆಚ್ಚಾಗಿ ಬೆಳೆಯಲಾಗುತ್ತದೆ. ಈ ತಳಿಯ ಗಿಡಗಳು ಎತ್ತರವಾಗಿ ಬೆಳೆದು\\nಪೊದೆಯಾಕಾರದಲ್ಲಿರುತ್ತವೆ. ಕಾಯಿಗಳು ಹೊಳೆಯುವ ಹಸಿರುಮಿಶ್ರಿತ ನೇರಳೆ ಬಣ್ಣ ಹೊಂದಿವೆ” ಕಾಯಿಗಳು. Moma,\\nಸ್ಥಳೀಯ ಮಾರುಕಟ್ಟೆಯಲ್ಲಿ ಹೆಚ್ಚು ಬೇಡಿಕೆಯನ್ನು ಪಡೆದಿವೆ.\\n\\nಸಂಕರಣ ತಳಿಗಳು\\n\\n1. ಅರ್ಕಾ ಆನಂದ್\\u200c: ಮಳೆಗಾಲ ಹಾಗೂ ಚಳಿಗಾಲಕ್ಕೆ ಸೂಕ್ತ ಸಂಕರಣ ತಳಿಯಾಗಿದ್ದು, ದುಂಡಾಣು ಸೊರಗು ರೋಗ ನಿರೋಧಕ\\nಶಕ್ತಿಯನ್ನು ಪಡೆದಿದೆ. ಹಣ್ಣುಗಳು ಹಸಿರು ಬಣ್ಣದಿ೦ದ ಕೂಡಿದ್ದು, ಉದ್ದವಾಗಿದ್ದು, (22-24 ಸೆಂ.ಮೀ.) ಗೊ೦ಚಲುಗಳಲ್ಲಿರುತ್ತವೆ.\\nಸುಮಾರು 60-65 ದಿನಗಳಲ್ಲಿ ಹಣ್ಣುಗಳು ಕೊಯ್ಲಿಗೆ ಬರುವ ಈ ತಳಿಯು ಪ್ರತಿ ಹೆಕ್ಟೇರಿಗೆ 60-65 ಟನ್\\u200c ಇಳುವರಿ ಕೊಡುತ್ತದೆ.\\n\\nಕರಾವಳಿ ಪುದೇಶಕ್ಕೆ\\n\\n1. ಮಟ್ಟಿಗುಳ್ಳ : ದಕ್ಷಿಣ ಕನ್ನಡ ಜಿಲ್ಲೆಗೆ ಉತ್ತಮ ತಳಿ. ಹಸಿರು ಬಣ್ಣದ ಕಾಯಿಂದ ಕೂಡಿದ್ದು, ಎಲೆಗಳ ಮೇಲೆ ಮುಳ್ಳುಗಳಿರುತ್ತವೆ.\\n\\n2. ವೆಸ್ಟಕೋಸ್ಟ್\\u200c ಗ್ರೀನ್\\u200c ರೌಂಡ್\\u200c : ಇದು ಕೂಡ ಮಟ್ಟಿಗುಳ್ಳದಂತೆ ಕಾಯಿಗಳು ಗಾತ್ರದಲ್ಲಿ ದಪ್ಪವಿದ್ದು, ಗಿಡಗಳು ಮುಳ್ಳು ರಹಿತವಾಗಿರುತ್ತವೆ.\\nಇದು ದುಂಡಾಣು ಸೊರಗು ರೋಗ ನಿರೋಧಕ ಶಕ್ತಿಯನ್ನು ಹೊಂದಿದೆ.\\nಗುಡ್ಡಗಾಡು ಪ್ರದೇಶಕ್ಕೆ : ಆರ್ಕಾ ಶಿರೀಶ್\\u200c, ಆರ್ಕಾ ಕುಸುಮಾಕರ್\\u200c, ಪೂಸಕ್ರಾಂತಿ, ಮಟ್ಟಿಗುಳ್ಳ ತಳಿಗಳು ಸೂಕ್ತ.\\nಬೇಸಾಯ ಸಾಮಗಿಗಳು\\n\\n% ವಿವರಗಳು ಪ್ರತಿ ಹೆಕ್ಡೇರಿಗೆ\\nಸಂ ಕರಾವಳಿ ಪ್ರದೇಶ ಆತರೆ ಪ್ರದೇಶಗಳಿಗೆ\\n1 ಬಿತ್ತನೆ ಬೀಜ 100 ಗ್ರಾಂ 200-250 ಗ್ರಾಂ\\n2 ಕೊಟ್ಟಗೆ ಗೊಬ್ಬರ 25 ಟನ್\\u200c 25 ಟನ್\\u200c\\n3 ರಾಸಾಯನಿಕ ಗೊಬ್ಬರಗಳು\\nಸಾರಜನಕ 150 ಕಿ. ಗ್ರಾಂ 125 ಕಿ. ಗ್ರಾಂ\\nರಂಜಕ 50 ಕಿ. ಗ್ರಾಂ 100 ಕಿ. ಗ್ರಾಂ\\nಪೊಟ್ಯಾಷ್\\u200c 75 ಕಿ. ಗ್ರಾಂ 50 ಕಿ. ಗ್ರಾಂ\\n\\nಸಸಿಮಡಿ ತಯಾರಿಕೆ : 7.5 ಮೀ. WH, 12 ಮೀ. ಅಗಲ ಮತ್ತು 10 ಸೆಂ. ಮೀ. ಎತ್ತರದ ನಾಲ್ಕು ಸಸಿ ಮಡಿಗಳನ್ನು ತಯಾರಿಸಿ ಪ್ರತಿ ಮಡಿಗೆ\\n20 ಕಿ. ಗ್ರಾಂ (3 ರಿಂದ 4 ಬುಟ್ಟ) ಕೊಟ್ಟಗೆ ಗೊಬ್ಬರವನ್ನು ಹಾಕಿ. ಅರ್ಧ ಕಿ. ಗ್ರಾಂ 15 : 15 : 15 ಸ೦ಯುಕ್ತ ರಸಗೊಬ್ಬರವನ್ನು ಪ್ರತಿ ಸಸಿ\\nಮಡಿಗೆ ಹಾಕಿ, ಮಣ್ಣಿನಲ್ಲಿ ಸರಿಯಾಗಿ ಬೆರೆಸಿ ಸಸಿ ಮಡಿಗಳಲ್ಲಿ 7.5 ಸೆಂ. ಮೀ. ಅ೦ತರದಲ್ಲಿ ಬಿತ್ತನೆ ಮಾಡಬೇಕು. ಪ್ರತಿದಿನ ಸಾಯಂಕಾಲ\\nನೀರನ್ನು ಒದಗಿಸಬೇಕು. ಸಸಿಗಳು ನಾಲ್ಕು ವಾರದಲ್ಲಿ ನಾಟಿ ಮಾಡಲು ಸಿದ್ದವಾಗುತ್ತವೆ. ಪ್ಲಾಸ್ಟಿಕ್\\u200c ತಟ್ಟೆಗಳಲ್ಲಿ ಸಿದ್ದಪಡಿಸಿದ ಸಸಿಗಳನ್ನು\\nಉಪಯೋಗಿಸುವುದು ಸೂಕ್ತ.\\n\\nನಾಟಿ ಮಾಡುವುದು : ಭೂಮಿಯನ್ನು ಆಳವಾಗಿ ಉಳುಮೆ ಮಾಡಿ ಹೆಂಟೆಗಳನ್ನು ಒಡೆದು ನಾಟಿ ಮಾಡಲು ಸಿದ್ಧಪಡಿಸಬೇಕು. ಪ್ರತಿ ಹೆಕ್ಟೇರಿಗೆ\\n25 ಟನ್\\u200c ಕೊಟ್ಟಿಗೆ ಗೊಬ್ಬರವನ್ನು ಹಾಕಿ ಚೆನ್ನಾಗಿ ಮಣ್ಣಿನಲ್ಲಿ ಬೆರೆಸಬೇಕು. ನಂತರ 120 ಸೆಂ. ಮೀ. ಅಂತರದಲ್ಲಿ ಬೋದು, (ಹರಿ) ಗಳನ್ನು\\nಮಾಡಬೇಕು. ಶೇ. 50 ರಷ್ಟು ಸಾರಜನಕ ಮತ್ತು ಪೂರ್ಣ ಪ್ರಮಾಣದ ರಂಜಕ, ಪೊಟ್ಯಾಷ್\\u200cಯುಕ್ತ ಗೊಬ್ಬರಗಳನ್ನು ಮಣ್ಣಿನಲ್ಲಿ ಚೆನ್ನಾಗಿ\\nಬೆರೆಸಬೇಕು. ನಾಟಿ ಮಾಡುವ ಮೊದಲು ತೆಳುವಾಗಿ ನೀರನ್ನು ಹಾಯಿಸಬೇಕು. ಸಸಿಗಳನ್ನು ಸಾಲಿನಿಂದ ಸಾಲಿಗೆ 120 ಸೆಂ. ಮೀ.\\nಸಸಿಯಿಂದ ಸಸಿಗೆ 60 ಸೆಂ. ಮೀ. ಅ೦ತರದಲ್ಲಿ ಬೋದಿನ ಒಂದು ಪಕ್ಕದಲ್ಲಿ ನಾಟಿ ಮಾಡಬೇಕು. ನಾಟಿ ಮಾಡಿ 6 ವಾರಗಳ ನ೦ತರ ಶೇ.\\n25 ರಷ್ಟು ಸಾರಜನಕವನ್ನು ಮೇಲು ಗೊಬ್ಬರವಾಗಿ ಕೊಡಬೇಕು. ಉಳಿದ ಶೇ. 25 ರಷ್ಟು ಸಾರಜನಕವನ್ನು ನಾಟಿ ಮಾಡಿದ 10 ವಾರಗಳ\\nನಂತರ ಮೇಲು ಗೊಬ್ಬರವಾಗಿ ಕೊಡಬೇಕು.\\n\\nಬೆಳೆ ಹೂ ಬಿಡುವ ಹಂತದಲ್ಲಿ 2 2.2.00. ಸಾಮರ್ಥ್ಯದ 2, 4-ಡಿ now ಸಸ್ಯ ಪ್ರಚೋದಕವನ್ನು 15 ದಿನಗಳ ಅ೦ತರದಲ್ಲಿ\\nಎರಡು ಸಲ ಸಿಂಪರಣೆ ಕೈಗೊಳ್ಳುವುದರಿಂದ ಇಳುವರಿಯನ್ನು ಹೆಚ್ಚಿಸಬಹುದು.\\n\\x0cನೀರಾವರಿ ಮತ್ತು ಅ೦ತರ ಬೇಸಾಯ: ಸಸಿಗಳಿಗೆ 4-5 ದಿನಗಳಿಗೊಮ್ಮೆ ನೀರನ್ನು ಹಾಯಿಸಬೇಕು. ಪ್ರತಿ ಸಲ ಮೇಲುಗೊಬ್ಬರ ಕೊಟ್ಟ ಮೇಲೆ\\nಮಣ್ಣು ಏರಿಸಬೇಕು. ಭೂಮಿಯನ್ನು ಕಳೆರಹಿತವಾಗಿಡಬೇಕು.\\n\\nಕಳೆಗಳ ನಿರ್ವಹಣೆ\\n\\nಕಳೆಗಳು ಕಳೆನಾಶಕಗಳು ಪ್ರಮಾಣ\\n\\nಏಕದಳ/ದ್ವಿದಳ ಪ್ಲೂಕ್ಷೋರಾಲಿನ್\\u200c (ಪೂ) 10.0 ಲೀ. ಹೆ.\\n\\n(ಪೂ : ಕಳೆಗಳು ಬರುವ ಪೂರ್ವದಲ್ಲಿ)\\n\\nಸಸ್ಯ ಸಂರಕ್ಷಣೆ 2\\n\\nಕ್ರಸ೦. ಕೀಟಗಳು ಹಾನಿಯ ಲಕ್ಷಣಗಳು ನಿರ್ವಹಣೆ\\n\\n1... ಗುಲಗಂಜಿ ಹುಳು ದುಂಬಿಗಳು ಮತ್ತು ಮರಿ ಹುಳುಗಳು ಎಲೆಗಳನ್ನು ಬಾಧಿಸುತ್ತವೆ. ಸಸಿಮಡಿಯಲ್ಲಿ ಬಿತ್ತನೆಯಾದ ಮೂರು ವಾರಗಳ ನ೦ತರ\\n\\n2 ಜಿಗಿ ಹುಳು ಅಪ್ಸರೆ ಮತ್ತು ಜಿಗಿಹುಳುಗಳು ಎಲೆಗಳಿ೦ದ ರಸವನ್ನು ಹೀರುತ್ತವೆ. 1.7 ಮಿ.ಲೀ. ಡೈಮಿಥೋಯೇಟ್\\u200c 30 ಇ.ಸಿ. ಅಥವಾ\\nಇದರಿಂದ ಎಲೆಗಳು ಮುಟುರಾಗುತ್ತವೆ. ಈ ಕೀಟಗಳು “ಸಣ್ಣ 0.5 ಮಿ.ಲೀ. ಫಾಸ್ಪಮಿಡಾನ್\\u200c 40 ಇ.ಸಿ. ಅಥವಾ 2ಮಿ.ಲೀ.\\nಎಲೆ” ರೋಗವನ್ನು ಹರಡುತ್ತವೆ. ಕ್ವಿನಾಲ್\\u200cಫಾಸ್\\u200c 25 ಇ.ಸಿ. ಪ್ರತಿ ಲೀಟರ್\\u200c ನೀರಿಗೆ ಬೆರೆಸಿ\\n\\nಸಿಂಪಡಿಸಬೇಕು.\\n\\n3... ಹೇನು ಗುಂಪಾಗಿ ಹೇನುಗಳು ಎಳೆಯ ಎಲೆಗಳಿ೦ದ ಮತ್ತು ಹೂವಿನ -ಸದರ-\\nಮೊಗ್ಗುಗಳಿಂದ ರಸವನ್ನು ಹೀರುತ್ತವೆ. ನಂತರ ಈ ಭಾಗಗಳು\\nಒಣಗುತ್ತವೆ.\\n\\n4 ಹಿಟ್ಟು ತಿಗಣೆ ಬಿಳಿ ಹಿಟ್ಟಿನಂತಹ ತಿಗಣೆಗಳು ಎಲೆಗಳಿ೦ದ ರಸ ಹೀರುತ್ತವೆ. -ಸದರ-\\n\\n5 ಕಾ೦ಡ ಕೊರೆ\\nಯುವ ಹುಳು\\n\\nಎಲೆಗಳು ಹಳದಿಂಯಾಗಿ ಒಣಗುತ್ತವೆ.\\n\\nಮರಿಹುಳು ಟೊಂಗೆಗಳನ್ನು ಮತ್ತು ಕಾ೦ಡಗಳನ್ನು ಕೊರೆದು ತಿನ್ನುತ್ತದೆ.\\n\\nಇ೦ತಹ ಭಾಗಗಳು ಒಣಗುತ್ತವೆ. ನಂತರ ಗಿಡಗಳು ಸಾಯುತ್ತವೆ.\\n\\n6 ಕುಡಿ ಮತ್ತು ಕಾಯಿ ಮರಿಹುಳು ಎಲೆಯ ದೇಟು ಹಾಗೂ ಮಧ್ಯನರಗಳಲ್ಲಿ\\n\\nಕೊರೆಯುವ ಹುಳು ಕೊರೆದು ತಿನ್ನುತ್ತದೆ. ಇದರಿಂದ ಕುಡಿ ಜೋತು ಬಿದ್ದು ಒಣಗುತ್ತದೆ.\\n\\n7 ನುಸಿ\\n\\n8 ಗೊಣ್ಣೆ ಹುಳು\\nಣ\\n\\n9 ಮೂತಿಹುಳು\\n\\n10. ಕತ್ತರಿಸುವ ಹುಳು\\n\\nಹೂ ಮೊಗ್ಗುಗಳನ್ನು ಕೊರೆದು ತಿಣ್ನುವುದರಿ೦ದ ಮೊಗ್ಗುಗಳು ಕೆಳಗೆ\\nಬೀಳುತ್ತವೆ. ಕಾಯಿಯನ್ನು ಕೊರೆದು ಒಳಸೇರಿ ತಿನ್ನುತ್ತದೆ.\\nಕಾಯಿಗಳ ಮೇಲೆ ತೂತುಗಳನ್ನು ಮತ್ತು ಒಳಗಡೆ ಹಿಕ್ಕೆಯಿ೦ದ\\nಮುಚ್ಚಿದ ಕಪ್ಪುದ ಸುರಂಗವನ್ನು ಕಾಣಬಹುದು.\\n\\nಕೆ೦ಪು ಹೇಡ ನುಶಿಗಳು ಎಲೆಯ ಕೆಳಭಾಗದಲ್ಲಿ ಗುಂಪಿನಲ್ಲಿದ್ದು\\nರಸವನ್ನು ಹೀರುತ್ತವೆ. ಇಂತಹ ಎಲೆಗಳ ಮೇಲೆ ಬಿಳಿ\\nಮಚ್ಚೆಗಳಾಗುತ್ತವೆ. ನಂತರ ಹಳದಿಯಾಗಿ ಒಣಗಿ ಕೆಳಗೆ ಬೀಳುತ್ತವೆ.\\nಬಿಳಿ \"೦\\' ಆಕಾರದ ಮರಿಹುಳುಗಳು ಬೇರನ್ನು ತಿನ್ನುತ್ತವೆ.\\n\\nಗಿಡಗಳು ಹಳದಿಯಾಗಿ ನ೦ತರ ಒಣಗುತ್ತವೆ.\\n\\nಮೂತಿ ಹುಳುವಿನ ದುಂಬಿಗಳು ಎಲೆಗಳ cows, ಮಾತ್ರೆ ತಿನ್ನುತ್ತವೆ.\\n\\nಮರಿಹುಳುಗಳು ಬೇರುಗಳನ್ನು ತಿನ್ನುತ್ತವೆ.\\nಮರಿಹುಳು ಹೆಚ್ಚಾಗಿ ಸಸಿಗಳನ್ನು ಬಾದಿಸುತ್ತವೆ. ಕಾಂಡಗಳನ್ನು\\nಭೂಮಿಯ ಮೇಲ್ಭಾಗಕ್ಕೆ ಕತ್ತರಿಸುತ್ತವೆ. ಇದರಿ೦ದ ಸಸಿಗಳು\\nಕೆಳಗೆ ಬಿದ್ದು ಒಣಗುತ್ತವೆ.\\n\\nಮೇಲೆ ಸೂಚಿಸಿದ ಸಿ೦ಪರಣೆಯನ್ನು ಬಳಸಿ ನಾಟಿ\\n\\nಮಾಡಿದ 2 ಮತ್ತು 5 ವಾರಗಳ ನ೦ತರ ಮತ್ತೆ ಕೊಡಬೇಕು.\\nಕಾಯಿಬಿಡುವ ಸಮಯದಲ್ಲಿ 15 ದಿವಸಗಳ ಅ೦ತರದಲ್ಲಿ\\n2-3 ಸಾರಿ 4 ಗ್ರಾಂ ಕಾರ್ಬರಿಲ್\\u200c ಶೇ. 50 ಡಬ್ಬ್ಯೂ.ಿ.\\nಅಥವಾ 2. ಮಿ.ಲೀ. ಮೇಲಾಥಿಯಾನ್\\u200c 50 ಇ.ಸಿ. ಪ್ರತಿ\\nಲೀಟರ್\\u200c ನೀರಿಗೆ ಬೆರೆಸಿ ಸಿಂಪಡಿಸಿಬೇಕು.\\n\\nಪ್ರತಿ ಹೆಕ್ಟೇರಿಗೆ 250 ಕಿ.ಗ್ರಾಂ. ಬೇವಿನ ಹಿಂಡಿಯನ್ನು\\n\\nಸಸಿ ನಐಟಿ ಮಾಡುವ ಸಮಯದಲ್ಲಿ, ನಂತರ ಪ್ರತಿ\\nತಿಂಗಳಿಗೊಮ್ಮೆ ಎರಡು ಬಾರಿ ಮಣ್ಣಿನಲ್ಲಿ ಬೆರೆಸಬೇಕು.\\nನುಸಿಯ ಬಾಧೆ ಕಂಡು ಬ೦ದಲ್ಲಿ ಪ್ರತಿ ಲೀಟರ್\\u200c ನೀರಿಗೆ\\n\\n2.5 ಮಿ.ಲೀ. ಡೈಕೋಫಾಲ್\\u200c 20 ಇ.ಸಿ. ಸೇರಿಸಿ\\nಸಿ೦ಪಡಿಸಬೇಕು.\\n\\nಟೊಮ್ಯಾಟೊ ಬೆಳೆಗೆ ತಿಳಿಸಿದ ಕ್ರಮಗಳನ್ನು ಅನುಸರಿಸಿ\\nಮೂತಿಹಳು ಹತೋಟಿಗೆ 2 ಮಿ.ಲೀ. ಕ್ವೈನಾಲ್\\u200cಫಾಸ್\\u200c\\n\\n25 ಇ.ಸಿ. ಪ್ರತಿ ಲೀಟರ್\\u200c ನೀರಿಗೆ ಸೇರಿಸಿ ಸಿಂಪಡಿಸಬೇಕು.\\nಪ್ರತಿ ಲೀಟರ್\\u200c ನೀರಿಗೆ 2 ಮಿ.ಲೀ. ಕ್ವೋರೊಫೈರಿಫಾಸ್\\u200c\\n20 ಇ.ಸಿ. ಅಥವಾ ಕ್ವಿನಂಲ್\\u200c ಪಾಸ್\\u200c 25 ಇ.ಸಿ. ಬೆರೆಸಿ\\nಗಿಡದ ಸುತ್ತಲೂ ತೋಯಿಸಬೇಕು.\\n\\nಕ್ರಸ೦. ರೋಗಗಳು ಲಕ್ಷಣಗಳು ನಿರ್ವಹಣಾ ಕ್ರಮಗಳು\\n1 ಬೂದಿ ರೋಗ ಬಿಳಿ ಅಥವಾ ಬೂದು ಬಣ್ಣದ ಶಿಲೀಂಧ್ರವನ್ನು ಎಲೆಯಲ್ಲಿ ಬೂದಿ ರೋಗದ ಲಕ್ಷಣಗಳು ಕಂಡಲ್ಲಿ 3 ಗ್ರಾಂ ವೀರಿನಲ್ಲಿ\\nಕಾಣಬಹುದು. ನ೦ತರ ಈ ರೋಗವು ಎಲೆ ಪೂರ್ತಿ ಕರಗುವ ಗ೦ಧಕ ಶೇ. 80 ಅಥವಾ 1 ಗ್ರಾಂ ಬೆನೊಮಿಲ್\\u200c\\nಆವರಿಸಿಕೊಂಡು ಎಲೆಗಳು ಒಣಗುತ್ತವೆ. 50 ಡಬ್ಲ್ಯೂಪಿ. ಅಥವಾ ಕಾರ್ಬನ್\\u200cಡೈಜಿಮ್\\u200c ಪ್ರತಿ ಲೀಟರ್\\u200c\\nನೀರಿಗೆ ಬೆರಸಿ ಸಿಂಪಡಿಸಬೇಕು. 15 ದಿವಸಗಳ ನ೦ತರ\\nಮತ್ತೊಮ್ಮೆ ಇದೇ ಔಷಧಿಯನ್ನು ಸಿಂಪಡಿಸಬೇಕು. ಪ್ರತಿ\\nಹೆಕ್ಟೇರಿಗೆ 450 ರಿಂದ 530 ಲೀಟರ್\\u200c ಸಿ೦ಪರಣಾ ದ್ರಾವಣ\\nಬೇಕಾಗುತ್ತದೆ.\\n2. ಮಡಿಯಲ್ಲಿ ಸಸಿ Gent, Hood ಗಿಡದ ಕಾ೦ಡವು ಕಪ್ಪು ಅಥವಾ doc ಸಸಿ ಮಡಿಯಲ್ಲಿ ಸಸಿ ಸಾಯುವ ರೋಗವನ್ನು ಸಮಗ್ರವಾಗಿ\\nಸಾಯುವುದು ಬಣ್ಣದಿ೦ದ ಕೂಡಿದ್ದು ಆ ಮೇಲೆ ಗಿಡಗಳು ಕುಸಿದು ನೆಲಕ್ಕೆ ನಿರ್ವಹಿಸಲು ಏರು ಸಸಿ ಮಡಿಗಳನ್ನು ತಯಾರಿಸಿ ಸಾರಷ್ಟು\\n\\nಬೀಳುತ್ತವೆ.\\n\\nನೀರುಣಿಸಿ ಅದನ್ನು 400 - 500 ಗೇಜಿನ ಪಾರದರ್ಶಕ\\nಪಾಲಿಥೀನ್\\u200c ಪೇಪರಿನಿಂದ ಏಪ್ರಿಲ್\\u200c - ಮೇ ತಿಂಗಳುಗಳಲ್ಲಿ 6\\nಏಂರಗಳ ಕಾಲ ಮುಚ್ಚಿಡರ್ಬೇಕು. ಇದರಿಂದ ಮಣ್ಣಿನ\\nಉಷ್ಣಾರಶ ಹೆಚ್ಚಾಗಿ ಮಣ್ಣಿನಲ್ಲಿರುವ ಶಿಲೀಂಧ್ರ\\nರೋಗಂಣುಗಳು ಗಣನೀಯವಾಗಿ ನಾಶವಾಗುತ್ತವೆ.\\n\\n\\x0cಆರು ಎಂರಗಳ Hoss OSH ಮಾಡುಎಂಗ ಪ್ರತಿ ಕೆ. ಗ್ರಾಂ\\nಬೀಜವನ್ನು 6 ಗ್ರಾಂ ಮೆಟಲಾಕ್ಸಿಲ್\\u200c ಎಮ್\\u200c. ರುಡ್\\u200c. ನಿಂದ\\nಬೀಜೋಪಚಾರ ಮಾಡಬೇಕು. ತದನಂತರ ಪ್ರತಿ ಕಿ. ಗ್ರಾಂ\\nಬೀಜಕ್ಕೆ 4 ಗ್ರಾಂ ಟ್ರೈಕೋಡರ್ಮಾ ಜೀಎಂಣುವಿನಿಂದ\\nಲೇಪಿಸಬೇಕು. ಇದರಿಂದಾಗಿ ಸಸಿಗಳು ರೋಗ\\nರಹಿತವಾಗಿದ್ದು ಬಲಿಷ್ಟವಾಗಿ ಬೆಳೆಯುತ್ತವೆ. ಅಥವಾ ಬಿತ್ತನೆ\\nಬೀಜವನ್ನು 125 ಗ್ರಾಂ ಪಾದರಸ ಸ೦ಯುಕ್ತ ವಸ್ತುವಿನಿಂದ\\nಉಪಚರಿಸಬೇಕು.\\n\\n3. ಸಣ್ಣ ಎಲೆಗಳ ರೋಗಕ್ಕೆ ತುತ್ತಾದ ಗಿಡದಿಂದ ಎಲೆಗಳು ಸಣ್ಣಗಾಗಿ ಬೆಳವಣಿಗೆ ರೋಗ ಪೀಡಿತ ಗಿಡಗಳನ್ನು ಕಿತ್ತು ನಾಶಪಡಿಸಬೇಕು.\\n\\ndow ರೋಗ ಕು೦ಂಠಿತಗೊಳ್ಳುತ್ತವೆ. ರೋಗಕ್ಕೆ ತುತ್ತಾದ ಗಿಡಗಳು ಬ೦ಂಜೆಯಾಗುತ್ತವೆ. ರೋಗ ಹರಡುವ ಕೀಟಗಳ ಹತೋಟಿಗಾಗಿ ೬7 ಮಿ.ಲೀ\\n\\nಡೈಮಿಥೋಯೆಟ್\\u200c ಪ್ರತಿ ಲೀಟರ್\\u200c ನೀರಿನಲ್ಲಿ ಬೆರೆಸಿ\\n\\nಸಿಂಪಡಿಸಬೇಕು.\\n4 ಸ್ಮಿರೋಶಿಯಂ ರೋಗಕ್ಕೆ ತುತ್ತಾದ ಗಿಡವು ಹಳದಿ ಬಣ್ಣಕ್ಕೆ ತಿರುಗಿ ಬಿತ್ತನೆಗೆ ಮುನ್ನ ಸಾಕಷ್ಟು ಪ್ರಮಾಣದಲ್ಲಿ ಕೊಟ್ಟಿಗೆ ಗೊಬ್ಬರ\\nಕೊಳೆ ರೋಗ ಬಾಡುತ್ತದೆ. ಬುಡವು ನೀರಿನಿಂದ ಆವೃತವಾಗಿದ್ದು ಆ ಭಾಗವು ಹಾಗೂ ಟ್ರೈಕೋಡರ್ಮಾ ಜೈವಿಕ ಶಿಲೀಂಧ್ರ ನಾಶಕವನ್ನು\\nಕಪ್ಪು ಕಂದು ಬಣ್ಣಕ್ಕೆ ತಿರುಗುತ್ತದೆ. ನ೦ತರ ಗಿಡವು ಪೂರ್ತಿ (2 ಕಿ.ಗ್ರಾಂ ಪ್ರತಿ ಎಕರೆಗೆ) ಬೆರೆಸಿ ಭೂಮಿಯಲ್ಲಿ\\nಒಣಗುತ್ತದೆ. ಸೇರಿಸಬೇಕು.\\n5 ದುಂಡಾಣು ಗಿಡಗಳು ಹಳದಿ ಬಣ್ಣಕ್ಕೆ ತಿರುಗುತ್ತವೆ ಆ ಮೇಲೆ ಎಲೆಗಳು ಬಾಡಿ ಪದೇ ಪದೇ ದುಂಡಾಣು ಸೊರಗು ರೋಗ dom ಬರುವ\\nಸೊರಗು ರೋಗ ಗಿಡವು ಪೂರ್ತಿ ಒಣಗುತ್ತದೆ. ಪ್ರದೇಶದಲ್ಲಿ ದು೦ಡಾಣು ಸೊರಗು ರೋಗ ನಿರೋಧಕ\\n\\nತಳಿಗಳನ್ನು ಬೆಳೆಯಬೇಕು. ಬದನೆ ಬೆಳೆಯ ನ೦ತರ\\nಆಲೂಗಡ್ಡೆ. ಟೊಮ್ಯಾಟೊ, ಮೆಣಸಿನಕಾಯಿ ಮತ್ತು ತಂಬಾಕು\\nಬೆಳೆಯಬೇಡಿ. ದು೦ಡಾಣು ಸೊರಗು ರೋಗ ತಡೆಯಲು\\nಎರಡು ವರುಷಕ್ಕೊಂದು ಬಾರಿ ಬೆಳೆ ಪರಿವರ್ತಿಸಿ, ರಾಗಿ,\\nಮುಸುಕಿನ ಜೋಳ ಬೆಳೆಯಿರಿ. ನಾಟಿ ಮಾಡುವ ಮೊದಲು\\nಹೆಕ್ಟೇರಿಗೆ 15 ಕಿ.ಗ್ರಾಂ (ಬ್ಲೀಚೆ೦ಗೌ) ಮುಡಿಯನ್ನು ಮಣ್ಣಿನಲ್ಲಿ\\nಸೇರಿಸಿ ನೀರು ಹಾಯಿಸಬೇಕು.\\n\\n6 ಹಣ್ಣು ಕೊಳೆ ಸಣ್ಣನೆಯ ತಗ್ಗಾದ ಕಪ್ಪಾದ ಚುಕ್ಕೆಗಳನ್ನು ಕಾಣಬಹುದು. a i. ಮಡಿಯಲ್ಲಿ ಸಸಿ ಸಾಯುವ ರೋಗ ಮತ್ತು ಹಣ್ಣು\\nರೋಗ ಕೊಳೆರೋಗ ಲಕ್ಷಣಗಳು ಕ೦ಡಲ್ಲಿ 2 ಗ್ರಾಂ\\n\\nಮ್ಯಾಂಕೋಜೆಬ್\\u200c 75 ಡಬ್ಲ್ಯೂ.ಪಿ. ಪ್ರತಿ ಲೀಟರ್\\u200c ನೀರಿಗೆ\\nಸೇರಿಸಿ ಸಿ೦ಪಡಿಸಿ. ರೋಗ ಹತೋಟಿ ಪೂರ್ಣ ಆಗದಿದ್ದಲ್ಲಿ\\n15 ದಿವಸಕ್ಕೆ ಮತ್ತೊಮ್ಮೆ ಇದೇ ಸಿ೦ಪರಣೆ ಕೊಡಿ. ಪ್ರತಿ\\nಹೆಕ್ಟೇರಿಗೆ 450 - 530 ಲೀಟರ್\\u200c ಸಿಂಪರಣಾ ದ್ರಾವಣ\\n\\nಬಳಸಬೇಕು.\\n\\n7. ಎಲೆ ಚುಕ್ಕೆ ಸಣ್ಣ ವೃತ್ತಕಾರದ ಬೂದು ಬಣ್ಣದಿ೦ದ ನ೦ತರ ಕಂದು ಬಣ್ಣದ 2 ಗ್ರಾಂ ಮ್ಯಾಂಕೋಜೆಬ್\\u200c 75 ಡಬ್ಲ್ಯೂ. ಪಿ. ಅಥವಾ\\nರೋಗ ಚುಕ್ಕೆಗಳನ್ನು ಕಾಣಬಹುದು. 2 ಗ್ರಾಂ ಕ್ಷೋರೋಥೆಲೋನಿಲ್\\u200c 70 ಡಬ್ಲೂ.ಪಿ. ಪ್ರತಿ\\n\\nಲೀಟರ್\\u200c ನೀರಿಗೆ ಬೆರೆಸಿ ಸಿಂಪಡಿಸಬೇಕು.\\n\\n8 ದುಂಡಾಣು ಎಲೆಗಳ ಮೇಲೆ ಕಂದು ಬಣ್ಣದ ಚುಕ್ಕೆಗಳು ಹಳದಿ ಉಂಗುರದಿ೦ದ 0.5 ಗ್ರಾಂ ಸ್ಟೈಪ್ಟೋಮೈಸಿನ್\\u200c ಸಲ್ಪೇಟ್\\u200c ಮತ್ತು 3 ಗ್ರಾಂ\\nಎಲೆ ಚುಕ್ಕೆ ಆವೃತವಾಗಿದ್ದರತೆ ಕಂಡುಬ೦ದು ಎಲೆಗಳು ಒಣಗಿ ಉದುರುತವೆ. ತಂಮ್ರದ ಆಕ್ಷಿಕ್ಟೋರೈಡ್\\u200cನ್ನು ಪ್ರತಿ ಲೀಟರ್\\u200c ನೀರಿನಲ್ಲಿ\\nರೋಗ ಬೆರೆಸಿ 20 ದಿನಗಳ ಅಂತರದಲ್ಲಿ ಎರಡು ಸಲ\\n\\nಸಿಂಪಡಿಸಬೇಕು.\\n\\nಕೊಯ್ಲು ಮತ್ತು ಇಳುವರಿ : ಅರ್ಕಾ ಕುಸುಮಾಕರ್\\u200c, ಆರ್ಕಾ ಶಿರೀಶ್\\u200c, ಆರ್ಕಾ ನಿಧಿ, ಆರ್ಕಾ ಕೇಶವ, ಹೆಚ್ಚು ಇಳುವರಿ ಕೊಡುವತಳಿಗಳಾಗಿದ್ದು.\\nಪ್ರತಿ ಹೆಕ್ಟೇರಿಗೆ 30-40 ಟನ್\\u200c ಇಳುವರಿ ಬರುತ್ತದೆ. ಇತರೆ ತಳಿಗಳಿಂದ ಪ್ರತಿ ಹೆಕ್ಟೇರಿಗೆ 20 ಟನ್\\u200c ಇಳುವರಿ ಬರುತ್ತದೆ.\\n'}"
      ]
     },
     "execution_count": 21,
     "metadata": {},
     "output_type": "execute_result"
    }
   ],
   "source": [
    "res"
   ]
  },
  {
   "cell_type": "code",
   "execution_count": 8,
   "metadata": {},
   "outputs": [
    {
     "name": "stdout",
     "output_type": "stream",
     "text": [
      "Failed to translate text from ./POP_txt/KARNATAKA/Bangalore Rural/Bengaluru Rural/k0566_1.txt: 400 POST https://translation.googleapis.com/language/translate/v2?prettyPrint=false: Request payload size exceeds the limit: 204800 bytes.\n",
      "Failed to translate text from ./POP_txt/KARNATAKA/Koppal/Koppal/k0586_16.txt: 400 POST https://translation.googleapis.com/language/translate/v2?prettyPrint=false: Request payload size exceeds the limit: 204800 bytes.\n",
      "Failed to translate text from ./POP_txt/KARNATAKA/Koppal/Koppal/k0586_92.txt: 400 POST https://translation.googleapis.com/language/translate/v2?prettyPrint=false: Request payload size exceeds the limit: 204800 bytes.\n",
      "Failed to translate text from ./POP_txt/KARNATAKA/Uttara Kannada/Uttara Kannada/k0595_11.txt: 400 POST https://translation.googleapis.com/language/translate/v2?prettyPrint=false: Request payload size exceeds the limit: 204800 bytes.\n",
      "Failed to translate text from ./POP_txt/KARNATAKA/Uttara Kannada/Uttara Kannada/k0595_16.txt: 400 POST https://translation.googleapis.com/language/translate/v2?prettyPrint=false: Request payload size exceeds the limit: 204800 bytes.\n",
      "Failed to translate text from ./POP_txt/KARNATAKA/Raichur/Raichur/k0589_92.txt: 400 POST https://translation.googleapis.com/language/translate/v2?prettyPrint=false: Request payload size exceeds the limit: 204800 bytes.\n",
      "Failed to translate text from ./POP_txt/KARNATAKA/Raichur/Raichur/k0589_16.txt: 400 POST https://translation.googleapis.com/language/translate/v2?prettyPrint=false: Request payload size exceeds the limit: 204800 bytes.\n",
      "Failed to translate text from ./POP_txt/KARNATAKA/Raichur/Raichur/k0589_11.txt: 400 POST https://translation.googleapis.com/language/translate/v2?prettyPrint=false: Request payload size exceeds the limit: 204800 bytes.\n",
      "Failed to translate text from ./POP_txt/KARNATAKA/Mandya/Mandya/k0587_99.txt: 400 POST https://translation.googleapis.com/language/translate/v2?prettyPrint=false: Request payload size exceeds the limit: 204800 bytes.\n",
      "Failed to translate text from ./POP_txt/KARNATAKA/Chikkaballapura/Chikkaballapura/k0574_99.txt: 400 POST https://translation.googleapis.com/language/translate/v2?prettyPrint=false: Request payload size exceeds the limit: 204800 bytes.\n",
      "Failed to translate text from ./POP_txt/KARNATAKA/Belagavi/Belagavi2/k0568_21.txt: 400 POST https://translation.googleapis.com/language/translate/v2?prettyPrint=false: Request payload size exceeds the limit: 204800 bytes.\n",
      "Failed to translate text from ./POP_txt/KARNATAKA/Belagavi/Belagavi2/k0568_92.txt: 400 POST https://translation.googleapis.com/language/translate/v2?prettyPrint=false: Request payload size exceeds the limit: 204800 bytes.\n",
      "Failed to translate text from ./POP_txt/KARNATAKA/Belagavi/Belagavi2/k0568_16.txt: 400 POST https://translation.googleapis.com/language/translate/v2?prettyPrint=false: Request payload size exceeds the limit: 204800 bytes.\n",
      "Failed to translate text from ./POP_txt/KARNATAKA/Belagavi/Belagavi2/k0568_13.txt: 400 POST https://translation.googleapis.com/language/translate/v2?prettyPrint=false: Request payload size exceeds the limit: 204800 bytes.\n",
      "Failed to translate text from ./POP_txt/KARNATAKA/Belagavi/Belagavi2/k0568_11.txt: 400 POST https://translation.googleapis.com/language/translate/v2?prettyPrint=false: Request payload size exceeds the limit: 204800 bytes.\n",
      "Failed to translate text from ./POP_txt/KARNATAKA/Belagavi/Belagavi2/k0568_10.txt: 400 POST https://translation.googleapis.com/language/translate/v2?prettyPrint=false: Request payload size exceeds the limit: 204800 bytes.\n",
      "Total number of files: 235\n"
     ]
    }
   ],
   "source": [
    "import os\n",
    "from pdfminer.high_level import extract_text\n",
    "from langdetect import detect\n",
    "import os\n",
    "import html\n",
    "\n",
    "\n",
    "def trans_txt(input_dir, output_dir):\n",
    "    # Initialize a counter for the PDF files\n",
    "    file_count = 0\n",
    "\n",
    "    # Check and create the output directory if it does not exist\n",
    "    if not os.path.exists(output_dir):\n",
    "        os.makedirs(output_dir)\n",
    "\n",
    "    for root, dirs, files in os.walk(input_dir):\n",
    "        for file in files:\n",
    "            if file.lower().endswith(\".txt\"):\n",
    "                # Increment the counter for each PDF found\n",
    "                file_count += 1\n",
    "\n",
    "                # Construct the file paths\n",
    "                og_path = os.path.join(root, file)\n",
    "                rel_path = os.path.relpath(og_path, input_dir)\n",
    "                trans_path = os.path.join(output_dir, os.path.splitext(rel_path)[0] + \".txt\")\n",
    "                \n",
    "                # Skip extraction if the text file already exists\n",
    "                if os.path.exists(trans_path):\n",
    "                    print(f\"Text file already exists for {og_path}, skipping extraction.\")\n",
    "                    continue\n",
    "                \n",
    "                # Ensure the output directory exists\n",
    "                os.makedirs(os.path.dirname(trans_path), exist_ok=True)\n",
    "\n",
    "                try:\n",
    "                    f = open(og_path, 'r')\n",
    "                    res = translate_text('en',f.read())\n",
    "                    fw = open(trans_path, 'w')\n",
    "                    fw.write(html.unescape(res['translatedText']))\n",
    "                    fw.close()\n",
    "                    f.close()\n",
    "                except Exception as e:\n",
    "                    print(f\"Failed to translate text from {og_path}: {e}\")\n",
    "        \n",
    "\n",
    "    # Return the total number of PDFs processed\n",
    "    return file_count\n",
    "\n",
    "# Set the directory containing the PDFs and the directory to save the text files\n",
    "input_directory = \"./POP_txt\"  # Replace with your PDFs folder path\n",
    "output_directory = \"./POP_en_txt\"  # Replace with your desired output folder path\n",
    "number_of_files = trans_txt(input_directory, output_directory)\n",
    "print(f\"Total number of files: {number_of_files}\")"
   ]
  },
  {
   "cell_type": "code",
   "execution_count": null,
   "metadata": {},
   "outputs": [],
   "source": [
    "import os\n",
    "from pdfminer.high_level import extract_text\n",
    "from langdetect import detect\n",
    "import os\n",
    "import subprocess\n",
    "\n",
    "def is_english(text):\n",
    "    try:\n",
    "        return detect(text) == 'en'\n",
    "    except:\n",
    "        return False\n",
    "\n",
    "def extract_text_from_pdfs(input_dir, output_dir):\n",
    "    # Initialize a counter for the PDF files\n",
    "    pdf_count = 0\n",
    "\n",
    "    # Check and create the output directory if it does not exist\n",
    "    if not os.path.exists(output_dir):\n",
    "        os.makedirs(output_dir)\n",
    "\n",
    "    for root, dirs, files in os.walk(input_dir):\n",
    "        for file in files:\n",
    "            if file.lower().endswith(\".pdf\"):\n",
    "                # Increment the counter for each PDF found\n",
    "                pdf_count += 1\n",
    "\n",
    "                # Construct the file paths\n",
    "                pdf_path = os.path.join(root, file)\n",
    "                rel_path = os.path.relpath(pdf_path, input_dir)\n",
    "                txt_path = os.path.join(output_dir, os.path.splitext(rel_path)[0] + \".txt\")\n",
    "                \n",
    "                # Skip extraction if the text file already exists\n",
    "                if os.path.exists(txt_path):\n",
    "                    print(f\"Text file already exists for {pdf_path}, skipping extraction.\")\n",
    "                    continue\n",
    "                \n",
    "                # Ensure the output directory exists\n",
    "                os.makedirs(os.path.dirname(txt_path), exist_ok=True)\n",
    "\n",
    "                # Extract text from the PDF and write it to the text file\n",
    "                \n",
    "\n",
    "                try:\n",
    "                    print(f\"{txt_path} {pdf_path}\")\n",
    "                    # break\n",
    "                    subprocess.run([\"ocrmypdf\",\"-l\", \"eng+kan\", \"--force-ocr\", \"--sidecar\", txt_path, pdf_path, pdf_path ])\n",
    "                    # os.system(f\"ocrmypdf -l eng+kan --force-ocr --sidecar {txt_path} {pdf_path} {pdf_path}\")\n",
    "                except Exception as e:\n",
    "                    print(f\"Failed to extract text from {pdf_path}: {e}\")\n",
    "        \n",
    "\n",
    "    # Return the total number of PDFs processed\n",
    "    return pdf_count\n",
    "\n",
    "# Set the directory containing the PDFs and the directory to save the text files\n",
    "input_directory = \"./POP\"  # Replace with your PDFs folder path\n",
    "output_directory = \"./POP_txt\"  # Replace with your desired output folder path\n",
    "number_of_pdfs = extract_text_from_pdfs(input_directory, output_directory)\n",
    "print(f\"Total number of PDFs: {number_of_pdfs}\")"
   ]
  },
  {
   "cell_type": "code",
   "execution_count": 1,
   "metadata": {},
   "outputs": [],
   "source": [
    "import os"
   ]
  },
  {
   "cell_type": "code",
   "execution_count": 4,
   "metadata": {},
   "outputs": [],
   "source": [
    "def get_number_of_files(dir) :\n",
    "    fc = 0\n",
    "    for root, dir, files in os.walk(dir) :\n",
    "        for file in files :\n",
    "            fc+=1\n",
    "    return fc"
   ]
  },
  {
   "cell_type": "code",
   "execution_count": 7,
   "metadata": {},
   "outputs": [
    {
     "name": "stdout",
     "output_type": "stream",
     "text": [
      "235\n",
      "5701\n",
      "1474\n",
      "221\n"
     ]
    }
   ],
   "source": [
    "dirs = [\"./pop_ocr\", \"kvk_pop\", \"kvk_text_data\", \"pop_en_txt\"]\n",
    "for dir in dirs :\n",
    "    print(get_number_of_files(dir))"
   ]
  }
 ],
 "metadata": {
  "kernelspec": {
   "display_name": "Python 3",
   "language": "python",
   "name": "python3"
  },
  "language_info": {
   "codemirror_mode": {
    "name": "ipython",
    "version": 3
   },
   "file_extension": ".py",
   "mimetype": "text/x-python",
   "name": "python",
   "nbconvert_exporter": "python",
   "pygments_lexer": "ipython3",
   "version": "3.11.9"
  }
 },
 "nbformat": 4,
 "nbformat_minor": 2
}
